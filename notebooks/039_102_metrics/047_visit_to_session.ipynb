{
 "metadata": {
  "language_info": {
   "codemirror_mode": {
    "name": "ipython",
    "version": 3
   },
   "file_extension": ".py",
   "mimetype": "text/x-python",
   "name": "python",
   "nbconvert_exporter": "python",
   "pygments_lexer": "ipython3",
   "version": "3.6.7-final"
  },
  "orig_nbformat": 2,
  "kernelspec": {
   "name": "python36764bitvenvvirtualenv502c06d1f3ea48019a24bffed590f02e",
   "display_name": "Python 3.6.7 64-bit ('venv': virtualenv)",
   "language": "python"
  }
 },
 "nbformat": 4,
 "nbformat_minor": 2,
 "cells": [
  {
   "source": [
    "# Visit to Session\n",
    "## Introduction\n",
    "A visit is a continuous set of events that the user registers in the logs, typically with a unique id associated with a vist. For example, a visit immediately followed by a purchase would count as a visit and is expected to use the same visit/session id. This is because a user cannot purchase an item without viewing it first. A view->cart->purchase sequence of events can however be split across two visits as long as the carted item is accessible in the next visit.\n",
    "\n",
    "If multiple visits are separated by short spans of time, it may be preferable to analyze the logs of such visits together. Therefore, we define the term session which will be groups of visits that are analyzed together.\n",
    "\n",
    "## Setup"
   ],
   "cell_type": "markdown",
   "metadata": {}
  },
  {
   "cell_type": "code",
   "execution_count": 1,
   "metadata": {},
   "outputs": [],
   "source": [
    "import glob\n",
    "import matplotlib.pyplot as plt \n",
    "import numpy as np\n",
    "import pandas as pd \n",
    "import pyarrow.feather as feather\n",
    "import seaborn as sns\n",
    "\n",
    "%matplotlib inline"
   ]
  },
  {
   "cell_type": "code",
   "execution_count": 2,
   "metadata": {},
   "outputs": [],
   "source": [
    "FEATHER_PATH = \"../../data/2019-Oct.feather\"\n",
    "np.random.seed(101)"
   ]
  },
  {
   "cell_type": "code",
   "execution_count": 3,
   "metadata": {},
   "outputs": [
    {
     "output_type": "stream",
     "name": "stdout",
     "text": [
      "CPU times: user 13.2 s, sys: 8.35 s, total: 21.6 s\nWall time: 46.4 s\n"
     ]
    }
   ],
   "source": [
    "%%time\n",
    "data = feather.read_feather(FEATHER_PATH)"
   ]
  },
  {
   "source": [
    "## Filtering\n",
    "We'll randomly sample a small subset of users in order to speed up analysis. "
   ],
   "cell_type": "markdown",
   "metadata": {}
  },
  {
   "cell_type": "code",
   "execution_count": 4,
   "metadata": {},
   "outputs": [
    {
     "output_type": "stream",
     "name": "stdout",
     "text": [
      "Total number of users: 3022290\n"
     ]
    }
   ],
   "source": [
    "print(\"Total number of users:\",len(data['user_id'].unique()))\n",
    "\n",
    "sampled_users = np.random.choice(data['user_id'].unique(), size=10000, replace=False)"
   ]
  },
  {
   "source": [
    "Deleting the following cell should not break the rest of the code, although things would run much slower."
   ],
   "cell_type": "markdown",
   "metadata": {}
  },
  {
   "cell_type": "code",
   "execution_count": 5,
   "metadata": {},
   "outputs": [
    {
     "output_type": "stream",
     "name": "stdout",
     "text": [
      "Total number of users: 10000\n"
     ]
    }
   ],
   "source": [
    "data = data[data['user_id'].isin(sampled_users)]\n",
    "print(\"Total number of users:\",len(data['user_id'].unique()))"
   ]
  },
  {
   "source": [
    "## Analyzing the visits\n",
    "In order to stick to the definitions of the source material, let's rename the 'user_session' field to 'visit_id'."
   ],
   "cell_type": "markdown",
   "metadata": {}
  },
  {
   "cell_type": "code",
   "execution_count": 6,
   "metadata": {},
   "outputs": [],
   "source": [
    "data.rename(columns = {\"user_session\":\"visit_id\"}, inplace=True)"
   ]
  },
  {
   "cell_type": "code",
   "execution_count": 7,
   "metadata": {},
   "outputs": [
    {
     "output_type": "stream",
     "name": "stdout",
     "text": [
      "Average number of events logged per visit: 4.495635660980811\n"
     ]
    }
   ],
   "source": [
    "print(\"Average number of events logged per visit:\", len(data)/len(data['visit_id'].unique()) )"
   ]
  },
  {
   "cell_type": "code",
   "execution_count": 8,
   "metadata": {},
   "outputs": [
    {
     "output_type": "stream",
     "name": "stdout",
     "text": [
      "Average number of visits per user: 3.0016\n"
     ]
    }
   ],
   "source": [
    "print(\"Average number of visits per user:\", len(data['visit_id'].unique())/len(data['user_id'].unique()) )"
   ]
  },
  {
   "cell_type": "code",
   "execution_count": 9,
   "metadata": {},
   "outputs": [
    {
     "output_type": "stream",
     "name": "stdout",
     "text": [
      "Maximum number of visits by a single user: 73\n"
     ]
    }
   ],
   "source": [
    "print(\n",
    "    \"Maximum number of visits by a single user:\", \n",
    "    data.groupby('user_id')['visit_id'].nunique().max() \n",
    "    )"
   ]
  },
  {
   "cell_type": "code",
   "execution_count": 10,
   "metadata": {},
   "outputs": [
    {
     "output_type": "execute_result",
     "data": {
      "text/plain": [
       "                  event_time event_type  product_id          category_id  \\\n",
       "17   2019-10-01 00:00:18 UTC       view    10900029  2053013555069845885   \n",
       "224  2019-10-01 00:03:07 UTC       view     1004874  2053013555631882655   \n",
       "312  2019-10-01 00:04:43 UTC       view     1004870  2053013555631882655   \n",
       "398  2019-10-01 00:06:20 UTC       view     1004874  2053013555631882655   \n",
       "400  2019-10-01 00:06:25 UTC       view    10900029  2053013555069845885   \n",
       "\n",
       "                category_code    brand   price    user_id  \\\n",
       "17   appliances.kitchen.mixer    bosch   58.95  519528062   \n",
       "224    electronics.smartphone  samsung  383.51  519528062   \n",
       "312    electronics.smartphone  samsung  286.86  519528062   \n",
       "398    electronics.smartphone  samsung  383.51  519528062   \n",
       "400  appliances.kitchen.mixer    bosch   58.95  519528062   \n",
       "\n",
       "                                 visit_id  \n",
       "17   901b9e3c-3f8f-4147-a442-c25d5c5ed332  \n",
       "224  901b9e3c-3f8f-4147-a442-c25d5c5ed332  \n",
       "312  901b9e3c-3f8f-4147-a442-c25d5c5ed332  \n",
       "398  901b9e3c-3f8f-4147-a442-c25d5c5ed332  \n",
       "400  901b9e3c-3f8f-4147-a442-c25d5c5ed332  "
      ],
      "text/html": "<div>\n<style scoped>\n    .dataframe tbody tr th:only-of-type {\n        vertical-align: middle;\n    }\n\n    .dataframe tbody tr th {\n        vertical-align: top;\n    }\n\n    .dataframe thead th {\n        text-align: right;\n    }\n</style>\n<table border=\"1\" class=\"dataframe\">\n  <thead>\n    <tr style=\"text-align: right;\">\n      <th></th>\n      <th>event_time</th>\n      <th>event_type</th>\n      <th>product_id</th>\n      <th>category_id</th>\n      <th>category_code</th>\n      <th>brand</th>\n      <th>price</th>\n      <th>user_id</th>\n      <th>visit_id</th>\n    </tr>\n  </thead>\n  <tbody>\n    <tr>\n      <th>17</th>\n      <td>2019-10-01 00:00:18 UTC</td>\n      <td>view</td>\n      <td>10900029</td>\n      <td>2053013555069845885</td>\n      <td>appliances.kitchen.mixer</td>\n      <td>bosch</td>\n      <td>58.95</td>\n      <td>519528062</td>\n      <td>901b9e3c-3f8f-4147-a442-c25d5c5ed332</td>\n    </tr>\n    <tr>\n      <th>224</th>\n      <td>2019-10-01 00:03:07 UTC</td>\n      <td>view</td>\n      <td>1004874</td>\n      <td>2053013555631882655</td>\n      <td>electronics.smartphone</td>\n      <td>samsung</td>\n      <td>383.51</td>\n      <td>519528062</td>\n      <td>901b9e3c-3f8f-4147-a442-c25d5c5ed332</td>\n    </tr>\n    <tr>\n      <th>312</th>\n      <td>2019-10-01 00:04:43 UTC</td>\n      <td>view</td>\n      <td>1004870</td>\n      <td>2053013555631882655</td>\n      <td>electronics.smartphone</td>\n      <td>samsung</td>\n      <td>286.86</td>\n      <td>519528062</td>\n      <td>901b9e3c-3f8f-4147-a442-c25d5c5ed332</td>\n    </tr>\n    <tr>\n      <th>398</th>\n      <td>2019-10-01 00:06:20 UTC</td>\n      <td>view</td>\n      <td>1004874</td>\n      <td>2053013555631882655</td>\n      <td>electronics.smartphone</td>\n      <td>samsung</td>\n      <td>383.51</td>\n      <td>519528062</td>\n      <td>901b9e3c-3f8f-4147-a442-c25d5c5ed332</td>\n    </tr>\n    <tr>\n      <th>400</th>\n      <td>2019-10-01 00:06:25 UTC</td>\n      <td>view</td>\n      <td>10900029</td>\n      <td>2053013555069845885</td>\n      <td>appliances.kitchen.mixer</td>\n      <td>bosch</td>\n      <td>58.95</td>\n      <td>519528062</td>\n      <td>901b9e3c-3f8f-4147-a442-c25d5c5ed332</td>\n    </tr>\n  </tbody>\n</table>\n</div>"
     },
     "metadata": {},
     "execution_count": 10
    }
   ],
   "source": [
    "data.head()"
   ]
  },
  {
   "source": [
    "## Creating Sessions out of visits\n",
    "### Creating Visits\n",
    "Let's define a session to be a group of visits that are no more than 30 minutes apart. First, let's get the start and end times of each session."
   ],
   "cell_type": "markdown",
   "metadata": {}
  },
  {
   "cell_type": "code",
   "execution_count": 11,
   "metadata": {},
   "outputs": [
    {
     "output_type": "execute_result",
     "data": {
      "text/plain": [
       "                                        user_id               start_time  \\\n",
       "visit_id                                                                   \n",
       "0004877e-8ef5-4ffd-90bf-d293b9973991  513325471  2019-10-01 05:29:03 UTC   \n",
       "000bf4a0-654a-45a0-853f-eeae0df45d26  536331032  2019-10-06 17:05:12 UTC   \n",
       "000eb398-bae9-43a2-a244-8753155ef1f1  519491226  2019-10-31 08:53:21 UTC   \n",
       "00103afe-d940-42d8-be96-d1fdab2a4c53  556517838  2019-10-06 20:04:02 UTC   \n",
       "00118c0a-8c6d-483c-84e5-1ca82e173513  518652214  2019-10-13 19:55:15 UTC   \n",
       "\n",
       "                                                     end_time  \n",
       "visit_id                                                       \n",
       "0004877e-8ef5-4ffd-90bf-d293b9973991  2019-10-01 05:29:03 UTC  \n",
       "000bf4a0-654a-45a0-853f-eeae0df45d26  2019-10-06 17:06:32 UTC  \n",
       "000eb398-bae9-43a2-a244-8753155ef1f1  2019-10-31 08:53:21 UTC  \n",
       "00103afe-d940-42d8-be96-d1fdab2a4c53  2019-10-06 20:04:02 UTC  \n",
       "00118c0a-8c6d-483c-84e5-1ca82e173513  2019-10-13 20:30:38 UTC  "
      ],
      "text/html": "<div>\n<style scoped>\n    .dataframe tbody tr th:only-of-type {\n        vertical-align: middle;\n    }\n\n    .dataframe tbody tr th {\n        vertical-align: top;\n    }\n\n    .dataframe thead th {\n        text-align: right;\n    }\n</style>\n<table border=\"1\" class=\"dataframe\">\n  <thead>\n    <tr style=\"text-align: right;\">\n      <th></th>\n      <th>user_id</th>\n      <th>start_time</th>\n      <th>end_time</th>\n    </tr>\n    <tr>\n      <th>visit_id</th>\n      <th></th>\n      <th></th>\n      <th></th>\n    </tr>\n  </thead>\n  <tbody>\n    <tr>\n      <th>0004877e-8ef5-4ffd-90bf-d293b9973991</th>\n      <td>513325471</td>\n      <td>2019-10-01 05:29:03 UTC</td>\n      <td>2019-10-01 05:29:03 UTC</td>\n    </tr>\n    <tr>\n      <th>000bf4a0-654a-45a0-853f-eeae0df45d26</th>\n      <td>536331032</td>\n      <td>2019-10-06 17:05:12 UTC</td>\n      <td>2019-10-06 17:06:32 UTC</td>\n    </tr>\n    <tr>\n      <th>000eb398-bae9-43a2-a244-8753155ef1f1</th>\n      <td>519491226</td>\n      <td>2019-10-31 08:53:21 UTC</td>\n      <td>2019-10-31 08:53:21 UTC</td>\n    </tr>\n    <tr>\n      <th>00103afe-d940-42d8-be96-d1fdab2a4c53</th>\n      <td>556517838</td>\n      <td>2019-10-06 20:04:02 UTC</td>\n      <td>2019-10-06 20:04:02 UTC</td>\n    </tr>\n    <tr>\n      <th>00118c0a-8c6d-483c-84e5-1ca82e173513</th>\n      <td>518652214</td>\n      <td>2019-10-13 19:55:15 UTC</td>\n      <td>2019-10-13 20:30:38 UTC</td>\n    </tr>\n  </tbody>\n</table>\n</div>"
     },
     "metadata": {},
     "execution_count": 11
    }
   ],
   "source": [
    "grouped = data.groupby('visit_id')\n",
    "visits = pd.DataFrame(\n",
    "    data = [\n",
    "        grouped['user_id'].min() # max also fine\n",
    "        ,grouped['event_time'].min()\n",
    "        ,grouped['event_time'].max()\n",
    "    ]\n",
    "    ,index = [\n",
    "        \"user_id\"\n",
    "        ,\"start_time\"\n",
    "        ,\"end_time\"\n",
    "    ]\n",
    ").T\n",
    "del grouped\n",
    "visits.head()"
   ]
  },
  {
   "cell_type": "code",
   "execution_count": 12,
   "metadata": {},
   "outputs": [],
   "source": [
    "visits['start_time'] = visits['start_time'].apply(pd.to_datetime)\n",
    "visits['end_time'] = visits['end_time'].apply(pd.to_datetime)\n",
    "visits['duration'] = (visits['end_time'] - visits['start_time']).dt.seconds"
   ]
  },
  {
   "cell_type": "code",
   "execution_count": 13,
   "metadata": {},
   "outputs": [
    {
     "output_type": "stream",
     "name": "stdout",
     "text": [
      "Describing the approximate duration in minutes, we get:\n"
     ]
    },
    {
     "output_type": "execute_result",
     "data": {
      "text/plain": [
       "count     500.0\n",
       "mean        7.0\n",
       "std        49.0\n",
       "min         0.0\n",
       "25%         0.0\n",
       "50%         1.0\n",
       "75%         4.0\n",
       "max      1423.0\n",
       "Name: duration, dtype: float64"
      ]
     },
     "metadata": {},
     "execution_count": 13
    }
   ],
   "source": [
    "print(\"Describing the approximate duration in minutes, we get:\")\n",
    "round(visits['duration'].describe() / 60)"
   ]
  },
  {
   "cell_type": "code",
   "execution_count": 14,
   "metadata": {},
   "outputs": [
    {
     "output_type": "stream",
     "name": "stdout",
     "text": [
      "Median dwell time of the user in seconds: 63.0\n"
     ]
    }
   ],
   "source": [
    "print(\"Median dwell time of the user in seconds:\",visits['duration'].describe().loc['50%'])"
   ]
  },
  {
   "source": [
    "### From visit to session"
   ],
   "cell_type": "markdown",
   "metadata": {}
  },
  {
   "cell_type": "code",
   "execution_count": 15,
   "metadata": {},
   "outputs": [
    {
     "output_type": "stream",
     "name": "stdout",
     "text": [
      "CPU times: user 1min 51s, sys: 590 ms, total: 1min 51s\nWall time: 1min 52s\n"
     ]
    }
   ],
   "source": [
    "%%time\n",
    "\n",
    "next_visit = {}\n",
    "time_to_next_visit = {}\n",
    "\n",
    "for index, row in visits.iterrows():\n",
    "    future_visits = visits[(visits['user_id']==row['user_id']) & (visits['start_time']>=row['end_time']) & (visits['start_time']>row['start_time'])]\n",
    "    if len(future_visits) == 0:\n",
    "            next_visit[index] = np.nan \n",
    "            time_to_next_visit[index] = np.nan \n",
    "    else:\n",
    "        next_visit[index] = (future_visits['start_time']-row['end_time']).dt.seconds.idxmin() \n",
    "        time_to_next_visit[index] = (future_visits.loc[next_visit[index]]['start_time']-row['end_time']).seconds "
   ]
  },
  {
   "cell_type": "code",
   "execution_count": 16,
   "metadata": {},
   "outputs": [
    {
     "output_type": "execute_result",
     "data": {
      "text/plain": [
       "                                        user_id                start_time  \\\n",
       "visit_id                                                                    \n",
       "0004877e-8ef5-4ffd-90bf-d293b9973991  513325471 2019-10-01 05:29:03+00:00   \n",
       "000bf4a0-654a-45a0-853f-eeae0df45d26  536331032 2019-10-06 17:05:12+00:00   \n",
       "000eb398-bae9-43a2-a244-8753155ef1f1  519491226 2019-10-31 08:53:21+00:00   \n",
       "00103afe-d940-42d8-be96-d1fdab2a4c53  556517838 2019-10-06 20:04:02+00:00   \n",
       "00118c0a-8c6d-483c-84e5-1ca82e173513  518652214 2019-10-13 19:55:15+00:00   \n",
       "\n",
       "                                                      end_time  duration  \\\n",
       "visit_id                                                                   \n",
       "0004877e-8ef5-4ffd-90bf-d293b9973991 2019-10-01 05:29:03+00:00         0   \n",
       "000bf4a0-654a-45a0-853f-eeae0df45d26 2019-10-06 17:06:32+00:00        80   \n",
       "000eb398-bae9-43a2-a244-8753155ef1f1 2019-10-31 08:53:21+00:00         0   \n",
       "00103afe-d940-42d8-be96-d1fdab2a4c53 2019-10-06 20:04:02+00:00         0   \n",
       "00118c0a-8c6d-483c-84e5-1ca82e173513 2019-10-13 20:30:38+00:00      2123   \n",
       "\n",
       "                                                             next_visit_id  \\\n",
       "visit_id                                                                     \n",
       "0004877e-8ef5-4ffd-90bf-d293b9973991  865de13b-c0ec-4d9b-9ceb-92e7818dbe1f   \n",
       "000bf4a0-654a-45a0-853f-eeae0df45d26  2a349a74-5a33-4bc5-9199-eb184e366389   \n",
       "000eb398-bae9-43a2-a244-8753155ef1f1                                   NaN   \n",
       "00103afe-d940-42d8-be96-d1fdab2a4c53                                   NaN   \n",
       "00118c0a-8c6d-483c-84e5-1ca82e173513  97ce1822-fda7-4661-867f-30e4a0eb2bd6   \n",
       "\n",
       "                                      time_to_next_visit  \n",
       "visit_id                                                  \n",
       "0004877e-8ef5-4ffd-90bf-d293b9973991              1900.0  \n",
       "000bf4a0-654a-45a0-853f-eeae0df45d26              1799.0  \n",
       "000eb398-bae9-43a2-a244-8753155ef1f1                 NaN  \n",
       "00103afe-d940-42d8-be96-d1fdab2a4c53                 NaN  \n",
       "00118c0a-8c6d-483c-84e5-1ca82e173513             40592.0  "
      ],
      "text/html": "<div>\n<style scoped>\n    .dataframe tbody tr th:only-of-type {\n        vertical-align: middle;\n    }\n\n    .dataframe tbody tr th {\n        vertical-align: top;\n    }\n\n    .dataframe thead th {\n        text-align: right;\n    }\n</style>\n<table border=\"1\" class=\"dataframe\">\n  <thead>\n    <tr style=\"text-align: right;\">\n      <th></th>\n      <th>user_id</th>\n      <th>start_time</th>\n      <th>end_time</th>\n      <th>duration</th>\n      <th>next_visit_id</th>\n      <th>time_to_next_visit</th>\n    </tr>\n    <tr>\n      <th>visit_id</th>\n      <th></th>\n      <th></th>\n      <th></th>\n      <th></th>\n      <th></th>\n      <th></th>\n    </tr>\n  </thead>\n  <tbody>\n    <tr>\n      <th>0004877e-8ef5-4ffd-90bf-d293b9973991</th>\n      <td>513325471</td>\n      <td>2019-10-01 05:29:03+00:00</td>\n      <td>2019-10-01 05:29:03+00:00</td>\n      <td>0</td>\n      <td>865de13b-c0ec-4d9b-9ceb-92e7818dbe1f</td>\n      <td>1900.0</td>\n    </tr>\n    <tr>\n      <th>000bf4a0-654a-45a0-853f-eeae0df45d26</th>\n      <td>536331032</td>\n      <td>2019-10-06 17:05:12+00:00</td>\n      <td>2019-10-06 17:06:32+00:00</td>\n      <td>80</td>\n      <td>2a349a74-5a33-4bc5-9199-eb184e366389</td>\n      <td>1799.0</td>\n    </tr>\n    <tr>\n      <th>000eb398-bae9-43a2-a244-8753155ef1f1</th>\n      <td>519491226</td>\n      <td>2019-10-31 08:53:21+00:00</td>\n      <td>2019-10-31 08:53:21+00:00</td>\n      <td>0</td>\n      <td>NaN</td>\n      <td>NaN</td>\n    </tr>\n    <tr>\n      <th>00103afe-d940-42d8-be96-d1fdab2a4c53</th>\n      <td>556517838</td>\n      <td>2019-10-06 20:04:02+00:00</td>\n      <td>2019-10-06 20:04:02+00:00</td>\n      <td>0</td>\n      <td>NaN</td>\n      <td>NaN</td>\n    </tr>\n    <tr>\n      <th>00118c0a-8c6d-483c-84e5-1ca82e173513</th>\n      <td>518652214</td>\n      <td>2019-10-13 19:55:15+00:00</td>\n      <td>2019-10-13 20:30:38+00:00</td>\n      <td>2123</td>\n      <td>97ce1822-fda7-4661-867f-30e4a0eb2bd6</td>\n      <td>40592.0</td>\n    </tr>\n  </tbody>\n</table>\n</div>"
     },
     "metadata": {},
     "execution_count": 16
    }
   ],
   "source": [
    "visits['next_visit_id'] = visits.index.map(next_visit)\n",
    "visits['time_to_next_visit'] = visits.index.map(time_to_next_visit)\n",
    "visits.head()"
   ]
  },
  {
   "cell_type": "code",
   "execution_count": 17,
   "metadata": {},
   "outputs": [],
   "source": [
    "TIME_DIFF = 60 * 30 # 30 mins"
   ]
  },
  {
   "cell_type": "code",
   "execution_count": 18,
   "metadata": {},
   "outputs": [],
   "source": [
    "# %%time\n",
    "\n",
    "last_visit_in_sessions = {} # key: any visit id; value: the last visit id of the corresponding session\n",
    "\n",
    "for index, row in visits.iterrows():\n",
    "    current_index = index\n",
    "    current_row = row\n",
    "    session = []\n",
    "\n",
    "    while current_row['time_to_next_visit'] < TIME_DIFF:\n",
    "        if current_index in last_visit_in_sessions:\n",
    "            break\n",
    "        session.append(current_index)\n",
    "\n",
    "        current_index = current_row['next_visit_id']\n",
    "        current_row = visits.loc[current_index]\n",
    "\n",
    "    session.append(current_index)\n",
    "    last_visit_in_sessions.update(dict.fromkeys(session, last_visit_in_sessions.get(current_index, current_index)))\n"
   ]
  },
  {
   "cell_type": "code",
   "execution_count": 19,
   "metadata": {},
   "outputs": [
    {
     "output_type": "execute_result",
     "data": {
      "text/plain": [
       "                                        user_id                start_time  \\\n",
       "visit_id                                                                    \n",
       "0004877e-8ef5-4ffd-90bf-d293b9973991  513325471 2019-10-01 05:29:03+00:00   \n",
       "000bf4a0-654a-45a0-853f-eeae0df45d26  536331032 2019-10-06 17:05:12+00:00   \n",
       "000eb398-bae9-43a2-a244-8753155ef1f1  519491226 2019-10-31 08:53:21+00:00   \n",
       "00103afe-d940-42d8-be96-d1fdab2a4c53  556517838 2019-10-06 20:04:02+00:00   \n",
       "00118c0a-8c6d-483c-84e5-1ca82e173513  518652214 2019-10-13 19:55:15+00:00   \n",
       "\n",
       "                                                      end_time  duration  \\\n",
       "visit_id                                                                   \n",
       "0004877e-8ef5-4ffd-90bf-d293b9973991 2019-10-01 05:29:03+00:00         0   \n",
       "000bf4a0-654a-45a0-853f-eeae0df45d26 2019-10-06 17:06:32+00:00        80   \n",
       "000eb398-bae9-43a2-a244-8753155ef1f1 2019-10-31 08:53:21+00:00         0   \n",
       "00103afe-d940-42d8-be96-d1fdab2a4c53 2019-10-06 20:04:02+00:00         0   \n",
       "00118c0a-8c6d-483c-84e5-1ca82e173513 2019-10-13 20:30:38+00:00      2123   \n",
       "\n",
       "                                                             next_visit_id  \\\n",
       "visit_id                                                                     \n",
       "0004877e-8ef5-4ffd-90bf-d293b9973991  865de13b-c0ec-4d9b-9ceb-92e7818dbe1f   \n",
       "000bf4a0-654a-45a0-853f-eeae0df45d26  2a349a74-5a33-4bc5-9199-eb184e366389   \n",
       "000eb398-bae9-43a2-a244-8753155ef1f1                                   NaN   \n",
       "00103afe-d940-42d8-be96-d1fdab2a4c53                                   NaN   \n",
       "00118c0a-8c6d-483c-84e5-1ca82e173513  97ce1822-fda7-4661-867f-30e4a0eb2bd6   \n",
       "\n",
       "                                      time_to_next_visit  \\\n",
       "visit_id                                                   \n",
       "0004877e-8ef5-4ffd-90bf-d293b9973991              1900.0   \n",
       "000bf4a0-654a-45a0-853f-eeae0df45d26              1799.0   \n",
       "000eb398-bae9-43a2-a244-8753155ef1f1                 NaN   \n",
       "00103afe-d940-42d8-be96-d1fdab2a4c53                 NaN   \n",
       "00118c0a-8c6d-483c-84e5-1ca82e173513             40592.0   \n",
       "\n",
       "                                                     last_visit_in_session  \n",
       "visit_id                                                                    \n",
       "0004877e-8ef5-4ffd-90bf-d293b9973991  0004877e-8ef5-4ffd-90bf-d293b9973991  \n",
       "000bf4a0-654a-45a0-853f-eeae0df45d26  517ca520-068e-4855-ab69-489aed0b84dd  \n",
       "000eb398-bae9-43a2-a244-8753155ef1f1  000eb398-bae9-43a2-a244-8753155ef1f1  \n",
       "00103afe-d940-42d8-be96-d1fdab2a4c53  00103afe-d940-42d8-be96-d1fdab2a4c53  \n",
       "00118c0a-8c6d-483c-84e5-1ca82e173513  00118c0a-8c6d-483c-84e5-1ca82e173513  "
      ],
      "text/html": "<div>\n<style scoped>\n    .dataframe tbody tr th:only-of-type {\n        vertical-align: middle;\n    }\n\n    .dataframe tbody tr th {\n        vertical-align: top;\n    }\n\n    .dataframe thead th {\n        text-align: right;\n    }\n</style>\n<table border=\"1\" class=\"dataframe\">\n  <thead>\n    <tr style=\"text-align: right;\">\n      <th></th>\n      <th>user_id</th>\n      <th>start_time</th>\n      <th>end_time</th>\n      <th>duration</th>\n      <th>next_visit_id</th>\n      <th>time_to_next_visit</th>\n      <th>last_visit_in_session</th>\n    </tr>\n    <tr>\n      <th>visit_id</th>\n      <th></th>\n      <th></th>\n      <th></th>\n      <th></th>\n      <th></th>\n      <th></th>\n      <th></th>\n    </tr>\n  </thead>\n  <tbody>\n    <tr>\n      <th>0004877e-8ef5-4ffd-90bf-d293b9973991</th>\n      <td>513325471</td>\n      <td>2019-10-01 05:29:03+00:00</td>\n      <td>2019-10-01 05:29:03+00:00</td>\n      <td>0</td>\n      <td>865de13b-c0ec-4d9b-9ceb-92e7818dbe1f</td>\n      <td>1900.0</td>\n      <td>0004877e-8ef5-4ffd-90bf-d293b9973991</td>\n    </tr>\n    <tr>\n      <th>000bf4a0-654a-45a0-853f-eeae0df45d26</th>\n      <td>536331032</td>\n      <td>2019-10-06 17:05:12+00:00</td>\n      <td>2019-10-06 17:06:32+00:00</td>\n      <td>80</td>\n      <td>2a349a74-5a33-4bc5-9199-eb184e366389</td>\n      <td>1799.0</td>\n      <td>517ca520-068e-4855-ab69-489aed0b84dd</td>\n    </tr>\n    <tr>\n      <th>000eb398-bae9-43a2-a244-8753155ef1f1</th>\n      <td>519491226</td>\n      <td>2019-10-31 08:53:21+00:00</td>\n      <td>2019-10-31 08:53:21+00:00</td>\n      <td>0</td>\n      <td>NaN</td>\n      <td>NaN</td>\n      <td>000eb398-bae9-43a2-a244-8753155ef1f1</td>\n    </tr>\n    <tr>\n      <th>00103afe-d940-42d8-be96-d1fdab2a4c53</th>\n      <td>556517838</td>\n      <td>2019-10-06 20:04:02+00:00</td>\n      <td>2019-10-06 20:04:02+00:00</td>\n      <td>0</td>\n      <td>NaN</td>\n      <td>NaN</td>\n      <td>00103afe-d940-42d8-be96-d1fdab2a4c53</td>\n    </tr>\n    <tr>\n      <th>00118c0a-8c6d-483c-84e5-1ca82e173513</th>\n      <td>518652214</td>\n      <td>2019-10-13 19:55:15+00:00</td>\n      <td>2019-10-13 20:30:38+00:00</td>\n      <td>2123</td>\n      <td>97ce1822-fda7-4661-867f-30e4a0eb2bd6</td>\n      <td>40592.0</td>\n      <td>00118c0a-8c6d-483c-84e5-1ca82e173513</td>\n    </tr>\n  </tbody>\n</table>\n</div>"
     },
     "metadata": {},
     "execution_count": 19
    }
   ],
   "source": [
    "visits['last_visit_in_session'] = visits.index.map(last_visit_in_sessions)\n",
    "visits.head()\n"
   ]
  },
  {
   "cell_type": "code",
   "execution_count": 20,
   "metadata": {},
   "outputs": [
    {
     "output_type": "execute_result",
     "data": {
      "text/plain": [
       "                                        user_id                start_time  \\\n",
       "last_visit_in_session                                                       \n",
       "0004877e-8ef5-4ffd-90bf-d293b9973991  513325471 2019-10-01 05:29:03+00:00   \n",
       "000eb398-bae9-43a2-a244-8753155ef1f1  519491226 2019-10-31 08:53:21+00:00   \n",
       "00103afe-d940-42d8-be96-d1fdab2a4c53  556517838 2019-10-06 20:04:02+00:00   \n",
       "00118c0a-8c6d-483c-84e5-1ca82e173513  518652214 2019-10-13 19:55:15+00:00   \n",
       "00140e7d-0932-41b0-833c-5d41c67f39a1  560827740 2019-10-28 12:37:38+00:00   \n",
       "\n",
       "                                                      end_time  \\\n",
       "last_visit_in_session                                            \n",
       "0004877e-8ef5-4ffd-90bf-d293b9973991 2019-10-01 05:29:03+00:00   \n",
       "000eb398-bae9-43a2-a244-8753155ef1f1 2019-10-31 08:53:21+00:00   \n",
       "00103afe-d940-42d8-be96-d1fdab2a4c53 2019-10-06 20:04:02+00:00   \n",
       "00118c0a-8c6d-483c-84e5-1ca82e173513 2019-10-13 20:30:38+00:00   \n",
       "00140e7d-0932-41b0-833c-5d41c67f39a1 2019-10-28 12:37:38+00:00   \n",
       "\n",
       "                                      visit_id_count  duration  \n",
       "last_visit_in_session                                           \n",
       "0004877e-8ef5-4ffd-90bf-d293b9973991               1         0  \n",
       "000eb398-bae9-43a2-a244-8753155ef1f1               1         0  \n",
       "00103afe-d940-42d8-be96-d1fdab2a4c53               1         0  \n",
       "00118c0a-8c6d-483c-84e5-1ca82e173513               1      2123  \n",
       "00140e7d-0932-41b0-833c-5d41c67f39a1               1         0  "
      ],
      "text/html": "<div>\n<style scoped>\n    .dataframe tbody tr th:only-of-type {\n        vertical-align: middle;\n    }\n\n    .dataframe tbody tr th {\n        vertical-align: top;\n    }\n\n    .dataframe thead th {\n        text-align: right;\n    }\n</style>\n<table border=\"1\" class=\"dataframe\">\n  <thead>\n    <tr style=\"text-align: right;\">\n      <th></th>\n      <th>user_id</th>\n      <th>start_time</th>\n      <th>end_time</th>\n      <th>visit_id_count</th>\n      <th>duration</th>\n    </tr>\n    <tr>\n      <th>last_visit_in_session</th>\n      <th></th>\n      <th></th>\n      <th></th>\n      <th></th>\n      <th></th>\n    </tr>\n  </thead>\n  <tbody>\n    <tr>\n      <th>0004877e-8ef5-4ffd-90bf-d293b9973991</th>\n      <td>513325471</td>\n      <td>2019-10-01 05:29:03+00:00</td>\n      <td>2019-10-01 05:29:03+00:00</td>\n      <td>1</td>\n      <td>0</td>\n    </tr>\n    <tr>\n      <th>000eb398-bae9-43a2-a244-8753155ef1f1</th>\n      <td>519491226</td>\n      <td>2019-10-31 08:53:21+00:00</td>\n      <td>2019-10-31 08:53:21+00:00</td>\n      <td>1</td>\n      <td>0</td>\n    </tr>\n    <tr>\n      <th>00103afe-d940-42d8-be96-d1fdab2a4c53</th>\n      <td>556517838</td>\n      <td>2019-10-06 20:04:02+00:00</td>\n      <td>2019-10-06 20:04:02+00:00</td>\n      <td>1</td>\n      <td>0</td>\n    </tr>\n    <tr>\n      <th>00118c0a-8c6d-483c-84e5-1ca82e173513</th>\n      <td>518652214</td>\n      <td>2019-10-13 19:55:15+00:00</td>\n      <td>2019-10-13 20:30:38+00:00</td>\n      <td>1</td>\n      <td>2123</td>\n    </tr>\n    <tr>\n      <th>00140e7d-0932-41b0-833c-5d41c67f39a1</th>\n      <td>560827740</td>\n      <td>2019-10-28 12:37:38+00:00</td>\n      <td>2019-10-28 12:37:38+00:00</td>\n      <td>1</td>\n      <td>0</td>\n    </tr>\n  </tbody>\n</table>\n</div>"
     },
     "metadata": {},
     "execution_count": 20
    }
   ],
   "source": [
    "grouped = visits.reset_index().groupby('last_visit_in_session')\n",
    "sessions = pd.concat(\n",
    "    [\n",
    "        grouped['user_id'].min().to_frame() # max also fine\n",
    "        ,grouped['start_time'].min().to_frame()\n",
    "        ,grouped['end_time'].max().to_frame()\n",
    "        ,grouped['visit_id'].count()\n",
    "    ]\n",
    "    ,axis=1\n",
    ")\n",
    "sessions.rename({\"visit_id\":\"visit_id_count\"}, axis=\"columns\", inplace=True)\n",
    "sessions['duration'] = (sessions['end_time'] - sessions['start_time']).dt.seconds\n",
    "del grouped\n",
    "sessions.head()"
   ]
  },
  {
   "source": [
    "## Analyzing Sessions"
   ],
   "cell_type": "markdown",
   "metadata": {}
  },
  {
   "cell_type": "code",
   "execution_count": 21,
   "metadata": {},
   "outputs": [
    {
     "output_type": "stream",
     "name": "stdout",
     "text": [
      "Looking at the number of visits in each session, we get:\n"
     ]
    },
    {
     "output_type": "execute_result",
     "data": {
      "text/plain": [
       "count    22942.000000\n",
       "mean         1.308343\n",
       "std          0.874666\n",
       "min          1.000000\n",
       "25%          1.000000\n",
       "50%          1.000000\n",
       "75%          1.000000\n",
       "max         35.000000\n",
       "Name: visit_id_count, dtype: float64"
      ]
     },
     "metadata": {},
     "execution_count": 21
    }
   ],
   "source": [
    "print(\"Looking at the number of visits in each session, we get:\")\n",
    "sessions['visit_id_count'].describe()"
   ]
  },
  {
   "cell_type": "code",
   "execution_count": 22,
   "metadata": {},
   "outputs": [
    {
     "output_type": "stream",
     "name": "stdout",
     "text": [
      "Describing the approximate duration in minutes, we get:\n"
     ]
    },
    {
     "output_type": "execute_result",
     "data": {
      "text/plain": [
       "count     382.0\n",
       "mean       11.0\n",
       "std        56.0\n",
       "min         0.0\n",
       "25%         0.0\n",
       "50%         2.0\n",
       "75%         8.0\n",
       "max      1423.0\n",
       "Name: duration, dtype: float64"
      ]
     },
     "metadata": {},
     "execution_count": 22
    }
   ],
   "source": [
    "print(\"Describing the approximate duration in minutes, we get:\")\n",
    "round(sessions['duration'].describe() / 60)"
   ]
  },
  {
   "cell_type": "code",
   "execution_count": 23,
   "metadata": {},
   "outputs": [
    {
     "output_type": "stream",
     "name": "stdout",
     "text": [
      "Median session time of the user in seconds: 116.0\n"
     ]
    }
   ],
   "source": [
    "print(\"Median session time of the user in seconds:\",sessions['duration'].describe().loc['50%'])"
   ]
  }
 ]
}