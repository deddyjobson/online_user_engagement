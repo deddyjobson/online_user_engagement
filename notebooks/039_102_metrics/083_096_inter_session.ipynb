{
 "metadata": {
  "language_info": {
   "codemirror_mode": {
    "name": "ipython",
    "version": 3
   },
   "file_extension": ".py",
   "mimetype": "text/x-python",
   "name": "python",
   "nbconvert_exporter": "python",
   "pygments_lexer": "ipython3",
   "version": "3.8.3"
  },
  "orig_nbformat": 2,
  "kernelspec": {
   "name": "python3",
   "display_name": "Python 3.8.3 64-bit ('venv': venv)",
   "metadata": {
    "interpreter": {
     "hash": "9c7fac71299ee039531bc30c8b7016f9ea29e41d3af7be031dceadd63c5f5edb"
    }
   }
  }
 },
 "nbformat": 4,
 "nbformat_minor": 2,
 "cells": [
  {
   "source": [
    "# Inter session metrics\n",
    "Like in the intra-session, in order to study inter-session metrics, we first need to create sessions out of visits.\n",
    "## Visit to Session\n",
    "\n",
    "\n",
    "### Setup"
   ],
   "cell_type": "markdown",
   "metadata": {}
  },
  {
   "cell_type": "code",
   "execution_count": 1,
   "metadata": {},
   "outputs": [],
   "source": [
    "import glob\n",
    "import matplotlib.pyplot as plt \n",
    "import numpy as np\n",
    "import pandas as pd \n",
    "import pyarrow.feather as feather\n",
    "import seaborn as sns\n",
    "\n",
    "%matplotlib inline"
   ]
  },
  {
   "cell_type": "code",
   "execution_count": 2,
   "metadata": {},
   "outputs": [],
   "source": [
    "FEATHER_PATH = \"../../data/2019-Oct.feather\"\n",
    "np.random.seed(101)"
   ]
  },
  {
   "cell_type": "code",
   "execution_count": 3,
   "metadata": {},
   "outputs": [],
   "source": [
    "TIME_DIFF = 60 * 30 # 30 mins # This will decide the maximum time difference between visits belonging to the same session."
   ]
  },
  {
   "cell_type": "code",
   "execution_count": 4,
   "metadata": {},
   "outputs": [
    {
     "output_type": "stream",
     "name": "stdout",
     "text": [
      "CPU times: user 12.1 s, sys: 5.6 s, total: 17.7 s\nWall time: 25.5 s\n"
     ]
    }
   ],
   "source": [
    "%%time\n",
    "data = feather.read_feather(FEATHER_PATH)"
   ]
  },
  {
   "source": [
    "### Filtering\n",
    "We'll randomly sample a small subset of users in order to speed up analysis. "
   ],
   "cell_type": "markdown",
   "metadata": {}
  },
  {
   "cell_type": "code",
   "execution_count": 5,
   "metadata": {},
   "outputs": [
    {
     "output_type": "stream",
     "name": "stdout",
     "text": [
      "Total number of users: 3022290\n"
     ]
    }
   ],
   "source": [
    "print(\"Total number of users:\",len(data['user_id'].unique()))\n",
    "\n",
    "sampled_users = np.random.choice(data['user_id'].unique(), size=10000, replace=False)"
   ]
  },
  {
   "source": [
    "Deleting the following cell should not break the rest of the code, although things would run much slower."
   ],
   "cell_type": "markdown",
   "metadata": {}
  },
  {
   "cell_type": "code",
   "execution_count": 6,
   "metadata": {},
   "outputs": [
    {
     "output_type": "stream",
     "name": "stdout",
     "text": [
      "Total number of users: 10000\n"
     ]
    }
   ],
   "source": [
    "data = data[data['user_id'].isin(sampled_users)]\n",
    "print(\"Total number of users:\",len(data['user_id'].unique()))"
   ]
  },
  {
   "source": [
    "In order to stick to the definitions of the source material, let's rename the 'user_session' field to 'visit_id'."
   ],
   "cell_type": "markdown",
   "metadata": {}
  },
  {
   "cell_type": "code",
   "execution_count": 7,
   "metadata": {},
   "outputs": [],
   "source": [
    "data.rename(columns = {\"user_session\":\"visit_id\"}, inplace=True)"
   ]
  },
  {
   "source": [
    "### Creating Sessions out of visits\n",
    "#### Creating a visits table\n",
    "Let's define a session to be a group of visits that are no more than TIME_DIFF seconds apart. First, let's get the start and end times of each session."
   ],
   "cell_type": "markdown",
   "metadata": {}
  },
  {
   "cell_type": "code",
   "execution_count": 8,
   "metadata": {},
   "outputs": [
    {
     "output_type": "execute_result",
     "data": {
      "text/plain": [
       "                                        user_id event_type  \\\n",
       "visit_id                                                     \n",
       "0004877e-8ef5-4ffd-90bf-d293b9973991  513325471       view   \n",
       "000bf4a0-654a-45a0-853f-eeae0df45d26  536331032       view   \n",
       "000eb398-bae9-43a2-a244-8753155ef1f1  519491226       view   \n",
       "00103afe-d940-42d8-be96-d1fdab2a4c53  556517838       view   \n",
       "00118c0a-8c6d-483c-84e5-1ca82e173513  518652214       view   \n",
       "\n",
       "                                                   start_time  \\\n",
       "visit_id                                                        \n",
       "0004877e-8ef5-4ffd-90bf-d293b9973991  2019-10-01 05:29:03 UTC   \n",
       "000bf4a0-654a-45a0-853f-eeae0df45d26  2019-10-06 17:05:12 UTC   \n",
       "000eb398-bae9-43a2-a244-8753155ef1f1  2019-10-31 08:53:21 UTC   \n",
       "00103afe-d940-42d8-be96-d1fdab2a4c53  2019-10-06 20:04:02 UTC   \n",
       "00118c0a-8c6d-483c-84e5-1ca82e173513  2019-10-13 19:55:15 UTC   \n",
       "\n",
       "                                                     end_time  \n",
       "visit_id                                                       \n",
       "0004877e-8ef5-4ffd-90bf-d293b9973991  2019-10-01 05:29:03 UTC  \n",
       "000bf4a0-654a-45a0-853f-eeae0df45d26  2019-10-06 17:06:32 UTC  \n",
       "000eb398-bae9-43a2-a244-8753155ef1f1  2019-10-31 08:53:21 UTC  \n",
       "00103afe-d940-42d8-be96-d1fdab2a4c53  2019-10-06 20:04:02 UTC  \n",
       "00118c0a-8c6d-483c-84e5-1ca82e173513  2019-10-13 20:30:38 UTC  "
      ],
      "text/html": "<div>\n<style scoped>\n    .dataframe tbody tr th:only-of-type {\n        vertical-align: middle;\n    }\n\n    .dataframe tbody tr th {\n        vertical-align: top;\n    }\n\n    .dataframe thead th {\n        text-align: right;\n    }\n</style>\n<table border=\"1\" class=\"dataframe\">\n  <thead>\n    <tr style=\"text-align: right;\">\n      <th></th>\n      <th>user_id</th>\n      <th>event_type</th>\n      <th>start_time</th>\n      <th>end_time</th>\n    </tr>\n    <tr>\n      <th>visit_id</th>\n      <th></th>\n      <th></th>\n      <th></th>\n      <th></th>\n    </tr>\n  </thead>\n  <tbody>\n    <tr>\n      <th>0004877e-8ef5-4ffd-90bf-d293b9973991</th>\n      <td>513325471</td>\n      <td>view</td>\n      <td>2019-10-01 05:29:03 UTC</td>\n      <td>2019-10-01 05:29:03 UTC</td>\n    </tr>\n    <tr>\n      <th>000bf4a0-654a-45a0-853f-eeae0df45d26</th>\n      <td>536331032</td>\n      <td>view</td>\n      <td>2019-10-06 17:05:12 UTC</td>\n      <td>2019-10-06 17:06:32 UTC</td>\n    </tr>\n    <tr>\n      <th>000eb398-bae9-43a2-a244-8753155ef1f1</th>\n      <td>519491226</td>\n      <td>view</td>\n      <td>2019-10-31 08:53:21 UTC</td>\n      <td>2019-10-31 08:53:21 UTC</td>\n    </tr>\n    <tr>\n      <th>00103afe-d940-42d8-be96-d1fdab2a4c53</th>\n      <td>556517838</td>\n      <td>view</td>\n      <td>2019-10-06 20:04:02 UTC</td>\n      <td>2019-10-06 20:04:02 UTC</td>\n    </tr>\n    <tr>\n      <th>00118c0a-8c6d-483c-84e5-1ca82e173513</th>\n      <td>518652214</td>\n      <td>view</td>\n      <td>2019-10-13 19:55:15 UTC</td>\n      <td>2019-10-13 20:30:38 UTC</td>\n    </tr>\n  </tbody>\n</table>\n</div>"
     },
     "metadata": {},
     "execution_count": 8
    }
   ],
   "source": [
    "grouped = data.groupby('visit_id')\n",
    "visits = pd.DataFrame(\n",
    "    data = [\n",
    "        grouped['user_id'].min() # max also fine\n",
    "        ,grouped['event_type'].min() # max also fine\n",
    "        ,grouped['event_time'].min()\n",
    "        ,grouped['event_time'].max()\n",
    "    ]\n",
    "    ,index = [\n",
    "        \"user_id\"\n",
    "        ,\"event_type\"\n",
    "        ,\"start_time\"\n",
    "        ,\"end_time\"\n",
    "    ]\n",
    ").T\n",
    "del grouped\n",
    "visits.head()"
   ]
  },
  {
   "cell_type": "code",
   "execution_count": 9,
   "metadata": {},
   "outputs": [],
   "source": [
    "visits['start_time'] = visits['start_time'].apply(pd.to_datetime)\n",
    "visits['end_time'] = visits['end_time'].apply(pd.to_datetime)\n",
    "visits['duration'] = (visits['end_time'] - visits['start_time']).dt.seconds"
   ]
  },
  {
   "source": [
    "### From visit to session"
   ],
   "cell_type": "markdown",
   "metadata": {}
  },
  {
   "cell_type": "code",
   "execution_count": 10,
   "metadata": {},
   "outputs": [
    {
     "output_type": "stream",
     "name": "stdout",
     "text": [
      "CPU times: user 1min 25s, sys: 103 ms, total: 1min 25s\nWall time: 1min 25s\n"
     ]
    }
   ],
   "source": [
    "%%time\n",
    "\n",
    "next_visit = {}\n",
    "time_to_next_visit = {}\n",
    "\n",
    "for index, row in visits.iterrows():\n",
    "    future_visits = visits[(visits['user_id']==row['user_id']) & (visits['start_time']>=row['end_time']) & (visits['start_time']>row['start_time'])]\n",
    "    if len(future_visits) == 0:\n",
    "            next_visit[index] = np.nan \n",
    "            time_to_next_visit[index] = np.nan \n",
    "    else:\n",
    "        next_visit[index] = (future_visits['start_time']-row['end_time']).dt.seconds.idxmin() \n",
    "        time_to_next_visit[index] = (future_visits.loc[next_visit[index]]['start_time']-row['end_time']).seconds "
   ]
  },
  {
   "cell_type": "code",
   "execution_count": 11,
   "metadata": {},
   "outputs": [
    {
     "output_type": "execute_result",
     "data": {
      "text/plain": [
       "                                        user_id event_type  \\\n",
       "visit_id                                                     \n",
       "0004877e-8ef5-4ffd-90bf-d293b9973991  513325471       view   \n",
       "000bf4a0-654a-45a0-853f-eeae0df45d26  536331032       view   \n",
       "000eb398-bae9-43a2-a244-8753155ef1f1  519491226       view   \n",
       "00103afe-d940-42d8-be96-d1fdab2a4c53  556517838       view   \n",
       "00118c0a-8c6d-483c-84e5-1ca82e173513  518652214       view   \n",
       "\n",
       "                                                    start_time  \\\n",
       "visit_id                                                         \n",
       "0004877e-8ef5-4ffd-90bf-d293b9973991 2019-10-01 05:29:03+00:00   \n",
       "000bf4a0-654a-45a0-853f-eeae0df45d26 2019-10-06 17:05:12+00:00   \n",
       "000eb398-bae9-43a2-a244-8753155ef1f1 2019-10-31 08:53:21+00:00   \n",
       "00103afe-d940-42d8-be96-d1fdab2a4c53 2019-10-06 20:04:02+00:00   \n",
       "00118c0a-8c6d-483c-84e5-1ca82e173513 2019-10-13 19:55:15+00:00   \n",
       "\n",
       "                                                      end_time  duration  \\\n",
       "visit_id                                                                   \n",
       "0004877e-8ef5-4ffd-90bf-d293b9973991 2019-10-01 05:29:03+00:00         0   \n",
       "000bf4a0-654a-45a0-853f-eeae0df45d26 2019-10-06 17:06:32+00:00        80   \n",
       "000eb398-bae9-43a2-a244-8753155ef1f1 2019-10-31 08:53:21+00:00         0   \n",
       "00103afe-d940-42d8-be96-d1fdab2a4c53 2019-10-06 20:04:02+00:00         0   \n",
       "00118c0a-8c6d-483c-84e5-1ca82e173513 2019-10-13 20:30:38+00:00      2123   \n",
       "\n",
       "                                                             next_visit_id  \\\n",
       "visit_id                                                                     \n",
       "0004877e-8ef5-4ffd-90bf-d293b9973991  865de13b-c0ec-4d9b-9ceb-92e7818dbe1f   \n",
       "000bf4a0-654a-45a0-853f-eeae0df45d26  2a349a74-5a33-4bc5-9199-eb184e366389   \n",
       "000eb398-bae9-43a2-a244-8753155ef1f1                                   NaN   \n",
       "00103afe-d940-42d8-be96-d1fdab2a4c53                                   NaN   \n",
       "00118c0a-8c6d-483c-84e5-1ca82e173513  97ce1822-fda7-4661-867f-30e4a0eb2bd6   \n",
       "\n",
       "                                      time_to_next_visit  \n",
       "visit_id                                                  \n",
       "0004877e-8ef5-4ffd-90bf-d293b9973991              1900.0  \n",
       "000bf4a0-654a-45a0-853f-eeae0df45d26              1799.0  \n",
       "000eb398-bae9-43a2-a244-8753155ef1f1                 NaN  \n",
       "00103afe-d940-42d8-be96-d1fdab2a4c53                 NaN  \n",
       "00118c0a-8c6d-483c-84e5-1ca82e173513             40592.0  "
      ],
      "text/html": "<div>\n<style scoped>\n    .dataframe tbody tr th:only-of-type {\n        vertical-align: middle;\n    }\n\n    .dataframe tbody tr th {\n        vertical-align: top;\n    }\n\n    .dataframe thead th {\n        text-align: right;\n    }\n</style>\n<table border=\"1\" class=\"dataframe\">\n  <thead>\n    <tr style=\"text-align: right;\">\n      <th></th>\n      <th>user_id</th>\n      <th>event_type</th>\n      <th>start_time</th>\n      <th>end_time</th>\n      <th>duration</th>\n      <th>next_visit_id</th>\n      <th>time_to_next_visit</th>\n    </tr>\n    <tr>\n      <th>visit_id</th>\n      <th></th>\n      <th></th>\n      <th></th>\n      <th></th>\n      <th></th>\n      <th></th>\n      <th></th>\n    </tr>\n  </thead>\n  <tbody>\n    <tr>\n      <th>0004877e-8ef5-4ffd-90bf-d293b9973991</th>\n      <td>513325471</td>\n      <td>view</td>\n      <td>2019-10-01 05:29:03+00:00</td>\n      <td>2019-10-01 05:29:03+00:00</td>\n      <td>0</td>\n      <td>865de13b-c0ec-4d9b-9ceb-92e7818dbe1f</td>\n      <td>1900.0</td>\n    </tr>\n    <tr>\n      <th>000bf4a0-654a-45a0-853f-eeae0df45d26</th>\n      <td>536331032</td>\n      <td>view</td>\n      <td>2019-10-06 17:05:12+00:00</td>\n      <td>2019-10-06 17:06:32+00:00</td>\n      <td>80</td>\n      <td>2a349a74-5a33-4bc5-9199-eb184e366389</td>\n      <td>1799.0</td>\n    </tr>\n    <tr>\n      <th>000eb398-bae9-43a2-a244-8753155ef1f1</th>\n      <td>519491226</td>\n      <td>view</td>\n      <td>2019-10-31 08:53:21+00:00</td>\n      <td>2019-10-31 08:53:21+00:00</td>\n      <td>0</td>\n      <td>NaN</td>\n      <td>NaN</td>\n    </tr>\n    <tr>\n      <th>00103afe-d940-42d8-be96-d1fdab2a4c53</th>\n      <td>556517838</td>\n      <td>view</td>\n      <td>2019-10-06 20:04:02+00:00</td>\n      <td>2019-10-06 20:04:02+00:00</td>\n      <td>0</td>\n      <td>NaN</td>\n      <td>NaN</td>\n    </tr>\n    <tr>\n      <th>00118c0a-8c6d-483c-84e5-1ca82e173513</th>\n      <td>518652214</td>\n      <td>view</td>\n      <td>2019-10-13 19:55:15+00:00</td>\n      <td>2019-10-13 20:30:38+00:00</td>\n      <td>2123</td>\n      <td>97ce1822-fda7-4661-867f-30e4a0eb2bd6</td>\n      <td>40592.0</td>\n    </tr>\n  </tbody>\n</table>\n</div>"
     },
     "metadata": {},
     "execution_count": 11
    }
   ],
   "source": [
    "visits['next_visit_id'] = visits.index.map(next_visit)\n",
    "visits['time_to_next_visit'] = visits.index.map(time_to_next_visit)\n",
    "visits.head()"
   ]
  },
  {
   "cell_type": "code",
   "execution_count": 12,
   "metadata": {},
   "outputs": [],
   "source": [
    "# %%time\n",
    "\n",
    "last_visit_in_sessions = {} # key: any visit id; value: the last visit id of the corresponding session\n",
    "\n",
    "for index, row in visits.iterrows():\n",
    "    current_index = index\n",
    "    current_row = row\n",
    "    session = []\n",
    "\n",
    "    while current_row['time_to_next_visit'] < TIME_DIFF:\n",
    "        if current_index in last_visit_in_sessions:\n",
    "            break\n",
    "        session.append(current_index)\n",
    "\n",
    "        current_index = current_row['next_visit_id']\n",
    "        current_row = visits.loc[current_index]\n",
    "\n",
    "    session.append(current_index)\n",
    "    last_visit_in_sessions.update(dict.fromkeys(session, last_visit_in_sessions.get(current_index, current_index)))\n"
   ]
  },
  {
   "cell_type": "code",
   "execution_count": 13,
   "metadata": {},
   "outputs": [
    {
     "output_type": "execute_result",
     "data": {
      "text/plain": [
       "                                        user_id event_type  \\\n",
       "visit_id                                                     \n",
       "0004877e-8ef5-4ffd-90bf-d293b9973991  513325471       view   \n",
       "000bf4a0-654a-45a0-853f-eeae0df45d26  536331032       view   \n",
       "000eb398-bae9-43a2-a244-8753155ef1f1  519491226       view   \n",
       "00103afe-d940-42d8-be96-d1fdab2a4c53  556517838       view   \n",
       "00118c0a-8c6d-483c-84e5-1ca82e173513  518652214       view   \n",
       "\n",
       "                                                    start_time  \\\n",
       "visit_id                                                         \n",
       "0004877e-8ef5-4ffd-90bf-d293b9973991 2019-10-01 05:29:03+00:00   \n",
       "000bf4a0-654a-45a0-853f-eeae0df45d26 2019-10-06 17:05:12+00:00   \n",
       "000eb398-bae9-43a2-a244-8753155ef1f1 2019-10-31 08:53:21+00:00   \n",
       "00103afe-d940-42d8-be96-d1fdab2a4c53 2019-10-06 20:04:02+00:00   \n",
       "00118c0a-8c6d-483c-84e5-1ca82e173513 2019-10-13 19:55:15+00:00   \n",
       "\n",
       "                                                      end_time  duration  \\\n",
       "visit_id                                                                   \n",
       "0004877e-8ef5-4ffd-90bf-d293b9973991 2019-10-01 05:29:03+00:00         0   \n",
       "000bf4a0-654a-45a0-853f-eeae0df45d26 2019-10-06 17:06:32+00:00        80   \n",
       "000eb398-bae9-43a2-a244-8753155ef1f1 2019-10-31 08:53:21+00:00         0   \n",
       "00103afe-d940-42d8-be96-d1fdab2a4c53 2019-10-06 20:04:02+00:00         0   \n",
       "00118c0a-8c6d-483c-84e5-1ca82e173513 2019-10-13 20:30:38+00:00      2123   \n",
       "\n",
       "                                                             next_visit_id  \\\n",
       "visit_id                                                                     \n",
       "0004877e-8ef5-4ffd-90bf-d293b9973991  865de13b-c0ec-4d9b-9ceb-92e7818dbe1f   \n",
       "000bf4a0-654a-45a0-853f-eeae0df45d26  2a349a74-5a33-4bc5-9199-eb184e366389   \n",
       "000eb398-bae9-43a2-a244-8753155ef1f1                                   NaN   \n",
       "00103afe-d940-42d8-be96-d1fdab2a4c53                                   NaN   \n",
       "00118c0a-8c6d-483c-84e5-1ca82e173513  97ce1822-fda7-4661-867f-30e4a0eb2bd6   \n",
       "\n",
       "                                      time_to_next_visit  \\\n",
       "visit_id                                                   \n",
       "0004877e-8ef5-4ffd-90bf-d293b9973991              1900.0   \n",
       "000bf4a0-654a-45a0-853f-eeae0df45d26              1799.0   \n",
       "000eb398-bae9-43a2-a244-8753155ef1f1                 NaN   \n",
       "00103afe-d940-42d8-be96-d1fdab2a4c53                 NaN   \n",
       "00118c0a-8c6d-483c-84e5-1ca82e173513             40592.0   \n",
       "\n",
       "                                                     last_visit_in_session  \n",
       "visit_id                                                                    \n",
       "0004877e-8ef5-4ffd-90bf-d293b9973991  0004877e-8ef5-4ffd-90bf-d293b9973991  \n",
       "000bf4a0-654a-45a0-853f-eeae0df45d26  517ca520-068e-4855-ab69-489aed0b84dd  \n",
       "000eb398-bae9-43a2-a244-8753155ef1f1  000eb398-bae9-43a2-a244-8753155ef1f1  \n",
       "00103afe-d940-42d8-be96-d1fdab2a4c53  00103afe-d940-42d8-be96-d1fdab2a4c53  \n",
       "00118c0a-8c6d-483c-84e5-1ca82e173513  00118c0a-8c6d-483c-84e5-1ca82e173513  "
      ],
      "text/html": "<div>\n<style scoped>\n    .dataframe tbody tr th:only-of-type {\n        vertical-align: middle;\n    }\n\n    .dataframe tbody tr th {\n        vertical-align: top;\n    }\n\n    .dataframe thead th {\n        text-align: right;\n    }\n</style>\n<table border=\"1\" class=\"dataframe\">\n  <thead>\n    <tr style=\"text-align: right;\">\n      <th></th>\n      <th>user_id</th>\n      <th>event_type</th>\n      <th>start_time</th>\n      <th>end_time</th>\n      <th>duration</th>\n      <th>next_visit_id</th>\n      <th>time_to_next_visit</th>\n      <th>last_visit_in_session</th>\n    </tr>\n    <tr>\n      <th>visit_id</th>\n      <th></th>\n      <th></th>\n      <th></th>\n      <th></th>\n      <th></th>\n      <th></th>\n      <th></th>\n      <th></th>\n    </tr>\n  </thead>\n  <tbody>\n    <tr>\n      <th>0004877e-8ef5-4ffd-90bf-d293b9973991</th>\n      <td>513325471</td>\n      <td>view</td>\n      <td>2019-10-01 05:29:03+00:00</td>\n      <td>2019-10-01 05:29:03+00:00</td>\n      <td>0</td>\n      <td>865de13b-c0ec-4d9b-9ceb-92e7818dbe1f</td>\n      <td>1900.0</td>\n      <td>0004877e-8ef5-4ffd-90bf-d293b9973991</td>\n    </tr>\n    <tr>\n      <th>000bf4a0-654a-45a0-853f-eeae0df45d26</th>\n      <td>536331032</td>\n      <td>view</td>\n      <td>2019-10-06 17:05:12+00:00</td>\n      <td>2019-10-06 17:06:32+00:00</td>\n      <td>80</td>\n      <td>2a349a74-5a33-4bc5-9199-eb184e366389</td>\n      <td>1799.0</td>\n      <td>517ca520-068e-4855-ab69-489aed0b84dd</td>\n    </tr>\n    <tr>\n      <th>000eb398-bae9-43a2-a244-8753155ef1f1</th>\n      <td>519491226</td>\n      <td>view</td>\n      <td>2019-10-31 08:53:21+00:00</td>\n      <td>2019-10-31 08:53:21+00:00</td>\n      <td>0</td>\n      <td>NaN</td>\n      <td>NaN</td>\n      <td>000eb398-bae9-43a2-a244-8753155ef1f1</td>\n    </tr>\n    <tr>\n      <th>00103afe-d940-42d8-be96-d1fdab2a4c53</th>\n      <td>556517838</td>\n      <td>view</td>\n      <td>2019-10-06 20:04:02+00:00</td>\n      <td>2019-10-06 20:04:02+00:00</td>\n      <td>0</td>\n      <td>NaN</td>\n      <td>NaN</td>\n      <td>00103afe-d940-42d8-be96-d1fdab2a4c53</td>\n    </tr>\n    <tr>\n      <th>00118c0a-8c6d-483c-84e5-1ca82e173513</th>\n      <td>518652214</td>\n      <td>view</td>\n      <td>2019-10-13 19:55:15+00:00</td>\n      <td>2019-10-13 20:30:38+00:00</td>\n      <td>2123</td>\n      <td>97ce1822-fda7-4661-867f-30e4a0eb2bd6</td>\n      <td>40592.0</td>\n      <td>00118c0a-8c6d-483c-84e5-1ca82e173513</td>\n    </tr>\n  </tbody>\n</table>\n</div>"
     },
     "metadata": {},
     "execution_count": 13
    }
   ],
   "source": [
    "visits['last_visit_in_session'] = visits.index.map(last_visit_in_sessions)\n",
    "visits.head()\n"
   ]
  },
  {
   "cell_type": "code",
   "execution_count": 14,
   "metadata": {},
   "outputs": [
    {
     "output_type": "execute_result",
     "data": {
      "text/plain": [
       "                                        user_id                start_time  \\\n",
       "last_visit_in_session                                                       \n",
       "0004877e-8ef5-4ffd-90bf-d293b9973991  513325471 2019-10-01 05:29:03+00:00   \n",
       "000eb398-bae9-43a2-a244-8753155ef1f1  519491226 2019-10-31 08:53:21+00:00   \n",
       "00103afe-d940-42d8-be96-d1fdab2a4c53  556517838 2019-10-06 20:04:02+00:00   \n",
       "00118c0a-8c6d-483c-84e5-1ca82e173513  518652214 2019-10-13 19:55:15+00:00   \n",
       "00140e7d-0932-41b0-833c-5d41c67f39a1  560827740 2019-10-28 12:37:38+00:00   \n",
       "\n",
       "                                                      end_time  \\\n",
       "last_visit_in_session                                            \n",
       "0004877e-8ef5-4ffd-90bf-d293b9973991 2019-10-01 05:29:03+00:00   \n",
       "000eb398-bae9-43a2-a244-8753155ef1f1 2019-10-31 08:53:21+00:00   \n",
       "00103afe-d940-42d8-be96-d1fdab2a4c53 2019-10-06 20:04:02+00:00   \n",
       "00118c0a-8c6d-483c-84e5-1ca82e173513 2019-10-13 20:30:38+00:00   \n",
       "00140e7d-0932-41b0-833c-5d41c67f39a1 2019-10-28 12:37:38+00:00   \n",
       "\n",
       "                                      visit_id_count  duration  \n",
       "last_visit_in_session                                           \n",
       "0004877e-8ef5-4ffd-90bf-d293b9973991               1         0  \n",
       "000eb398-bae9-43a2-a244-8753155ef1f1               1         0  \n",
       "00103afe-d940-42d8-be96-d1fdab2a4c53               1         0  \n",
       "00118c0a-8c6d-483c-84e5-1ca82e173513               1      2123  \n",
       "00140e7d-0932-41b0-833c-5d41c67f39a1               1         0  "
      ],
      "text/html": "<div>\n<style scoped>\n    .dataframe tbody tr th:only-of-type {\n        vertical-align: middle;\n    }\n\n    .dataframe tbody tr th {\n        vertical-align: top;\n    }\n\n    .dataframe thead th {\n        text-align: right;\n    }\n</style>\n<table border=\"1\" class=\"dataframe\">\n  <thead>\n    <tr style=\"text-align: right;\">\n      <th></th>\n      <th>user_id</th>\n      <th>start_time</th>\n      <th>end_time</th>\n      <th>visit_id_count</th>\n      <th>duration</th>\n    </tr>\n    <tr>\n      <th>last_visit_in_session</th>\n      <th></th>\n      <th></th>\n      <th></th>\n      <th></th>\n      <th></th>\n    </tr>\n  </thead>\n  <tbody>\n    <tr>\n      <th>0004877e-8ef5-4ffd-90bf-d293b9973991</th>\n      <td>513325471</td>\n      <td>2019-10-01 05:29:03+00:00</td>\n      <td>2019-10-01 05:29:03+00:00</td>\n      <td>1</td>\n      <td>0</td>\n    </tr>\n    <tr>\n      <th>000eb398-bae9-43a2-a244-8753155ef1f1</th>\n      <td>519491226</td>\n      <td>2019-10-31 08:53:21+00:00</td>\n      <td>2019-10-31 08:53:21+00:00</td>\n      <td>1</td>\n      <td>0</td>\n    </tr>\n    <tr>\n      <th>00103afe-d940-42d8-be96-d1fdab2a4c53</th>\n      <td>556517838</td>\n      <td>2019-10-06 20:04:02+00:00</td>\n      <td>2019-10-06 20:04:02+00:00</td>\n      <td>1</td>\n      <td>0</td>\n    </tr>\n    <tr>\n      <th>00118c0a-8c6d-483c-84e5-1ca82e173513</th>\n      <td>518652214</td>\n      <td>2019-10-13 19:55:15+00:00</td>\n      <td>2019-10-13 20:30:38+00:00</td>\n      <td>1</td>\n      <td>2123</td>\n    </tr>\n    <tr>\n      <th>00140e7d-0932-41b0-833c-5d41c67f39a1</th>\n      <td>560827740</td>\n      <td>2019-10-28 12:37:38+00:00</td>\n      <td>2019-10-28 12:37:38+00:00</td>\n      <td>1</td>\n      <td>0</td>\n    </tr>\n  </tbody>\n</table>\n</div>"
     },
     "metadata": {},
     "execution_count": 14
    }
   ],
   "source": [
    "grouped = visits.reset_index().groupby('last_visit_in_session')\n",
    "sessions = pd.concat(\n",
    "    [\n",
    "        grouped['user_id'].min().to_frame() # max also fine\n",
    "        ,grouped['start_time'].min().to_frame()\n",
    "        ,grouped['end_time'].max().to_frame()\n",
    "        ,grouped['visit_id'].count()\n",
    "    ]\n",
    "    ,axis=1\n",
    ")\n",
    "sessions.rename({\"visit_id\":\"visit_id_count\"}, axis=\"columns\", inplace=True)\n",
    "sessions['duration'] = (sessions['end_time'] - sessions['start_time']).dt.seconds\n",
    "del grouped\n",
    "sessions.head()"
   ]
  },
  {
   "source": [
    "# Inter-session metrics"
   ],
   "cell_type": "markdown",
   "metadata": {}
  },
  {
   "source": [
    "## Absence time\n",
    "This measures how long before the next session. It's important to note that the definition of session puts a sharp positive lower bound on the absence time."
   ],
   "cell_type": "markdown",
   "metadata": {}
  },
  {
   "cell_type": "code",
   "execution_count": 15,
   "metadata": {},
   "outputs": [
    {
     "output_type": "stream",
     "name": "stdout",
     "text": [
      "CPU times: user 29.5 s, sys: 42.8 ms, total: 29.6 s\nWall time: 29.6 s\n"
     ]
    }
   ],
   "source": [
    "%%time\n",
    "\n",
    "next_session = {}\n",
    "time_to_next_session = {}\n",
    "\n",
    "for index, row in sessions.iterrows():\n",
    "    future_sessions = sessions[(sessions['user_id']==row['user_id']) & (sessions['start_time']>=row['end_time']) & (sessions['start_time']>row['start_time'])]\n",
    "    if len(future_sessions) == 0:\n",
    "            next_session[index] = np.nan \n",
    "            time_to_next_session[index] = np.nan \n",
    "    else:\n",
    "        next_session[index] = (future_sessions['start_time']-row['end_time']).dt.seconds.idxmin() \n",
    "        time_to_next_session[index] = (future_sessions.loc[next_session[index]]['start_time']-row['end_time']).seconds "
   ]
  },
  {
   "cell_type": "code",
   "execution_count": 16,
   "metadata": {},
   "outputs": [
    {
     "output_type": "execute_result",
     "data": {
      "text/plain": [
       "                                        user_id                start_time  \\\n",
       "last_visit_in_session                                                       \n",
       "0004877e-8ef5-4ffd-90bf-d293b9973991  513325471 2019-10-01 05:29:03+00:00   \n",
       "000eb398-bae9-43a2-a244-8753155ef1f1  519491226 2019-10-31 08:53:21+00:00   \n",
       "00103afe-d940-42d8-be96-d1fdab2a4c53  556517838 2019-10-06 20:04:02+00:00   \n",
       "00118c0a-8c6d-483c-84e5-1ca82e173513  518652214 2019-10-13 19:55:15+00:00   \n",
       "00140e7d-0932-41b0-833c-5d41c67f39a1  560827740 2019-10-28 12:37:38+00:00   \n",
       "\n",
       "                                                      end_time  \\\n",
       "last_visit_in_session                                            \n",
       "0004877e-8ef5-4ffd-90bf-d293b9973991 2019-10-01 05:29:03+00:00   \n",
       "000eb398-bae9-43a2-a244-8753155ef1f1 2019-10-31 08:53:21+00:00   \n",
       "00103afe-d940-42d8-be96-d1fdab2a4c53 2019-10-06 20:04:02+00:00   \n",
       "00118c0a-8c6d-483c-84e5-1ca82e173513 2019-10-13 20:30:38+00:00   \n",
       "00140e7d-0932-41b0-833c-5d41c67f39a1 2019-10-28 12:37:38+00:00   \n",
       "\n",
       "                                      visit_id_count  duration  \\\n",
       "last_visit_in_session                                            \n",
       "0004877e-8ef5-4ffd-90bf-d293b9973991               1         0   \n",
       "000eb398-bae9-43a2-a244-8753155ef1f1               1         0   \n",
       "00103afe-d940-42d8-be96-d1fdab2a4c53               1         0   \n",
       "00118c0a-8c6d-483c-84e5-1ca82e173513               1      2123   \n",
       "00140e7d-0932-41b0-833c-5d41c67f39a1               1         0   \n",
       "\n",
       "                                                           next_session_id  \\\n",
       "last_visit_in_session                                                        \n",
       "0004877e-8ef5-4ffd-90bf-d293b9973991  865de13b-c0ec-4d9b-9ceb-92e7818dbe1f   \n",
       "000eb398-bae9-43a2-a244-8753155ef1f1                                   NaN   \n",
       "00103afe-d940-42d8-be96-d1fdab2a4c53                                   NaN   \n",
       "00118c0a-8c6d-483c-84e5-1ca82e173513  97ce1822-fda7-4661-867f-30e4a0eb2bd6   \n",
       "00140e7d-0932-41b0-833c-5d41c67f39a1                                   NaN   \n",
       "\n",
       "                                      time_to_next_session  \n",
       "last_visit_in_session                                       \n",
       "0004877e-8ef5-4ffd-90bf-d293b9973991                1900.0  \n",
       "000eb398-bae9-43a2-a244-8753155ef1f1                   NaN  \n",
       "00103afe-d940-42d8-be96-d1fdab2a4c53                   NaN  \n",
       "00118c0a-8c6d-483c-84e5-1ca82e173513               40592.0  \n",
       "00140e7d-0932-41b0-833c-5d41c67f39a1                   NaN  "
      ],
      "text/html": "<div>\n<style scoped>\n    .dataframe tbody tr th:only-of-type {\n        vertical-align: middle;\n    }\n\n    .dataframe tbody tr th {\n        vertical-align: top;\n    }\n\n    .dataframe thead th {\n        text-align: right;\n    }\n</style>\n<table border=\"1\" class=\"dataframe\">\n  <thead>\n    <tr style=\"text-align: right;\">\n      <th></th>\n      <th>user_id</th>\n      <th>start_time</th>\n      <th>end_time</th>\n      <th>visit_id_count</th>\n      <th>duration</th>\n      <th>next_session_id</th>\n      <th>time_to_next_session</th>\n    </tr>\n    <tr>\n      <th>last_visit_in_session</th>\n      <th></th>\n      <th></th>\n      <th></th>\n      <th></th>\n      <th></th>\n      <th></th>\n      <th></th>\n    </tr>\n  </thead>\n  <tbody>\n    <tr>\n      <th>0004877e-8ef5-4ffd-90bf-d293b9973991</th>\n      <td>513325471</td>\n      <td>2019-10-01 05:29:03+00:00</td>\n      <td>2019-10-01 05:29:03+00:00</td>\n      <td>1</td>\n      <td>0</td>\n      <td>865de13b-c0ec-4d9b-9ceb-92e7818dbe1f</td>\n      <td>1900.0</td>\n    </tr>\n    <tr>\n      <th>000eb398-bae9-43a2-a244-8753155ef1f1</th>\n      <td>519491226</td>\n      <td>2019-10-31 08:53:21+00:00</td>\n      <td>2019-10-31 08:53:21+00:00</td>\n      <td>1</td>\n      <td>0</td>\n      <td>NaN</td>\n      <td>NaN</td>\n    </tr>\n    <tr>\n      <th>00103afe-d940-42d8-be96-d1fdab2a4c53</th>\n      <td>556517838</td>\n      <td>2019-10-06 20:04:02+00:00</td>\n      <td>2019-10-06 20:04:02+00:00</td>\n      <td>1</td>\n      <td>0</td>\n      <td>NaN</td>\n      <td>NaN</td>\n    </tr>\n    <tr>\n      <th>00118c0a-8c6d-483c-84e5-1ca82e173513</th>\n      <td>518652214</td>\n      <td>2019-10-13 19:55:15+00:00</td>\n      <td>2019-10-13 20:30:38+00:00</td>\n      <td>1</td>\n      <td>2123</td>\n      <td>97ce1822-fda7-4661-867f-30e4a0eb2bd6</td>\n      <td>40592.0</td>\n    </tr>\n    <tr>\n      <th>00140e7d-0932-41b0-833c-5d41c67f39a1</th>\n      <td>560827740</td>\n      <td>2019-10-28 12:37:38+00:00</td>\n      <td>2019-10-28 12:37:38+00:00</td>\n      <td>1</td>\n      <td>0</td>\n      <td>NaN</td>\n      <td>NaN</td>\n    </tr>\n  </tbody>\n</table>\n</div>"
     },
     "metadata": {},
     "execution_count": 16
    }
   ],
   "source": [
    "sessions['next_session_id'] = sessions.index.map(next_session)\n",
    "sessions['time_to_next_session'] = sessions.index.map(time_to_next_session)\n",
    "sessions.head()"
   ]
  },
  {
   "cell_type": "code",
   "execution_count": 17,
   "metadata": {},
   "outputs": [
    {
     "output_type": "stream",
     "name": "stdout",
     "text": [
      "Describing the absense time in hours, we get:\n"
     ]
    },
    {
     "output_type": "execute_result",
     "data": {
      "text/plain": [
       "count    12564.0\n",
       "mean         8.0\n",
       "std          7.0\n",
       "min          0.0\n",
       "25%          2.0\n",
       "50%          5.0\n",
       "75%         12.0\n",
       "max         24.0\n",
       "Name: time_to_next_session, dtype: float64"
      ]
     },
     "metadata": {},
     "execution_count": 17
    }
   ],
   "source": [
    "print(\"Describing the absense time in hours, we get:\")\n",
    "round((sessions['time_to_next_session']/ 3600).describe())"
   ]
  },
  {
   "source": [
    "Interesting. It seems there are cases where the absence time is zero. Let's investigate..."
   ],
   "cell_type": "markdown",
   "metadata": {}
  },
  {
   "cell_type": "code",
   "execution_count": 18,
   "metadata": {},
   "outputs": [
    {
     "output_type": "stream",
     "name": "stdout",
     "text": [
      "Fraction of sessions with an absence time of zero: 0.00021794089442943074\n"
     ]
    }
   ],
   "source": [
    "print(\"Fraction of sessions with an absence time of zero:\",sum(sessions['time_to_next_session']==0) / len(sessions['time_to_next_session']==0))"
   ]
  },
  {
   "cell_type": "code",
   "execution_count": 19,
   "metadata": {},
   "outputs": [
    {
     "output_type": "stream",
     "name": "stdout",
     "text": [
      "Number of sessions with an absence time of zero: 5\n"
     ]
    }
   ],
   "source": [
    "print(\"Number of sessions with an absence time of zero:\",sum(sessions['time_to_next_session']==0))"
   ]
  },
  {
   "source": [
    "Looking at a single instance:"
   ],
   "cell_type": "markdown",
   "metadata": {}
  },
  {
   "cell_type": "code",
   "execution_count": 20,
   "metadata": {},
   "outputs": [
    {
     "output_type": "execute_result",
     "data": {
      "text/plain": [
       "                                        user_id                start_time  \\\n",
       "last_visit_in_session                                                       \n",
       "15c6c61f-f936-4107-9ff7-2aa2aabc04d2  562238663 2019-10-20 12:24:52+00:00   \n",
       "37f86643-3b2d-43b4-a335-2becb0d1c53c  556625935 2019-10-07 04:05:55+00:00   \n",
       "46aa816e-8f70-48a6-92ef-86057242320a  562424765 2019-10-21 01:05:12+00:00   \n",
       "49591149-be7b-4c2d-89e7-48a846afe042  520290141 2019-10-01 15:32:20+00:00   \n",
       "553ebc85-475a-4d00-b663-c9e21666557d  563809084 2019-10-24 18:51:32+00:00   \n",
       "\n",
       "                                                      end_time  \\\n",
       "last_visit_in_session                                            \n",
       "15c6c61f-f936-4107-9ff7-2aa2aabc04d2 2019-10-20 12:25:03+00:00   \n",
       "37f86643-3b2d-43b4-a335-2becb0d1c53c 2019-10-14 04:57:03+00:00   \n",
       "46aa816e-8f70-48a6-92ef-86057242320a 2019-10-21 01:05:30+00:00   \n",
       "49591149-be7b-4c2d-89e7-48a846afe042 2019-10-17 16:00:47+00:00   \n",
       "553ebc85-475a-4d00-b663-c9e21666557d 2019-10-24 18:51:34+00:00   \n",
       "\n",
       "                                      visit_id_count  duration  \\\n",
       "last_visit_in_session                                            \n",
       "15c6c61f-f936-4107-9ff7-2aa2aabc04d2               2        11   \n",
       "37f86643-3b2d-43b4-a335-2becb0d1c53c               6      3068   \n",
       "46aa816e-8f70-48a6-92ef-86057242320a               2        18   \n",
       "49591149-be7b-4c2d-89e7-48a846afe042               2      1707   \n",
       "553ebc85-475a-4d00-b663-c9e21666557d               2         2   \n",
       "\n",
       "                                                           next_session_id  \\\n",
       "last_visit_in_session                                                        \n",
       "15c6c61f-f936-4107-9ff7-2aa2aabc04d2  5e59cd3c-0958-493a-a686-ff0a6f05d083   \n",
       "37f86643-3b2d-43b4-a335-2becb0d1c53c  da32d6c2-de14-4095-829e-ebde0222ba01   \n",
       "46aa816e-8f70-48a6-92ef-86057242320a  fbd420d7-5e13-42ce-8f06-9ba29b151ec3   \n",
       "49591149-be7b-4c2d-89e7-48a846afe042  7779b920-01a8-478e-b878-b493c4062939   \n",
       "553ebc85-475a-4d00-b663-c9e21666557d  d412dd43-be46-4bb0-b949-5a3091625f2a   \n",
       "\n",
       "                                      time_to_next_session  \n",
       "last_visit_in_session                                       \n",
       "15c6c61f-f936-4107-9ff7-2aa2aabc04d2                   0.0  \n",
       "37f86643-3b2d-43b4-a335-2becb0d1c53c                   0.0  \n",
       "46aa816e-8f70-48a6-92ef-86057242320a                   0.0  \n",
       "49591149-be7b-4c2d-89e7-48a846afe042                   0.0  \n",
       "553ebc85-475a-4d00-b663-c9e21666557d                   0.0  "
      ],
      "text/html": "<div>\n<style scoped>\n    .dataframe tbody tr th:only-of-type {\n        vertical-align: middle;\n    }\n\n    .dataframe tbody tr th {\n        vertical-align: top;\n    }\n\n    .dataframe thead th {\n        text-align: right;\n    }\n</style>\n<table border=\"1\" class=\"dataframe\">\n  <thead>\n    <tr style=\"text-align: right;\">\n      <th></th>\n      <th>user_id</th>\n      <th>start_time</th>\n      <th>end_time</th>\n      <th>visit_id_count</th>\n      <th>duration</th>\n      <th>next_session_id</th>\n      <th>time_to_next_session</th>\n    </tr>\n    <tr>\n      <th>last_visit_in_session</th>\n      <th></th>\n      <th></th>\n      <th></th>\n      <th></th>\n      <th></th>\n      <th></th>\n      <th></th>\n    </tr>\n  </thead>\n  <tbody>\n    <tr>\n      <th>15c6c61f-f936-4107-9ff7-2aa2aabc04d2</th>\n      <td>562238663</td>\n      <td>2019-10-20 12:24:52+00:00</td>\n      <td>2019-10-20 12:25:03+00:00</td>\n      <td>2</td>\n      <td>11</td>\n      <td>5e59cd3c-0958-493a-a686-ff0a6f05d083</td>\n      <td>0.0</td>\n    </tr>\n    <tr>\n      <th>37f86643-3b2d-43b4-a335-2becb0d1c53c</th>\n      <td>556625935</td>\n      <td>2019-10-07 04:05:55+00:00</td>\n      <td>2019-10-14 04:57:03+00:00</td>\n      <td>6</td>\n      <td>3068</td>\n      <td>da32d6c2-de14-4095-829e-ebde0222ba01</td>\n      <td>0.0</td>\n    </tr>\n    <tr>\n      <th>46aa816e-8f70-48a6-92ef-86057242320a</th>\n      <td>562424765</td>\n      <td>2019-10-21 01:05:12+00:00</td>\n      <td>2019-10-21 01:05:30+00:00</td>\n      <td>2</td>\n      <td>18</td>\n      <td>fbd420d7-5e13-42ce-8f06-9ba29b151ec3</td>\n      <td>0.0</td>\n    </tr>\n    <tr>\n      <th>49591149-be7b-4c2d-89e7-48a846afe042</th>\n      <td>520290141</td>\n      <td>2019-10-01 15:32:20+00:00</td>\n      <td>2019-10-17 16:00:47+00:00</td>\n      <td>2</td>\n      <td>1707</td>\n      <td>7779b920-01a8-478e-b878-b493c4062939</td>\n      <td>0.0</td>\n    </tr>\n    <tr>\n      <th>553ebc85-475a-4d00-b663-c9e21666557d</th>\n      <td>563809084</td>\n      <td>2019-10-24 18:51:32+00:00</td>\n      <td>2019-10-24 18:51:34+00:00</td>\n      <td>2</td>\n      <td>2</td>\n      <td>d412dd43-be46-4bb0-b949-5a3091625f2a</td>\n      <td>0.0</td>\n    </tr>\n  </tbody>\n</table>\n</div>"
     },
     "metadata": {},
     "execution_count": 20
    }
   ],
   "source": [
    "sessions[sessions['time_to_next_session']==0]"
   ]
  },
  {
   "cell_type": "code",
   "execution_count": 21,
   "metadata": {},
   "outputs": [
    {
     "output_type": "execute_result",
     "data": {
      "text/plain": [
       "                                        user_id                start_time  \\\n",
       "last_visit_in_session                                                       \n",
       "15c6c61f-f936-4107-9ff7-2aa2aabc04d2  562238663 2019-10-20 12:24:52+00:00   \n",
       "5e59cd3c-0958-493a-a686-ff0a6f05d083  562238663 2019-10-20 12:25:03+00:00   \n",
       "\n",
       "                                                      end_time  \\\n",
       "last_visit_in_session                                            \n",
       "15c6c61f-f936-4107-9ff7-2aa2aabc04d2 2019-10-20 12:25:03+00:00   \n",
       "5e59cd3c-0958-493a-a686-ff0a6f05d083 2019-10-20 12:25:03+00:00   \n",
       "\n",
       "                                      visit_id_count  duration  \\\n",
       "last_visit_in_session                                            \n",
       "15c6c61f-f936-4107-9ff7-2aa2aabc04d2               2        11   \n",
       "5e59cd3c-0958-493a-a686-ff0a6f05d083               1         0   \n",
       "\n",
       "                                                           next_session_id  \\\n",
       "last_visit_in_session                                                        \n",
       "15c6c61f-f936-4107-9ff7-2aa2aabc04d2  5e59cd3c-0958-493a-a686-ff0a6f05d083   \n",
       "5e59cd3c-0958-493a-a686-ff0a6f05d083                                   NaN   \n",
       "\n",
       "                                      time_to_next_session  \n",
       "last_visit_in_session                                       \n",
       "15c6c61f-f936-4107-9ff7-2aa2aabc04d2                   0.0  \n",
       "5e59cd3c-0958-493a-a686-ff0a6f05d083                   NaN  "
      ],
      "text/html": "<div>\n<style scoped>\n    .dataframe tbody tr th:only-of-type {\n        vertical-align: middle;\n    }\n\n    .dataframe tbody tr th {\n        vertical-align: top;\n    }\n\n    .dataframe thead th {\n        text-align: right;\n    }\n</style>\n<table border=\"1\" class=\"dataframe\">\n  <thead>\n    <tr style=\"text-align: right;\">\n      <th></th>\n      <th>user_id</th>\n      <th>start_time</th>\n      <th>end_time</th>\n      <th>visit_id_count</th>\n      <th>duration</th>\n      <th>next_session_id</th>\n      <th>time_to_next_session</th>\n    </tr>\n    <tr>\n      <th>last_visit_in_session</th>\n      <th></th>\n      <th></th>\n      <th></th>\n      <th></th>\n      <th></th>\n      <th></th>\n      <th></th>\n    </tr>\n  </thead>\n  <tbody>\n    <tr>\n      <th>15c6c61f-f936-4107-9ff7-2aa2aabc04d2</th>\n      <td>562238663</td>\n      <td>2019-10-20 12:24:52+00:00</td>\n      <td>2019-10-20 12:25:03+00:00</td>\n      <td>2</td>\n      <td>11</td>\n      <td>5e59cd3c-0958-493a-a686-ff0a6f05d083</td>\n      <td>0.0</td>\n    </tr>\n    <tr>\n      <th>5e59cd3c-0958-493a-a686-ff0a6f05d083</th>\n      <td>562238663</td>\n      <td>2019-10-20 12:25:03+00:00</td>\n      <td>2019-10-20 12:25:03+00:00</td>\n      <td>1</td>\n      <td>0</td>\n      <td>NaN</td>\n      <td>NaN</td>\n    </tr>\n  </tbody>\n</table>\n</div>"
     },
     "metadata": {},
     "execution_count": 21
    }
   ],
   "source": [
    "sessions[sessions['user_id']==562238663]"
   ]
  },
  {
   "source": [
    "So it seems that the next session started at the very second the previous instant ended. In any case, there are so few of such cases that it should be safe to ignore them."
   ],
   "cell_type": "markdown",
   "metadata": {}
  },
  {
   "source": [
    "## Absence time and number of visits\n",
    "### Correlation\n",
    "This is the simplest way to quantify the relation between two quantities."
   ],
   "cell_type": "markdown",
   "metadata": {}
  },
  {
   "cell_type": "code",
   "execution_count": 22,
   "metadata": {},
   "outputs": [],
   "source": [
    "relevant_data = sessions[~sessions['time_to_next_session'].isna()]"
   ]
  },
  {
   "cell_type": "code",
   "execution_count": 23,
   "metadata": {},
   "outputs": [
    {
     "output_type": "execute_result",
     "data": {
      "text/plain": [
       "-0.009679237360831774"
      ]
     },
     "metadata": {},
     "execution_count": 23
    }
   ],
   "source": [
    "np.corrcoef(relevant_data['time_to_next_session'],relevant_data['visit_id_count'])[0,1]"
   ]
  },
  {
   "source": [
    "Log-log correlation"
   ],
   "cell_type": "markdown",
   "metadata": {}
  },
  {
   "cell_type": "code",
   "execution_count": 24,
   "metadata": {},
   "outputs": [
    {
     "output_type": "execute_result",
     "data": {
      "text/plain": [
       "-0.024274108824329278"
      ]
     },
     "metadata": {},
     "execution_count": 24
    }
   ],
   "source": [
    "np.corrcoef(relevant_data['time_to_next_session'].map(np.log1p),relevant_data['visit_id_count'].map(np.log1p))[0,1]"
   ]
  },
  {
   "source": [
    "As predicted by the slides, there is a negative correlation between absence time and number of visits in the session. This suggests that those who visit more during a session are quicker to come back and therefore engaged better with the product."
   ],
   "cell_type": "markdown",
   "metadata": {}
  }
 ]
}