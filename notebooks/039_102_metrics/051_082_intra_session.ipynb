{
 "metadata": {
  "language_info": {
   "codemirror_mode": {
    "name": "ipython",
    "version": 3
   },
   "file_extension": ".py",
   "mimetype": "text/x-python",
   "name": "python",
   "nbconvert_exporter": "python",
   "pygments_lexer": "ipython3",
   "version": "3.8.3-final"
  },
  "orig_nbformat": 2,
  "kernelspec": {
   "name": "python3",
   "display_name": "Python 3.8.3 64-bit ('venv')",
   "metadata": {
    "interpreter": {
     "hash": "9c7fac71299ee039531bc30c8b7016f9ea29e41d3af7be031dceadd63c5f5edb"
    }
   }
  }
 },
 "nbformat": 4,
 "nbformat_minor": 2,
 "cells": [
  {
   "source": [
    "# Intra session metrics\n",
    "In order to study intra-session metrics, we first need to create sessions out of visits.\n",
    "## Visit to Session\n",
    "\n",
    "\n",
    "### Setup"
   ],
   "cell_type": "markdown",
   "metadata": {}
  },
  {
   "cell_type": "code",
   "execution_count": 1,
   "metadata": {},
   "outputs": [],
   "source": [
    "import glob\n",
    "import matplotlib.pyplot as plt \n",
    "import numpy as np\n",
    "import pandas as pd \n",
    "import pyarrow.feather as feather\n",
    "import seaborn as sns\n",
    "\n",
    "%matplotlib inline"
   ]
  },
  {
   "cell_type": "code",
   "execution_count": 2,
   "metadata": {},
   "outputs": [],
   "source": [
    "FEATHER_PATH = \"../../data/2019-Oct.feather\"\n",
    "np.random.seed(101)"
   ]
  },
  {
   "cell_type": "code",
   "execution_count": 3,
   "metadata": {},
   "outputs": [],
   "source": [
    "TIME_DIFF = 60 * 30 # 30 mins # This will decide the maximum time difference between visits belonging to the same session."
   ]
  },
  {
   "cell_type": "code",
   "execution_count": 4,
   "metadata": {},
   "outputs": [
    {
     "output_type": "stream",
     "name": "stdout",
     "text": [
      "CPU times: user 11.1 s, sys: 3.11 s, total: 14.2 s\nWall time: 12.6 s\n"
     ]
    }
   ],
   "source": [
    "%%time\n",
    "data = feather.read_feather(FEATHER_PATH)"
   ]
  },
  {
   "source": [
    "### Filtering\n",
    "We'll randomly sample a small subset of users in order to speed up analysis. "
   ],
   "cell_type": "markdown",
   "metadata": {}
  },
  {
   "cell_type": "code",
   "execution_count": 5,
   "metadata": {},
   "outputs": [
    {
     "output_type": "stream",
     "name": "stdout",
     "text": [
      "Total number of users: 3022290\n"
     ]
    }
   ],
   "source": [
    "print(\"Total number of users:\",len(data['user_id'].unique()))\n",
    "\n",
    "sampled_users = np.random.choice(data['user_id'].unique(), size=10000, replace=False)"
   ]
  },
  {
   "source": [
    "Deleting the following cell should not break the rest of the code, although things would run much slower."
   ],
   "cell_type": "markdown",
   "metadata": {}
  },
  {
   "cell_type": "code",
   "execution_count": 6,
   "metadata": {},
   "outputs": [
    {
     "output_type": "stream",
     "name": "stdout",
     "text": [
      "Total number of users: 10000\n"
     ]
    }
   ],
   "source": [
    "data = data[data['user_id'].isin(sampled_users)]\n",
    "print(\"Total number of users:\",len(data['user_id'].unique()))"
   ]
  },
  {
   "source": [
    "In order to stick to the definitions of the source material, let's rename the 'user_session' field to 'visit_id'."
   ],
   "cell_type": "markdown",
   "metadata": {}
  },
  {
   "cell_type": "code",
   "execution_count": 7,
   "metadata": {},
   "outputs": [],
   "source": [
    "data.rename(columns = {\"user_session\":\"visit_id\"}, inplace=True)"
   ]
  },
  {
   "source": [
    "### Creating Sessions out of visits\n",
    "#### Creating a visits table\n",
    "Let's define a session to be a group of visits that are no more than TIME_DIFF seconds apart. First, let's get the start and end times of each session."
   ],
   "cell_type": "markdown",
   "metadata": {}
  },
  {
   "cell_type": "code",
   "execution_count": 8,
   "metadata": {},
   "outputs": [
    {
     "output_type": "execute_result",
     "data": {
      "text/plain": [
       "                                        user_id event_type  \\\n",
       "visit_id                                                     \n",
       "0004877e-8ef5-4ffd-90bf-d293b9973991  513325471       view   \n",
       "000bf4a0-654a-45a0-853f-eeae0df45d26  536331032       view   \n",
       "000eb398-bae9-43a2-a244-8753155ef1f1  519491226       view   \n",
       "00103afe-d940-42d8-be96-d1fdab2a4c53  556517838       view   \n",
       "00118c0a-8c6d-483c-84e5-1ca82e173513  518652214       view   \n",
       "\n",
       "                                                   start_time  \\\n",
       "visit_id                                                        \n",
       "0004877e-8ef5-4ffd-90bf-d293b9973991  2019-10-01 05:29:03 UTC   \n",
       "000bf4a0-654a-45a0-853f-eeae0df45d26  2019-10-06 17:05:12 UTC   \n",
       "000eb398-bae9-43a2-a244-8753155ef1f1  2019-10-31 08:53:21 UTC   \n",
       "00103afe-d940-42d8-be96-d1fdab2a4c53  2019-10-06 20:04:02 UTC   \n",
       "00118c0a-8c6d-483c-84e5-1ca82e173513  2019-10-13 19:55:15 UTC   \n",
       "\n",
       "                                                     end_time  \n",
       "visit_id                                                       \n",
       "0004877e-8ef5-4ffd-90bf-d293b9973991  2019-10-01 05:29:03 UTC  \n",
       "000bf4a0-654a-45a0-853f-eeae0df45d26  2019-10-06 17:06:32 UTC  \n",
       "000eb398-bae9-43a2-a244-8753155ef1f1  2019-10-31 08:53:21 UTC  \n",
       "00103afe-d940-42d8-be96-d1fdab2a4c53  2019-10-06 20:04:02 UTC  \n",
       "00118c0a-8c6d-483c-84e5-1ca82e173513  2019-10-13 20:30:38 UTC  "
      ],
      "text/html": "<div>\n<style scoped>\n    .dataframe tbody tr th:only-of-type {\n        vertical-align: middle;\n    }\n\n    .dataframe tbody tr th {\n        vertical-align: top;\n    }\n\n    .dataframe thead th {\n        text-align: right;\n    }\n</style>\n<table border=\"1\" class=\"dataframe\">\n  <thead>\n    <tr style=\"text-align: right;\">\n      <th></th>\n      <th>user_id</th>\n      <th>event_type</th>\n      <th>start_time</th>\n      <th>end_time</th>\n    </tr>\n    <tr>\n      <th>visit_id</th>\n      <th></th>\n      <th></th>\n      <th></th>\n      <th></th>\n    </tr>\n  </thead>\n  <tbody>\n    <tr>\n      <th>0004877e-8ef5-4ffd-90bf-d293b9973991</th>\n      <td>513325471</td>\n      <td>view</td>\n      <td>2019-10-01 05:29:03 UTC</td>\n      <td>2019-10-01 05:29:03 UTC</td>\n    </tr>\n    <tr>\n      <th>000bf4a0-654a-45a0-853f-eeae0df45d26</th>\n      <td>536331032</td>\n      <td>view</td>\n      <td>2019-10-06 17:05:12 UTC</td>\n      <td>2019-10-06 17:06:32 UTC</td>\n    </tr>\n    <tr>\n      <th>000eb398-bae9-43a2-a244-8753155ef1f1</th>\n      <td>519491226</td>\n      <td>view</td>\n      <td>2019-10-31 08:53:21 UTC</td>\n      <td>2019-10-31 08:53:21 UTC</td>\n    </tr>\n    <tr>\n      <th>00103afe-d940-42d8-be96-d1fdab2a4c53</th>\n      <td>556517838</td>\n      <td>view</td>\n      <td>2019-10-06 20:04:02 UTC</td>\n      <td>2019-10-06 20:04:02 UTC</td>\n    </tr>\n    <tr>\n      <th>00118c0a-8c6d-483c-84e5-1ca82e173513</th>\n      <td>518652214</td>\n      <td>view</td>\n      <td>2019-10-13 19:55:15 UTC</td>\n      <td>2019-10-13 20:30:38 UTC</td>\n    </tr>\n  </tbody>\n</table>\n</div>"
     },
     "metadata": {},
     "execution_count": 8
    }
   ],
   "source": [
    "grouped = data.groupby('visit_id')\n",
    "visits = pd.DataFrame(\n",
    "    data = [\n",
    "        grouped['user_id'].min() # max also fine\n",
    "        ,grouped['event_type'].min() # max also fine\n",
    "        ,grouped['event_time'].min()\n",
    "        ,grouped['event_time'].max()\n",
    "    ]\n",
    "    ,index = [\n",
    "        \"user_id\"\n",
    "        ,\"event_type\"\n",
    "        ,\"start_time\"\n",
    "        ,\"end_time\"\n",
    "    ]\n",
    ").T\n",
    "del grouped\n",
    "visits.head()"
   ]
  },
  {
   "cell_type": "code",
   "execution_count": 9,
   "metadata": {},
   "outputs": [],
   "source": [
    "visits['start_time'] = visits['start_time'].apply(pd.to_datetime)\n",
    "visits['end_time'] = visits['end_time'].apply(pd.to_datetime)\n",
    "visits['duration'] = (visits['end_time'] - visits['start_time']).dt.seconds"
   ]
  },
  {
   "source": [
    "### From visit to session"
   ],
   "cell_type": "markdown",
   "metadata": {}
  },
  {
   "cell_type": "code",
   "execution_count": 10,
   "metadata": {},
   "outputs": [
    {
     "output_type": "stream",
     "name": "stdout",
     "text": [
      "CPU times: user 1min 32s, sys: 329 ms, total: 1min 32s\nWall time: 1min 32s\n"
     ]
    }
   ],
   "source": [
    "%%time\n",
    "\n",
    "next_visit = {}\n",
    "time_to_next_visit = {}\n",
    "\n",
    "for index, row in visits.iterrows():\n",
    "    future_visits = visits[(visits['user_id']==row['user_id']) & (visits['start_time']>=row['end_time']) & (visits['start_time']>row['start_time'])]\n",
    "    if len(future_visits) == 0:\n",
    "            next_visit[index] = np.nan \n",
    "            time_to_next_visit[index] = np.nan \n",
    "    else:\n",
    "        next_visit[index] = (future_visits['start_time']-row['end_time']).dt.seconds.idxmin() \n",
    "        time_to_next_visit[index] = (future_visits.loc[next_visit[index]]['start_time']-row['end_time']).seconds "
   ]
  },
  {
   "cell_type": "code",
   "execution_count": 11,
   "metadata": {},
   "outputs": [
    {
     "output_type": "execute_result",
     "data": {
      "text/plain": [
       "                                        user_id event_type  \\\n",
       "visit_id                                                     \n",
       "0004877e-8ef5-4ffd-90bf-d293b9973991  513325471       view   \n",
       "000bf4a0-654a-45a0-853f-eeae0df45d26  536331032       view   \n",
       "000eb398-bae9-43a2-a244-8753155ef1f1  519491226       view   \n",
       "00103afe-d940-42d8-be96-d1fdab2a4c53  556517838       view   \n",
       "00118c0a-8c6d-483c-84e5-1ca82e173513  518652214       view   \n",
       "\n",
       "                                                    start_time  \\\n",
       "visit_id                                                         \n",
       "0004877e-8ef5-4ffd-90bf-d293b9973991 2019-10-01 05:29:03+00:00   \n",
       "000bf4a0-654a-45a0-853f-eeae0df45d26 2019-10-06 17:05:12+00:00   \n",
       "000eb398-bae9-43a2-a244-8753155ef1f1 2019-10-31 08:53:21+00:00   \n",
       "00103afe-d940-42d8-be96-d1fdab2a4c53 2019-10-06 20:04:02+00:00   \n",
       "00118c0a-8c6d-483c-84e5-1ca82e173513 2019-10-13 19:55:15+00:00   \n",
       "\n",
       "                                                      end_time  duration  \\\n",
       "visit_id                                                                   \n",
       "0004877e-8ef5-4ffd-90bf-d293b9973991 2019-10-01 05:29:03+00:00         0   \n",
       "000bf4a0-654a-45a0-853f-eeae0df45d26 2019-10-06 17:06:32+00:00        80   \n",
       "000eb398-bae9-43a2-a244-8753155ef1f1 2019-10-31 08:53:21+00:00         0   \n",
       "00103afe-d940-42d8-be96-d1fdab2a4c53 2019-10-06 20:04:02+00:00         0   \n",
       "00118c0a-8c6d-483c-84e5-1ca82e173513 2019-10-13 20:30:38+00:00      2123   \n",
       "\n",
       "                                                             next_visit_id  \\\n",
       "visit_id                                                                     \n",
       "0004877e-8ef5-4ffd-90bf-d293b9973991  865de13b-c0ec-4d9b-9ceb-92e7818dbe1f   \n",
       "000bf4a0-654a-45a0-853f-eeae0df45d26  2a349a74-5a33-4bc5-9199-eb184e366389   \n",
       "000eb398-bae9-43a2-a244-8753155ef1f1                                   NaN   \n",
       "00103afe-d940-42d8-be96-d1fdab2a4c53                                   NaN   \n",
       "00118c0a-8c6d-483c-84e5-1ca82e173513  97ce1822-fda7-4661-867f-30e4a0eb2bd6   \n",
       "\n",
       "                                      time_to_next_visit  \n",
       "visit_id                                                  \n",
       "0004877e-8ef5-4ffd-90bf-d293b9973991              1900.0  \n",
       "000bf4a0-654a-45a0-853f-eeae0df45d26              1799.0  \n",
       "000eb398-bae9-43a2-a244-8753155ef1f1                 NaN  \n",
       "00103afe-d940-42d8-be96-d1fdab2a4c53                 NaN  \n",
       "00118c0a-8c6d-483c-84e5-1ca82e173513             40592.0  "
      ],
      "text/html": "<div>\n<style scoped>\n    .dataframe tbody tr th:only-of-type {\n        vertical-align: middle;\n    }\n\n    .dataframe tbody tr th {\n        vertical-align: top;\n    }\n\n    .dataframe thead th {\n        text-align: right;\n    }\n</style>\n<table border=\"1\" class=\"dataframe\">\n  <thead>\n    <tr style=\"text-align: right;\">\n      <th></th>\n      <th>user_id</th>\n      <th>event_type</th>\n      <th>start_time</th>\n      <th>end_time</th>\n      <th>duration</th>\n      <th>next_visit_id</th>\n      <th>time_to_next_visit</th>\n    </tr>\n    <tr>\n      <th>visit_id</th>\n      <th></th>\n      <th></th>\n      <th></th>\n      <th></th>\n      <th></th>\n      <th></th>\n      <th></th>\n    </tr>\n  </thead>\n  <tbody>\n    <tr>\n      <th>0004877e-8ef5-4ffd-90bf-d293b9973991</th>\n      <td>513325471</td>\n      <td>view</td>\n      <td>2019-10-01 05:29:03+00:00</td>\n      <td>2019-10-01 05:29:03+00:00</td>\n      <td>0</td>\n      <td>865de13b-c0ec-4d9b-9ceb-92e7818dbe1f</td>\n      <td>1900.0</td>\n    </tr>\n    <tr>\n      <th>000bf4a0-654a-45a0-853f-eeae0df45d26</th>\n      <td>536331032</td>\n      <td>view</td>\n      <td>2019-10-06 17:05:12+00:00</td>\n      <td>2019-10-06 17:06:32+00:00</td>\n      <td>80</td>\n      <td>2a349a74-5a33-4bc5-9199-eb184e366389</td>\n      <td>1799.0</td>\n    </tr>\n    <tr>\n      <th>000eb398-bae9-43a2-a244-8753155ef1f1</th>\n      <td>519491226</td>\n      <td>view</td>\n      <td>2019-10-31 08:53:21+00:00</td>\n      <td>2019-10-31 08:53:21+00:00</td>\n      <td>0</td>\n      <td>NaN</td>\n      <td>NaN</td>\n    </tr>\n    <tr>\n      <th>00103afe-d940-42d8-be96-d1fdab2a4c53</th>\n      <td>556517838</td>\n      <td>view</td>\n      <td>2019-10-06 20:04:02+00:00</td>\n      <td>2019-10-06 20:04:02+00:00</td>\n      <td>0</td>\n      <td>NaN</td>\n      <td>NaN</td>\n    </tr>\n    <tr>\n      <th>00118c0a-8c6d-483c-84e5-1ca82e173513</th>\n      <td>518652214</td>\n      <td>view</td>\n      <td>2019-10-13 19:55:15+00:00</td>\n      <td>2019-10-13 20:30:38+00:00</td>\n      <td>2123</td>\n      <td>97ce1822-fda7-4661-867f-30e4a0eb2bd6</td>\n      <td>40592.0</td>\n    </tr>\n  </tbody>\n</table>\n</div>"
     },
     "metadata": {},
     "execution_count": 11
    }
   ],
   "source": [
    "visits['next_visit_id'] = visits.index.map(next_visit)\n",
    "visits['time_to_next_visit'] = visits.index.map(time_to_next_visit)\n",
    "visits.head()"
   ]
  },
  {
   "cell_type": "code",
   "execution_count": 12,
   "metadata": {},
   "outputs": [],
   "source": [
    "# %%time\n",
    "\n",
    "last_visit_in_sessions = {} # key: any visit id; value: the last visit id of the corresponding session\n",
    "\n",
    "for index, row in visits.iterrows():\n",
    "    current_index = index\n",
    "    current_row = row\n",
    "    session = []\n",
    "\n",
    "    while current_row['time_to_next_visit'] < TIME_DIFF:\n",
    "        if current_index in last_visit_in_sessions:\n",
    "            break\n",
    "        session.append(current_index)\n",
    "\n",
    "        current_index = current_row['next_visit_id']\n",
    "        current_row = visits.loc[current_index]\n",
    "\n",
    "    session.append(current_index)\n",
    "    last_visit_in_sessions.update(dict.fromkeys(session, last_visit_in_sessions.get(current_index, current_index)))\n"
   ]
  },
  {
   "cell_type": "code",
   "execution_count": 13,
   "metadata": {},
   "outputs": [
    {
     "output_type": "execute_result",
     "data": {
      "text/plain": [
       "                                        user_id event_type  \\\n",
       "visit_id                                                     \n",
       "0004877e-8ef5-4ffd-90bf-d293b9973991  513325471       view   \n",
       "000bf4a0-654a-45a0-853f-eeae0df45d26  536331032       view   \n",
       "000eb398-bae9-43a2-a244-8753155ef1f1  519491226       view   \n",
       "00103afe-d940-42d8-be96-d1fdab2a4c53  556517838       view   \n",
       "00118c0a-8c6d-483c-84e5-1ca82e173513  518652214       view   \n",
       "\n",
       "                                                    start_time  \\\n",
       "visit_id                                                         \n",
       "0004877e-8ef5-4ffd-90bf-d293b9973991 2019-10-01 05:29:03+00:00   \n",
       "000bf4a0-654a-45a0-853f-eeae0df45d26 2019-10-06 17:05:12+00:00   \n",
       "000eb398-bae9-43a2-a244-8753155ef1f1 2019-10-31 08:53:21+00:00   \n",
       "00103afe-d940-42d8-be96-d1fdab2a4c53 2019-10-06 20:04:02+00:00   \n",
       "00118c0a-8c6d-483c-84e5-1ca82e173513 2019-10-13 19:55:15+00:00   \n",
       "\n",
       "                                                      end_time  duration  \\\n",
       "visit_id                                                                   \n",
       "0004877e-8ef5-4ffd-90bf-d293b9973991 2019-10-01 05:29:03+00:00         0   \n",
       "000bf4a0-654a-45a0-853f-eeae0df45d26 2019-10-06 17:06:32+00:00        80   \n",
       "000eb398-bae9-43a2-a244-8753155ef1f1 2019-10-31 08:53:21+00:00         0   \n",
       "00103afe-d940-42d8-be96-d1fdab2a4c53 2019-10-06 20:04:02+00:00         0   \n",
       "00118c0a-8c6d-483c-84e5-1ca82e173513 2019-10-13 20:30:38+00:00      2123   \n",
       "\n",
       "                                                             next_visit_id  \\\n",
       "visit_id                                                                     \n",
       "0004877e-8ef5-4ffd-90bf-d293b9973991  865de13b-c0ec-4d9b-9ceb-92e7818dbe1f   \n",
       "000bf4a0-654a-45a0-853f-eeae0df45d26  2a349a74-5a33-4bc5-9199-eb184e366389   \n",
       "000eb398-bae9-43a2-a244-8753155ef1f1                                   NaN   \n",
       "00103afe-d940-42d8-be96-d1fdab2a4c53                                   NaN   \n",
       "00118c0a-8c6d-483c-84e5-1ca82e173513  97ce1822-fda7-4661-867f-30e4a0eb2bd6   \n",
       "\n",
       "                                      time_to_next_visit  \\\n",
       "visit_id                                                   \n",
       "0004877e-8ef5-4ffd-90bf-d293b9973991              1900.0   \n",
       "000bf4a0-654a-45a0-853f-eeae0df45d26              1799.0   \n",
       "000eb398-bae9-43a2-a244-8753155ef1f1                 NaN   \n",
       "00103afe-d940-42d8-be96-d1fdab2a4c53                 NaN   \n",
       "00118c0a-8c6d-483c-84e5-1ca82e173513             40592.0   \n",
       "\n",
       "                                                     last_visit_in_session  \n",
       "visit_id                                                                    \n",
       "0004877e-8ef5-4ffd-90bf-d293b9973991  0004877e-8ef5-4ffd-90bf-d293b9973991  \n",
       "000bf4a0-654a-45a0-853f-eeae0df45d26  517ca520-068e-4855-ab69-489aed0b84dd  \n",
       "000eb398-bae9-43a2-a244-8753155ef1f1  000eb398-bae9-43a2-a244-8753155ef1f1  \n",
       "00103afe-d940-42d8-be96-d1fdab2a4c53  00103afe-d940-42d8-be96-d1fdab2a4c53  \n",
       "00118c0a-8c6d-483c-84e5-1ca82e173513  00118c0a-8c6d-483c-84e5-1ca82e173513  "
      ],
      "text/html": "<div>\n<style scoped>\n    .dataframe tbody tr th:only-of-type {\n        vertical-align: middle;\n    }\n\n    .dataframe tbody tr th {\n        vertical-align: top;\n    }\n\n    .dataframe thead th {\n        text-align: right;\n    }\n</style>\n<table border=\"1\" class=\"dataframe\">\n  <thead>\n    <tr style=\"text-align: right;\">\n      <th></th>\n      <th>user_id</th>\n      <th>event_type</th>\n      <th>start_time</th>\n      <th>end_time</th>\n      <th>duration</th>\n      <th>next_visit_id</th>\n      <th>time_to_next_visit</th>\n      <th>last_visit_in_session</th>\n    </tr>\n    <tr>\n      <th>visit_id</th>\n      <th></th>\n      <th></th>\n      <th></th>\n      <th></th>\n      <th></th>\n      <th></th>\n      <th></th>\n      <th></th>\n    </tr>\n  </thead>\n  <tbody>\n    <tr>\n      <th>0004877e-8ef5-4ffd-90bf-d293b9973991</th>\n      <td>513325471</td>\n      <td>view</td>\n      <td>2019-10-01 05:29:03+00:00</td>\n      <td>2019-10-01 05:29:03+00:00</td>\n      <td>0</td>\n      <td>865de13b-c0ec-4d9b-9ceb-92e7818dbe1f</td>\n      <td>1900.0</td>\n      <td>0004877e-8ef5-4ffd-90bf-d293b9973991</td>\n    </tr>\n    <tr>\n      <th>000bf4a0-654a-45a0-853f-eeae0df45d26</th>\n      <td>536331032</td>\n      <td>view</td>\n      <td>2019-10-06 17:05:12+00:00</td>\n      <td>2019-10-06 17:06:32+00:00</td>\n      <td>80</td>\n      <td>2a349a74-5a33-4bc5-9199-eb184e366389</td>\n      <td>1799.0</td>\n      <td>517ca520-068e-4855-ab69-489aed0b84dd</td>\n    </tr>\n    <tr>\n      <th>000eb398-bae9-43a2-a244-8753155ef1f1</th>\n      <td>519491226</td>\n      <td>view</td>\n      <td>2019-10-31 08:53:21+00:00</td>\n      <td>2019-10-31 08:53:21+00:00</td>\n      <td>0</td>\n      <td>NaN</td>\n      <td>NaN</td>\n      <td>000eb398-bae9-43a2-a244-8753155ef1f1</td>\n    </tr>\n    <tr>\n      <th>00103afe-d940-42d8-be96-d1fdab2a4c53</th>\n      <td>556517838</td>\n      <td>view</td>\n      <td>2019-10-06 20:04:02+00:00</td>\n      <td>2019-10-06 20:04:02+00:00</td>\n      <td>0</td>\n      <td>NaN</td>\n      <td>NaN</td>\n      <td>00103afe-d940-42d8-be96-d1fdab2a4c53</td>\n    </tr>\n    <tr>\n      <th>00118c0a-8c6d-483c-84e5-1ca82e173513</th>\n      <td>518652214</td>\n      <td>view</td>\n      <td>2019-10-13 19:55:15+00:00</td>\n      <td>2019-10-13 20:30:38+00:00</td>\n      <td>2123</td>\n      <td>97ce1822-fda7-4661-867f-30e4a0eb2bd6</td>\n      <td>40592.0</td>\n      <td>00118c0a-8c6d-483c-84e5-1ca82e173513</td>\n    </tr>\n  </tbody>\n</table>\n</div>"
     },
     "metadata": {},
     "execution_count": 13
    }
   ],
   "source": [
    "visits['last_visit_in_session'] = visits.index.map(last_visit_in_sessions)\n",
    "visits.head()\n"
   ]
  },
  {
   "cell_type": "code",
   "execution_count": 14,
   "metadata": {},
   "outputs": [
    {
     "output_type": "execute_result",
     "data": {
      "text/plain": [
       "                                        user_id                start_time  \\\n",
       "last_visit_in_session                                                       \n",
       "0004877e-8ef5-4ffd-90bf-d293b9973991  513325471 2019-10-01 05:29:03+00:00   \n",
       "000eb398-bae9-43a2-a244-8753155ef1f1  519491226 2019-10-31 08:53:21+00:00   \n",
       "00103afe-d940-42d8-be96-d1fdab2a4c53  556517838 2019-10-06 20:04:02+00:00   \n",
       "00118c0a-8c6d-483c-84e5-1ca82e173513  518652214 2019-10-13 19:55:15+00:00   \n",
       "00140e7d-0932-41b0-833c-5d41c67f39a1  560827740 2019-10-28 12:37:38+00:00   \n",
       "\n",
       "                                                      end_time  \\\n",
       "last_visit_in_session                                            \n",
       "0004877e-8ef5-4ffd-90bf-d293b9973991 2019-10-01 05:29:03+00:00   \n",
       "000eb398-bae9-43a2-a244-8753155ef1f1 2019-10-31 08:53:21+00:00   \n",
       "00103afe-d940-42d8-be96-d1fdab2a4c53 2019-10-06 20:04:02+00:00   \n",
       "00118c0a-8c6d-483c-84e5-1ca82e173513 2019-10-13 20:30:38+00:00   \n",
       "00140e7d-0932-41b0-833c-5d41c67f39a1 2019-10-28 12:37:38+00:00   \n",
       "\n",
       "                                      visit_id_count  duration  \n",
       "last_visit_in_session                                           \n",
       "0004877e-8ef5-4ffd-90bf-d293b9973991               1         0  \n",
       "000eb398-bae9-43a2-a244-8753155ef1f1               1         0  \n",
       "00103afe-d940-42d8-be96-d1fdab2a4c53               1         0  \n",
       "00118c0a-8c6d-483c-84e5-1ca82e173513               1      2123  \n",
       "00140e7d-0932-41b0-833c-5d41c67f39a1               1         0  "
      ],
      "text/html": "<div>\n<style scoped>\n    .dataframe tbody tr th:only-of-type {\n        vertical-align: middle;\n    }\n\n    .dataframe tbody tr th {\n        vertical-align: top;\n    }\n\n    .dataframe thead th {\n        text-align: right;\n    }\n</style>\n<table border=\"1\" class=\"dataframe\">\n  <thead>\n    <tr style=\"text-align: right;\">\n      <th></th>\n      <th>user_id</th>\n      <th>start_time</th>\n      <th>end_time</th>\n      <th>visit_id_count</th>\n      <th>duration</th>\n    </tr>\n    <tr>\n      <th>last_visit_in_session</th>\n      <th></th>\n      <th></th>\n      <th></th>\n      <th></th>\n      <th></th>\n    </tr>\n  </thead>\n  <tbody>\n    <tr>\n      <th>0004877e-8ef5-4ffd-90bf-d293b9973991</th>\n      <td>513325471</td>\n      <td>2019-10-01 05:29:03+00:00</td>\n      <td>2019-10-01 05:29:03+00:00</td>\n      <td>1</td>\n      <td>0</td>\n    </tr>\n    <tr>\n      <th>000eb398-bae9-43a2-a244-8753155ef1f1</th>\n      <td>519491226</td>\n      <td>2019-10-31 08:53:21+00:00</td>\n      <td>2019-10-31 08:53:21+00:00</td>\n      <td>1</td>\n      <td>0</td>\n    </tr>\n    <tr>\n      <th>00103afe-d940-42d8-be96-d1fdab2a4c53</th>\n      <td>556517838</td>\n      <td>2019-10-06 20:04:02+00:00</td>\n      <td>2019-10-06 20:04:02+00:00</td>\n      <td>1</td>\n      <td>0</td>\n    </tr>\n    <tr>\n      <th>00118c0a-8c6d-483c-84e5-1ca82e173513</th>\n      <td>518652214</td>\n      <td>2019-10-13 19:55:15+00:00</td>\n      <td>2019-10-13 20:30:38+00:00</td>\n      <td>1</td>\n      <td>2123</td>\n    </tr>\n    <tr>\n      <th>00140e7d-0932-41b0-833c-5d41c67f39a1</th>\n      <td>560827740</td>\n      <td>2019-10-28 12:37:38+00:00</td>\n      <td>2019-10-28 12:37:38+00:00</td>\n      <td>1</td>\n      <td>0</td>\n    </tr>\n  </tbody>\n</table>\n</div>"
     },
     "metadata": {},
     "execution_count": 14
    }
   ],
   "source": [
    "grouped = visits.reset_index().groupby('last_visit_in_session')\n",
    "sessions = pd.concat(\n",
    "    [\n",
    "        grouped['user_id'].min().to_frame() # max also fine\n",
    "        ,grouped['start_time'].min().to_frame()\n",
    "        ,grouped['end_time'].max().to_frame()\n",
    "        ,grouped['visit_id'].count()\n",
    "    ]\n",
    "    ,axis=1\n",
    ")\n",
    "sessions.rename({\"visit_id\":\"visit_id_count\"}, axis=\"columns\", inplace=True)\n",
    "sessions['duration'] = (sessions['end_time'] - sessions['start_time']).dt.seconds\n",
    "del grouped\n",
    "sessions.head()"
   ]
  },
  {
   "source": [
    "# Intra-session metrics"
   ],
   "cell_type": "markdown",
   "metadata": {}
  },
  {
   "source": [
    "## Downstream Engagement\n",
    "What does the user do after clicking (viewing) an item. Also related to conversion rate metrics."
   ],
   "cell_type": "markdown",
   "metadata": {}
  },
  {
   "cell_type": "code",
   "execution_count": 19,
   "metadata": {},
   "outputs": [
    {
     "output_type": "stream",
     "name": "stdout",
     "text": [
      "Fraction of clicked items which were carted:0.0695\n"
     ]
    }
   ],
   "source": [
    "print(\n",
    "f\"Fraction of viewed items which were carted:{len(visits[visits['event_type']=='cart']) / len(visits[visits['event_type']=='view']):.4f}\" \n",
    ")"
   ]
  },
  {
   "cell_type": "code",
   "execution_count": 26,
   "metadata": {},
   "outputs": [
    {
     "output_type": "stream",
     "name": "stdout",
     "text": [
      "Fraction of clicked items which were purchased:0.0425\n"
     ]
    }
   ],
   "source": [
    "print(\n",
    "f\"Fraction of viewed items which were purchased:{len(visits[visits['event_type']=='purchase']) / len(visits[visits['event_type']=='view']):.4f}\" \n",
    ")"
   ]
  },
  {
   "source": [
    "## Dwell time\n",
    "To calculate the right dwell time, rather than getting the duration of the session, one would need to sum the duration of each visit that makes up a session."
   ],
   "cell_type": "markdown",
   "metadata": {}
  },
  {
   "cell_type": "code",
   "execution_count": 20,
   "metadata": {},
   "outputs": [],
   "source": [
    "visit_from_session = {x:[] for x in last_visit_in_sessions.values()}\n",
    "for key, value in last_visit_in_sessions.items():\n",
    "    visit_from_session[value].append(key)"
   ]
  },
  {
   "cell_type": "code",
   "execution_count": 21,
   "metadata": {},
   "outputs": [],
   "source": [
    "session_dwell_times = {key: visits.loc[value,'duration'].sum() for key,value in last_visit_in_sessions.items()}"
   ]
  },
  {
   "cell_type": "code",
   "execution_count": 22,
   "metadata": {},
   "outputs": [],
   "source": [
    "sessions['dwell_time'] = sessions.index.map(session_dwell_times)"
   ]
  },
  {
   "cell_type": "code",
   "execution_count": 23,
   "metadata": {},
   "outputs": [
    {
     "output_type": "execute_result",
     "data": {
      "text/plain": [
       "                                        user_id                start_time  \\\n",
       "last_visit_in_session                                                       \n",
       "0004877e-8ef5-4ffd-90bf-d293b9973991  513325471 2019-10-01 05:29:03+00:00   \n",
       "000eb398-bae9-43a2-a244-8753155ef1f1  519491226 2019-10-31 08:53:21+00:00   \n",
       "00103afe-d940-42d8-be96-d1fdab2a4c53  556517838 2019-10-06 20:04:02+00:00   \n",
       "00118c0a-8c6d-483c-84e5-1ca82e173513  518652214 2019-10-13 19:55:15+00:00   \n",
       "00140e7d-0932-41b0-833c-5d41c67f39a1  560827740 2019-10-28 12:37:38+00:00   \n",
       "\n",
       "                                                      end_time  \\\n",
       "last_visit_in_session                                            \n",
       "0004877e-8ef5-4ffd-90bf-d293b9973991 2019-10-01 05:29:03+00:00   \n",
       "000eb398-bae9-43a2-a244-8753155ef1f1 2019-10-31 08:53:21+00:00   \n",
       "00103afe-d940-42d8-be96-d1fdab2a4c53 2019-10-06 20:04:02+00:00   \n",
       "00118c0a-8c6d-483c-84e5-1ca82e173513 2019-10-13 20:30:38+00:00   \n",
       "00140e7d-0932-41b0-833c-5d41c67f39a1 2019-10-28 12:37:38+00:00   \n",
       "\n",
       "                                      visit_id_count  duration  dwell_time  \n",
       "last_visit_in_session                                                       \n",
       "0004877e-8ef5-4ffd-90bf-d293b9973991               1         0           0  \n",
       "000eb398-bae9-43a2-a244-8753155ef1f1               1         0           0  \n",
       "00103afe-d940-42d8-be96-d1fdab2a4c53               1         0           0  \n",
       "00118c0a-8c6d-483c-84e5-1ca82e173513               1      2123        2123  \n",
       "00140e7d-0932-41b0-833c-5d41c67f39a1               1         0           0  "
      ],
      "text/html": "<div>\n<style scoped>\n    .dataframe tbody tr th:only-of-type {\n        vertical-align: middle;\n    }\n\n    .dataframe tbody tr th {\n        vertical-align: top;\n    }\n\n    .dataframe thead th {\n        text-align: right;\n    }\n</style>\n<table border=\"1\" class=\"dataframe\">\n  <thead>\n    <tr style=\"text-align: right;\">\n      <th></th>\n      <th>user_id</th>\n      <th>start_time</th>\n      <th>end_time</th>\n      <th>visit_id_count</th>\n      <th>duration</th>\n      <th>dwell_time</th>\n    </tr>\n    <tr>\n      <th>last_visit_in_session</th>\n      <th></th>\n      <th></th>\n      <th></th>\n      <th></th>\n      <th></th>\n      <th></th>\n    </tr>\n  </thead>\n  <tbody>\n    <tr>\n      <th>0004877e-8ef5-4ffd-90bf-d293b9973991</th>\n      <td>513325471</td>\n      <td>2019-10-01 05:29:03+00:00</td>\n      <td>2019-10-01 05:29:03+00:00</td>\n      <td>1</td>\n      <td>0</td>\n      <td>0</td>\n    </tr>\n    <tr>\n      <th>000eb398-bae9-43a2-a244-8753155ef1f1</th>\n      <td>519491226</td>\n      <td>2019-10-31 08:53:21+00:00</td>\n      <td>2019-10-31 08:53:21+00:00</td>\n      <td>1</td>\n      <td>0</td>\n      <td>0</td>\n    </tr>\n    <tr>\n      <th>00103afe-d940-42d8-be96-d1fdab2a4c53</th>\n      <td>556517838</td>\n      <td>2019-10-06 20:04:02+00:00</td>\n      <td>2019-10-06 20:04:02+00:00</td>\n      <td>1</td>\n      <td>0</td>\n      <td>0</td>\n    </tr>\n    <tr>\n      <th>00118c0a-8c6d-483c-84e5-1ca82e173513</th>\n      <td>518652214</td>\n      <td>2019-10-13 19:55:15+00:00</td>\n      <td>2019-10-13 20:30:38+00:00</td>\n      <td>1</td>\n      <td>2123</td>\n      <td>2123</td>\n    </tr>\n    <tr>\n      <th>00140e7d-0932-41b0-833c-5d41c67f39a1</th>\n      <td>560827740</td>\n      <td>2019-10-28 12:37:38+00:00</td>\n      <td>2019-10-28 12:37:38+00:00</td>\n      <td>1</td>\n      <td>0</td>\n      <td>0</td>\n    </tr>\n  </tbody>\n</table>\n</div>"
     },
     "metadata": {},
     "execution_count": 23
    }
   ],
   "source": [
    "sessions.head()"
   ]
  },
  {
   "cell_type": "code",
   "execution_count": 24,
   "metadata": {},
   "outputs": [
    {
     "output_type": "stream",
     "name": "stdout",
     "text": [
      "Describing the duration in seconds, we get:\n"
     ]
    },
    {
     "output_type": "execute_result",
     "data": {
      "text/plain": [
       "count    22942.0\n",
       "mean       469.0\n",
       "std       3284.0\n",
       "min          0.0\n",
       "25%          0.0\n",
       "50%         63.0\n",
       "75%        265.0\n",
       "max      85352.0\n",
       "Name: dwell_time, dtype: float64"
      ]
     },
     "metadata": {},
     "execution_count": 24
    }
   ],
   "source": [
    "print(\"Describing the duration in seconds, we get:\")\n",
    "round(sessions['dwell_time'].describe())"
   ]
  },
  {
   "source": [
    "Therefore, we can say a user spends about a minute when engaging with the app."
   ],
   "cell_type": "markdown",
   "metadata": {}
  },
  {
   "source": [
    "## Revisits"
   ],
   "cell_type": "markdown",
   "metadata": {}
  },
  {
   "source": [
    "### Revisit rate"
   ],
   "cell_type": "markdown",
   "metadata": {}
  },
  {
   "cell_type": "code",
   "execution_count": 28,
   "metadata": {},
   "outputs": [
    {
     "output_type": "stream",
     "name": "stdout",
     "text": [
      "Fraction of sessions with more than one visit (revisit rate): 0.1951\n"
     ]
    }
   ],
   "source": [
    "print(f\"Fraction of sessions with more than one visit (revisit rate): {len(sessions[sessions['visit_id_count']>1]) / len(sessions):.4f}\")"
   ]
  },
  {
   "source": [
    "### Average time between visits"
   ],
   "cell_type": "markdown",
   "metadata": {}
  },
  {
   "cell_type": "code",
   "execution_count": 32,
   "metadata": {},
   "outputs": [],
   "source": [
    "time_between_visits = (sessions[sessions['visit_id_count']>1]['duration'] - sessions[sessions['visit_id_count']>1]['dwell_time']) / (sessions[sessions['visit_id_count']>1]['visit_id_count'] - 1)"
   ]
  },
  {
   "cell_type": "code",
   "execution_count": 33,
   "metadata": {},
   "outputs": [
    {
     "output_type": "execute_result",
     "data": {
      "text/plain": [
       "count     4476.000000\n",
       "mean       749.547869\n",
       "std        855.465551\n",
       "min          0.000000\n",
       "25%        205.750000\n",
       "50%        515.750000\n",
       "75%       1040.625000\n",
       "max      14895.000000\n",
       "dtype: float64"
      ]
     },
     "metadata": {},
     "execution_count": 33
    }
   ],
   "source": [
    "time_between_visits.describe()"
   ]
  },
  {
   "source": [
    "Taking the median, we see that users spend about eight and a half minutes between visits in the same session."
   ],
   "cell_type": "markdown",
   "metadata": {}
  },
  {
   "source": [
    "### Pageview\n",
    "In our case, it would be the items that were viewed in the session. Since each visit seems to correspond with a single item id, we simply need to count the number of visits in each session."
   ],
   "cell_type": "markdown",
   "metadata": {}
  },
  {
   "cell_type": "code",
   "execution_count": 27,
   "metadata": {},
   "outputs": [
    {
     "output_type": "stream",
     "name": "stdout",
     "text": [
      "Looking at the number of visits each session, we get:\n"
     ]
    },
    {
     "output_type": "execute_result",
     "data": {
      "text/plain": [
       "count    22942.0\n",
       "mean         1.0\n",
       "std          1.0\n",
       "min          1.0\n",
       "25%          1.0\n",
       "50%          1.0\n",
       "75%          1.0\n",
       "max         35.0\n",
       "Name: visit_id_count, dtype: float64"
      ]
     },
     "metadata": {},
     "execution_count": 27
    }
   ],
   "source": [
    "print(\"Looking at the number of visits each session, we get:\")\n",
    "round(sessions['visit_id_count'].describe())"
   ]
  },
  {
   "cell_type": "code",
   "execution_count": 29,
   "metadata": {},
   "outputs": [
    {
     "output_type": "display_data",
     "data": {
      "text/plain": "<Figure size 432x288 with 1 Axes>",
      "image/svg+xml": "<?xml version=\"1.0\" encoding=\"utf-8\" standalone=\"no\"?>\n<!DOCTYPE svg PUBLIC \"-//W3C//DTD SVG 1.1//EN\"\n  \"http://www.w3.org/Graphics/SVG/1.1/DTD/svg11.dtd\">\n<!-- Created with matplotlib (https://matplotlib.org/) -->\n<svg height=\"262.19625pt\" version=\"1.1\" viewBox=\"0 0 395.328125 262.19625\" width=\"395.328125pt\" xmlns=\"http://www.w3.org/2000/svg\" xmlns:xlink=\"http://www.w3.org/1999/xlink\">\n <metadata>\n  <rdf:RDF xmlns:cc=\"http://creativecommons.org/ns#\" xmlns:dc=\"http://purl.org/dc/elements/1.1/\" xmlns:rdf=\"http://www.w3.org/1999/02/22-rdf-syntax-ns#\">\n   <cc:Work>\n    <dc:type rdf:resource=\"http://purl.org/dc/dcmitype/StillImage\"/>\n    <dc:date>2021-02-04T12:13:38.614475</dc:date>\n    <dc:format>image/svg+xml</dc:format>\n    <dc:creator>\n     <cc:Agent>\n      <dc:title>Matplotlib v3.3.3, https://matplotlib.org/</dc:title>\n     </cc:Agent>\n    </dc:creator>\n   </cc:Work>\n  </rdf:RDF>\n </metadata>\n <defs>\n  <style type=\"text/css\">*{stroke-linecap:butt;stroke-linejoin:round;}</style>\n </defs>\n <g id=\"figure_1\">\n  <g id=\"patch_1\">\n   <path d=\"M 0 262.19625 \nL 395.328125 262.19625 \nL 395.328125 0 \nL 0 0 \nz\n\" style=\"fill:none;\"/>\n  </g>\n  <g id=\"axes_1\">\n   <g id=\"patch_2\">\n    <path d=\"M 53.328125 224.64 \nL 388.128125 224.64 \nL 388.128125 7.2 \nL 53.328125 7.2 \nz\n\" style=\"fill:#ffffff;\"/>\n   </g>\n   <g id=\"patch_3\">\n    <path clip-path=\"url(#pcbce1fc3a4)\" d=\"M 68.546307 224.64 \nL 69.665291 224.64 \nL 69.665291 17.554286 \nL 68.546307 17.554286 \nz\n\" style=\"fill:#1f77b4;fill-opacity:0.75;stroke:#000000;stroke-linejoin:miter;stroke-width:0.111898;\"/>\n   </g>\n   <g id=\"patch_4\">\n    <path clip-path=\"url(#pcbce1fc3a4)\" d=\"M 69.665291 224.64 \nL 70.784275 224.64 \nL 70.784275 224.64 \nL 69.665291 224.64 \nz\n\" style=\"fill:#1f77b4;fill-opacity:0.75;stroke:#000000;stroke-linejoin:miter;stroke-width:0.111898;\"/>\n   </g>\n   <g id=\"patch_5\">\n    <path clip-path=\"url(#pcbce1fc3a4)\" d=\"M 70.784275 224.64 \nL 71.903259 224.64 \nL 71.903259 224.64 \nL 70.784275 224.64 \nz\n\" style=\"fill:#1f77b4;fill-opacity:0.75;stroke:#000000;stroke-linejoin:miter;stroke-width:0.111898;\"/>\n   </g>\n   <g id=\"patch_6\">\n    <path clip-path=\"url(#pcbce1fc3a4)\" d=\"M 71.903259 224.64 \nL 73.022243 224.64 \nL 73.022243 224.64 \nL 71.903259 224.64 \nz\n\" style=\"fill:#1f77b4;fill-opacity:0.75;stroke:#000000;stroke-linejoin:miter;stroke-width:0.111898;\"/>\n   </g>\n   <g id=\"patch_7\">\n    <path clip-path=\"url(#pcbce1fc3a4)\" d=\"M 73.022243 224.64 \nL 74.141227 224.64 \nL 74.141227 224.64 \nL 73.022243 224.64 \nz\n\" style=\"fill:#1f77b4;fill-opacity:0.75;stroke:#000000;stroke-linejoin:miter;stroke-width:0.111898;\"/>\n   </g>\n   <g id=\"patch_8\">\n    <path clip-path=\"url(#pcbce1fc3a4)\" d=\"M 74.141227 224.64 \nL 75.260211 224.64 \nL 75.260211 224.64 \nL 74.141227 224.64 \nz\n\" style=\"fill:#1f77b4;fill-opacity:0.75;stroke:#000000;stroke-linejoin:miter;stroke-width:0.111898;\"/>\n   </g>\n   <g id=\"patch_9\">\n    <path clip-path=\"url(#pcbce1fc3a4)\" d=\"M 75.260211 224.64 \nL 76.379195 224.64 \nL 76.379195 224.64 \nL 75.260211 224.64 \nz\n\" style=\"fill:#1f77b4;fill-opacity:0.75;stroke:#000000;stroke-linejoin:miter;stroke-width:0.111898;\"/>\n   </g>\n   <g id=\"patch_10\">\n    <path clip-path=\"url(#pcbce1fc3a4)\" d=\"M 76.379195 224.64 \nL 77.498178 224.64 \nL 77.498178 224.64 \nL 76.379195 224.64 \nz\n\" style=\"fill:#1f77b4;fill-opacity:0.75;stroke:#000000;stroke-linejoin:miter;stroke-width:0.111898;\"/>\n   </g>\n   <g id=\"patch_11\">\n    <path clip-path=\"url(#pcbce1fc3a4)\" d=\"M 77.498178 224.64 \nL 78.617162 224.64 \nL 78.617162 169.274494 \nL 77.498178 169.274494 \nz\n\" style=\"fill:#1f77b4;fill-opacity:0.75;stroke:#000000;stroke-linejoin:miter;stroke-width:0.111898;\"/>\n   </g>\n   <g id=\"patch_12\">\n    <path clip-path=\"url(#pcbce1fc3a4)\" d=\"M 78.617162 224.64 \nL 79.736146 224.64 \nL 79.736146 224.64 \nL 78.617162 224.64 \nz\n\" style=\"fill:#1f77b4;fill-opacity:0.75;stroke:#000000;stroke-linejoin:miter;stroke-width:0.111898;\"/>\n   </g>\n   <g id=\"patch_13\">\n    <path clip-path=\"url(#pcbce1fc3a4)\" d=\"M 79.736146 224.64 \nL 80.85513 224.64 \nL 80.85513 224.64 \nL 79.736146 224.64 \nz\n\" style=\"fill:#1f77b4;fill-opacity:0.75;stroke:#000000;stroke-linejoin:miter;stroke-width:0.111898;\"/>\n   </g>\n   <g id=\"patch_14\">\n    <path clip-path=\"url(#pcbce1fc3a4)\" d=\"M 80.85513 224.64 \nL 81.974114 224.64 \nL 81.974114 224.64 \nL 80.85513 224.64 \nz\n\" style=\"fill:#1f77b4;fill-opacity:0.75;stroke:#000000;stroke-linejoin:miter;stroke-width:0.111898;\"/>\n   </g>\n   <g id=\"patch_15\">\n    <path clip-path=\"url(#pcbce1fc3a4)\" d=\"M 81.974114 224.64 \nL 83.093098 224.64 \nL 83.093098 224.64 \nL 81.974114 224.64 \nz\n\" style=\"fill:#1f77b4;fill-opacity:0.75;stroke:#000000;stroke-linejoin:miter;stroke-width:0.111898;\"/>\n   </g>\n   <g id=\"patch_16\">\n    <path clip-path=\"url(#pcbce1fc3a4)\" d=\"M 83.093098 224.64 \nL 84.212082 224.64 \nL 84.212082 224.64 \nL 83.093098 224.64 \nz\n\" style=\"fill:#1f77b4;fill-opacity:0.75;stroke:#000000;stroke-linejoin:miter;stroke-width:0.111898;\"/>\n   </g>\n   <g id=\"patch_17\">\n    <path clip-path=\"url(#pcbce1fc3a4)\" d=\"M 84.212082 224.64 \nL 85.331066 224.64 \nL 85.331066 224.64 \nL 84.212082 224.64 \nz\n\" style=\"fill:#1f77b4;fill-opacity:0.75;stroke:#000000;stroke-linejoin:miter;stroke-width:0.111898;\"/>\n   </g>\n   <g id=\"patch_18\">\n    <path clip-path=\"url(#pcbce1fc3a4)\" d=\"M 85.331066 224.64 \nL 86.45005 224.64 \nL 86.45005 224.64 \nL 85.331066 224.64 \nz\n\" style=\"fill:#1f77b4;fill-opacity:0.75;stroke:#000000;stroke-linejoin:miter;stroke-width:0.111898;\"/>\n   </g>\n   <g id=\"patch_19\">\n    <path clip-path=\"url(#pcbce1fc3a4)\" d=\"M 86.45005 224.64 \nL 87.569034 224.64 \nL 87.569034 204.646901 \nL 86.45005 204.646901 \nz\n\" style=\"fill:#1f77b4;fill-opacity:0.75;stroke:#000000;stroke-linejoin:miter;stroke-width:0.111898;\"/>\n   </g>\n   <g id=\"patch_20\">\n    <path clip-path=\"url(#pcbce1fc3a4)\" d=\"M 87.569034 224.64 \nL 88.688018 224.64 \nL 88.688018 224.64 \nL 87.569034 224.64 \nz\n\" style=\"fill:#1f77b4;fill-opacity:0.75;stroke:#000000;stroke-linejoin:miter;stroke-width:0.111898;\"/>\n   </g>\n   <g id=\"patch_21\">\n    <path clip-path=\"url(#pcbce1fc3a4)\" d=\"M 88.688018 224.64 \nL 89.807002 224.64 \nL 89.807002 224.64 \nL 88.688018 224.64 \nz\n\" style=\"fill:#1f77b4;fill-opacity:0.75;stroke:#000000;stroke-linejoin:miter;stroke-width:0.111898;\"/>\n   </g>\n   <g id=\"patch_22\">\n    <path clip-path=\"url(#pcbce1fc3a4)\" d=\"M 89.807002 224.64 \nL 90.925986 224.64 \nL 90.925986 224.64 \nL 89.807002 224.64 \nz\n\" style=\"fill:#1f77b4;fill-opacity:0.75;stroke:#000000;stroke-linejoin:miter;stroke-width:0.111898;\"/>\n   </g>\n   <g id=\"patch_23\">\n    <path clip-path=\"url(#pcbce1fc3a4)\" d=\"M 90.925986 224.64 \nL 92.04497 224.64 \nL 92.04497 224.64 \nL 90.925986 224.64 \nz\n\" style=\"fill:#1f77b4;fill-opacity:0.75;stroke:#000000;stroke-linejoin:miter;stroke-width:0.111898;\"/>\n   </g>\n   <g id=\"patch_24\">\n    <path clip-path=\"url(#pcbce1fc3a4)\" d=\"M 92.04497 224.64 \nL 93.163954 224.64 \nL 93.163954 224.64 \nL 92.04497 224.64 \nz\n\" style=\"fill:#1f77b4;fill-opacity:0.75;stroke:#000000;stroke-linejoin:miter;stroke-width:0.111898;\"/>\n   </g>\n   <g id=\"patch_25\">\n    <path clip-path=\"url(#pcbce1fc3a4)\" d=\"M 93.163954 224.64 \nL 94.282938 224.64 \nL 94.282938 224.64 \nL 93.163954 224.64 \nz\n\" style=\"fill:#1f77b4;fill-opacity:0.75;stroke:#000000;stroke-linejoin:miter;stroke-width:0.111898;\"/>\n   </g>\n   <g id=\"patch_26\">\n    <path clip-path=\"url(#pcbce1fc3a4)\" d=\"M 94.282938 224.64 \nL 95.401922 224.64 \nL 95.401922 224.64 \nL 94.282938 224.64 \nz\n\" style=\"fill:#1f77b4;fill-opacity:0.75;stroke:#000000;stroke-linejoin:miter;stroke-width:0.111898;\"/>\n   </g>\n   <g id=\"patch_27\">\n    <path clip-path=\"url(#pcbce1fc3a4)\" d=\"M 95.401922 224.64 \nL 96.520906 224.64 \nL 96.520906 216.68288 \nL 95.401922 216.68288 \nz\n\" style=\"fill:#1f77b4;fill-opacity:0.75;stroke:#000000;stroke-linejoin:miter;stroke-width:0.111898;\"/>\n   </g>\n   <g id=\"patch_28\">\n    <path clip-path=\"url(#pcbce1fc3a4)\" d=\"M 96.520906 224.64 \nL 97.63989 224.64 \nL 97.63989 224.64 \nL 96.520906 224.64 \nz\n\" style=\"fill:#1f77b4;fill-opacity:0.75;stroke:#000000;stroke-linejoin:miter;stroke-width:0.111898;\"/>\n   </g>\n   <g id=\"patch_29\">\n    <path clip-path=\"url(#pcbce1fc3a4)\" d=\"M 97.63989 224.64 \nL 98.758874 224.64 \nL 98.758874 224.64 \nL 97.63989 224.64 \nz\n\" style=\"fill:#1f77b4;fill-opacity:0.75;stroke:#000000;stroke-linejoin:miter;stroke-width:0.111898;\"/>\n   </g>\n   <g id=\"patch_30\">\n    <path clip-path=\"url(#pcbce1fc3a4)\" d=\"M 98.758874 224.64 \nL 99.877858 224.64 \nL 99.877858 224.64 \nL 98.758874 224.64 \nz\n\" style=\"fill:#1f77b4;fill-opacity:0.75;stroke:#000000;stroke-linejoin:miter;stroke-width:0.111898;\"/>\n   </g>\n   <g id=\"patch_31\">\n    <path clip-path=\"url(#pcbce1fc3a4)\" d=\"M 99.877858 224.64 \nL 100.996842 224.64 \nL 100.996842 224.64 \nL 99.877858 224.64 \nz\n\" style=\"fill:#1f77b4;fill-opacity:0.75;stroke:#000000;stroke-linejoin:miter;stroke-width:0.111898;\"/>\n   </g>\n   <g id=\"patch_32\">\n    <path clip-path=\"url(#pcbce1fc3a4)\" d=\"M 100.996842 224.64 \nL 102.115826 224.64 \nL 102.115826 224.64 \nL 100.996842 224.64 \nz\n\" style=\"fill:#1f77b4;fill-opacity:0.75;stroke:#000000;stroke-linejoin:miter;stroke-width:0.111898;\"/>\n   </g>\n   <g id=\"patch_33\">\n    <path clip-path=\"url(#pcbce1fc3a4)\" d=\"M 102.115826 224.64 \nL 103.234809 224.64 \nL 103.234809 224.64 \nL 102.115826 224.64 \nz\n\" style=\"fill:#1f77b4;fill-opacity:0.75;stroke:#000000;stroke-linejoin:miter;stroke-width:0.111898;\"/>\n   </g>\n   <g id=\"patch_34\">\n    <path clip-path=\"url(#pcbce1fc3a4)\" d=\"M 103.234809 224.64 \nL 104.353793 224.64 \nL 104.353793 224.64 \nL 103.234809 224.64 \nz\n\" style=\"fill:#1f77b4;fill-opacity:0.75;stroke:#000000;stroke-linejoin:miter;stroke-width:0.111898;\"/>\n   </g>\n   <g id=\"patch_35\">\n    <path clip-path=\"url(#pcbce1fc3a4)\" d=\"M 104.353793 224.64 \nL 105.472777 224.64 \nL 105.472777 220.76174 \nL 104.353793 220.76174 \nz\n\" style=\"fill:#1f77b4;fill-opacity:0.75;stroke:#000000;stroke-linejoin:miter;stroke-width:0.111898;\"/>\n   </g>\n   <g id=\"patch_36\">\n    <path clip-path=\"url(#pcbce1fc3a4)\" d=\"M 105.472777 224.64 \nL 106.591761 224.64 \nL 106.591761 224.64 \nL 105.472777 224.64 \nz\n\" style=\"fill:#1f77b4;fill-opacity:0.75;stroke:#000000;stroke-linejoin:miter;stroke-width:0.111898;\"/>\n   </g>\n   <g id=\"patch_37\">\n    <path clip-path=\"url(#pcbce1fc3a4)\" d=\"M 106.591761 224.64 \nL 107.710745 224.64 \nL 107.710745 224.64 \nL 106.591761 224.64 \nz\n\" style=\"fill:#1f77b4;fill-opacity:0.75;stroke:#000000;stroke-linejoin:miter;stroke-width:0.111898;\"/>\n   </g>\n   <g id=\"patch_38\">\n    <path clip-path=\"url(#pcbce1fc3a4)\" d=\"M 107.710745 224.64 \nL 108.829729 224.64 \nL 108.829729 224.64 \nL 107.710745 224.64 \nz\n\" style=\"fill:#1f77b4;fill-opacity:0.75;stroke:#000000;stroke-linejoin:miter;stroke-width:0.111898;\"/>\n   </g>\n   <g id=\"patch_39\">\n    <path clip-path=\"url(#pcbce1fc3a4)\" d=\"M 108.829729 224.64 \nL 109.948713 224.64 \nL 109.948713 224.64 \nL 108.829729 224.64 \nz\n\" style=\"fill:#1f77b4;fill-opacity:0.75;stroke:#000000;stroke-linejoin:miter;stroke-width:0.111898;\"/>\n   </g>\n   <g id=\"patch_40\">\n    <path clip-path=\"url(#pcbce1fc3a4)\" d=\"M 109.948713 224.64 \nL 111.067697 224.64 \nL 111.067697 224.64 \nL 109.948713 224.64 \nz\n\" style=\"fill:#1f77b4;fill-opacity:0.75;stroke:#000000;stroke-linejoin:miter;stroke-width:0.111898;\"/>\n   </g>\n   <g id=\"patch_41\">\n    <path clip-path=\"url(#pcbce1fc3a4)\" d=\"M 111.067697 224.64 \nL 112.186681 224.64 \nL 112.186681 224.64 \nL 111.067697 224.64 \nz\n\" style=\"fill:#1f77b4;fill-opacity:0.75;stroke:#000000;stroke-linejoin:miter;stroke-width:0.111898;\"/>\n   </g>\n   <g id=\"patch_42\">\n    <path clip-path=\"url(#pcbce1fc3a4)\" d=\"M 112.186681 224.64 \nL 113.305665 224.64 \nL 113.305665 224.64 \nL 112.186681 224.64 \nz\n\" style=\"fill:#1f77b4;fill-opacity:0.75;stroke:#000000;stroke-linejoin:miter;stroke-width:0.111898;\"/>\n   </g>\n   <g id=\"patch_43\">\n    <path clip-path=\"url(#pcbce1fc3a4)\" d=\"M 113.305665 224.64 \nL 114.424649 224.64 \nL 114.424649 224.64 \nL 113.305665 224.64 \nz\n\" style=\"fill:#1f77b4;fill-opacity:0.75;stroke:#000000;stroke-linejoin:miter;stroke-width:0.111898;\"/>\n   </g>\n   <g id=\"patch_44\">\n    <path clip-path=\"url(#pcbce1fc3a4)\" d=\"M 114.424649 224.64 \nL 115.543633 224.64 \nL 115.543633 222.968336 \nL 114.424649 222.968336 \nz\n\" style=\"fill:#1f77b4;fill-opacity:0.75;stroke:#000000;stroke-linejoin:miter;stroke-width:0.111898;\"/>\n   </g>\n   <g id=\"patch_45\">\n    <path clip-path=\"url(#pcbce1fc3a4)\" d=\"M 115.543633 224.64 \nL 116.662617 224.64 \nL 116.662617 224.64 \nL 115.543633 224.64 \nz\n\" style=\"fill:#1f77b4;fill-opacity:0.75;stroke:#000000;stroke-linejoin:miter;stroke-width:0.111898;\"/>\n   </g>\n   <g id=\"patch_46\">\n    <path clip-path=\"url(#pcbce1fc3a4)\" d=\"M 116.662617 224.64 \nL 117.781601 224.64 \nL 117.781601 224.64 \nL 116.662617 224.64 \nz\n\" style=\"fill:#1f77b4;fill-opacity:0.75;stroke:#000000;stroke-linejoin:miter;stroke-width:0.111898;\"/>\n   </g>\n   <g id=\"patch_47\">\n    <path clip-path=\"url(#pcbce1fc3a4)\" d=\"M 117.781601 224.64 \nL 118.900585 224.64 \nL 118.900585 224.64 \nL 117.781601 224.64 \nz\n\" style=\"fill:#1f77b4;fill-opacity:0.75;stroke:#000000;stroke-linejoin:miter;stroke-width:0.111898;\"/>\n   </g>\n   <g id=\"patch_48\">\n    <path clip-path=\"url(#pcbce1fc3a4)\" d=\"M 118.900585 224.64 \nL 120.019569 224.64 \nL 120.019569 224.64 \nL 118.900585 224.64 \nz\n\" style=\"fill:#1f77b4;fill-opacity:0.75;stroke:#000000;stroke-linejoin:miter;stroke-width:0.111898;\"/>\n   </g>\n   <g id=\"patch_49\">\n    <path clip-path=\"url(#pcbce1fc3a4)\" d=\"M 120.019569 224.64 \nL 121.138553 224.64 \nL 121.138553 224.64 \nL 120.019569 224.64 \nz\n\" style=\"fill:#1f77b4;fill-opacity:0.75;stroke:#000000;stroke-linejoin:miter;stroke-width:0.111898;\"/>\n   </g>\n   <g id=\"patch_50\">\n    <path clip-path=\"url(#pcbce1fc3a4)\" d=\"M 121.138553 224.64 \nL 122.257537 224.64 \nL 122.257537 224.64 \nL 121.138553 224.64 \nz\n\" style=\"fill:#1f77b4;fill-opacity:0.75;stroke:#000000;stroke-linejoin:miter;stroke-width:0.111898;\"/>\n   </g>\n   <g id=\"patch_51\">\n    <path clip-path=\"url(#pcbce1fc3a4)\" d=\"M 122.257537 224.64 \nL 123.376521 224.64 \nL 123.376521 224.64 \nL 122.257537 224.64 \nz\n\" style=\"fill:#1f77b4;fill-opacity:0.75;stroke:#000000;stroke-linejoin:miter;stroke-width:0.111898;\"/>\n   </g>\n   <g id=\"patch_52\">\n    <path clip-path=\"url(#pcbce1fc3a4)\" d=\"M 123.376521 224.64 \nL 124.495505 224.64 \nL 124.495505 223.637002 \nL 123.376521 223.637002 \nz\n\" style=\"fill:#1f77b4;fill-opacity:0.75;stroke:#000000;stroke-linejoin:miter;stroke-width:0.111898;\"/>\n   </g>\n   <g id=\"patch_53\">\n    <path clip-path=\"url(#pcbce1fc3a4)\" d=\"M 124.495505 224.64 \nL 125.614489 224.64 \nL 125.614489 224.64 \nL 124.495505 224.64 \nz\n\" style=\"fill:#1f77b4;fill-opacity:0.75;stroke:#000000;stroke-linejoin:miter;stroke-width:0.111898;\"/>\n   </g>\n   <g id=\"patch_54\">\n    <path clip-path=\"url(#pcbce1fc3a4)\" d=\"M 125.614489 224.64 \nL 126.733473 224.64 \nL 126.733473 224.64 \nL 125.614489 224.64 \nz\n\" style=\"fill:#1f77b4;fill-opacity:0.75;stroke:#000000;stroke-linejoin:miter;stroke-width:0.111898;\"/>\n   </g>\n   <g id=\"patch_55\">\n    <path clip-path=\"url(#pcbce1fc3a4)\" d=\"M 126.733473 224.64 \nL 127.852457 224.64 \nL 127.852457 224.64 \nL 126.733473 224.64 \nz\n\" style=\"fill:#1f77b4;fill-opacity:0.75;stroke:#000000;stroke-linejoin:miter;stroke-width:0.111898;\"/>\n   </g>\n   <g id=\"patch_56\">\n    <path clip-path=\"url(#pcbce1fc3a4)\" d=\"M 127.852457 224.64 \nL 128.971441 224.64 \nL 128.971441 224.64 \nL 127.852457 224.64 \nz\n\" style=\"fill:#1f77b4;fill-opacity:0.75;stroke:#000000;stroke-linejoin:miter;stroke-width:0.111898;\"/>\n   </g>\n   <g id=\"patch_57\">\n    <path clip-path=\"url(#pcbce1fc3a4)\" d=\"M 128.971441 224.64 \nL 130.090424 224.64 \nL 130.090424 224.64 \nL 128.971441 224.64 \nz\n\" style=\"fill:#1f77b4;fill-opacity:0.75;stroke:#000000;stroke-linejoin:miter;stroke-width:0.111898;\"/>\n   </g>\n   <g id=\"patch_58\">\n    <path clip-path=\"url(#pcbce1fc3a4)\" d=\"M 130.090424 224.64 \nL 131.209408 224.64 \nL 131.209408 224.64 \nL 130.090424 224.64 \nz\n\" style=\"fill:#1f77b4;fill-opacity:0.75;stroke:#000000;stroke-linejoin:miter;stroke-width:0.111898;\"/>\n   </g>\n   <g id=\"patch_59\">\n    <path clip-path=\"url(#pcbce1fc3a4)\" d=\"M 131.209408 224.64 \nL 132.328392 224.64 \nL 132.328392 224.64 \nL 131.209408 224.64 \nz\n\" style=\"fill:#1f77b4;fill-opacity:0.75;stroke:#000000;stroke-linejoin:miter;stroke-width:0.111898;\"/>\n   </g>\n   <g id=\"patch_60\">\n    <path clip-path=\"url(#pcbce1fc3a4)\" d=\"M 132.328392 224.64 \nL 133.447376 224.64 \nL 133.447376 223.837601 \nL 132.328392 223.837601 \nz\n\" style=\"fill:#1f77b4;fill-opacity:0.75;stroke:#000000;stroke-linejoin:miter;stroke-width:0.111898;\"/>\n   </g>\n   <g id=\"patch_61\">\n    <path clip-path=\"url(#pcbce1fc3a4)\" d=\"M 133.447376 224.64 \nL 134.56636 224.64 \nL 134.56636 224.64 \nL 133.447376 224.64 \nz\n\" style=\"fill:#1f77b4;fill-opacity:0.75;stroke:#000000;stroke-linejoin:miter;stroke-width:0.111898;\"/>\n   </g>\n   <g id=\"patch_62\">\n    <path clip-path=\"url(#pcbce1fc3a4)\" d=\"M 134.56636 224.64 \nL 135.685344 224.64 \nL 135.685344 224.64 \nL 134.56636 224.64 \nz\n\" style=\"fill:#1f77b4;fill-opacity:0.75;stroke:#000000;stroke-linejoin:miter;stroke-width:0.111898;\"/>\n   </g>\n   <g id=\"patch_63\">\n    <path clip-path=\"url(#pcbce1fc3a4)\" d=\"M 135.685344 224.64 \nL 136.804328 224.64 \nL 136.804328 224.64 \nL 135.685344 224.64 \nz\n\" style=\"fill:#1f77b4;fill-opacity:0.75;stroke:#000000;stroke-linejoin:miter;stroke-width:0.111898;\"/>\n   </g>\n   <g id=\"patch_64\">\n    <path clip-path=\"url(#pcbce1fc3a4)\" d=\"M 136.804328 224.64 \nL 137.923312 224.64 \nL 137.923312 224.64 \nL 136.804328 224.64 \nz\n\" style=\"fill:#1f77b4;fill-opacity:0.75;stroke:#000000;stroke-linejoin:miter;stroke-width:0.111898;\"/>\n   </g>\n   <g id=\"patch_65\">\n    <path clip-path=\"url(#pcbce1fc3a4)\" d=\"M 137.923312 224.64 \nL 139.042296 224.64 \nL 139.042296 224.64 \nL 137.923312 224.64 \nz\n\" style=\"fill:#1f77b4;fill-opacity:0.75;stroke:#000000;stroke-linejoin:miter;stroke-width:0.111898;\"/>\n   </g>\n   <g id=\"patch_66\">\n    <path clip-path=\"url(#pcbce1fc3a4)\" d=\"M 139.042296 224.64 \nL 140.16128 224.64 \nL 140.16128 224.64 \nL 139.042296 224.64 \nz\n\" style=\"fill:#1f77b4;fill-opacity:0.75;stroke:#000000;stroke-linejoin:miter;stroke-width:0.111898;\"/>\n   </g>\n   <g id=\"patch_67\">\n    <path clip-path=\"url(#pcbce1fc3a4)\" d=\"M 140.16128 224.64 \nL 141.280264 224.64 \nL 141.280264 224.64 \nL 140.16128 224.64 \nz\n\" style=\"fill:#1f77b4;fill-opacity:0.75;stroke:#000000;stroke-linejoin:miter;stroke-width:0.111898;\"/>\n   </g>\n   <g id=\"patch_68\">\n    <path clip-path=\"url(#pcbce1fc3a4)\" d=\"M 141.280264 224.64 \nL 142.399248 224.64 \nL 142.399248 224.105068 \nL 141.280264 224.105068 \nz\n\" style=\"fill:#1f77b4;fill-opacity:0.75;stroke:#000000;stroke-linejoin:miter;stroke-width:0.111898;\"/>\n   </g>\n   <g id=\"patch_69\">\n    <path clip-path=\"url(#pcbce1fc3a4)\" d=\"M 142.399248 224.64 \nL 143.518232 224.64 \nL 143.518232 224.64 \nL 142.399248 224.64 \nz\n\" style=\"fill:#1f77b4;fill-opacity:0.75;stroke:#000000;stroke-linejoin:miter;stroke-width:0.111898;\"/>\n   </g>\n   <g id=\"patch_70\">\n    <path clip-path=\"url(#pcbce1fc3a4)\" d=\"M 143.518232 224.64 \nL 144.637216 224.64 \nL 144.637216 224.64 \nL 143.518232 224.64 \nz\n\" style=\"fill:#1f77b4;fill-opacity:0.75;stroke:#000000;stroke-linejoin:miter;stroke-width:0.111898;\"/>\n   </g>\n   <g id=\"patch_71\">\n    <path clip-path=\"url(#pcbce1fc3a4)\" d=\"M 144.637216 224.64 \nL 145.7562 224.64 \nL 145.7562 224.64 \nL 144.637216 224.64 \nz\n\" style=\"fill:#1f77b4;fill-opacity:0.75;stroke:#000000;stroke-linejoin:miter;stroke-width:0.111898;\"/>\n   </g>\n   <g id=\"patch_72\">\n    <path clip-path=\"url(#pcbce1fc3a4)\" d=\"M 145.7562 224.64 \nL 146.875184 224.64 \nL 146.875184 224.64 \nL 145.7562 224.64 \nz\n\" style=\"fill:#1f77b4;fill-opacity:0.75;stroke:#000000;stroke-linejoin:miter;stroke-width:0.111898;\"/>\n   </g>\n   <g id=\"patch_73\">\n    <path clip-path=\"url(#pcbce1fc3a4)\" d=\"M 146.875184 224.64 \nL 147.994168 224.64 \nL 147.994168 224.64 \nL 146.875184 224.64 \nz\n\" style=\"fill:#1f77b4;fill-opacity:0.75;stroke:#000000;stroke-linejoin:miter;stroke-width:0.111898;\"/>\n   </g>\n   <g id=\"patch_74\">\n    <path clip-path=\"url(#pcbce1fc3a4)\" d=\"M 147.994168 224.64 \nL 149.113152 224.64 \nL 149.113152 224.64 \nL 147.994168 224.64 \nz\n\" style=\"fill:#1f77b4;fill-opacity:0.75;stroke:#000000;stroke-linejoin:miter;stroke-width:0.111898;\"/>\n   </g>\n   <g id=\"patch_75\">\n    <path clip-path=\"url(#pcbce1fc3a4)\" d=\"M 149.113152 224.64 \nL 150.232136 224.64 \nL 150.232136 224.64 \nL 149.113152 224.64 \nz\n\" style=\"fill:#1f77b4;fill-opacity:0.75;stroke:#000000;stroke-linejoin:miter;stroke-width:0.111898;\"/>\n   </g>\n   <g id=\"patch_76\">\n    <path clip-path=\"url(#pcbce1fc3a4)\" d=\"M 150.232136 224.64 \nL 151.35112 224.64 \nL 151.35112 224.64 \nL 150.232136 224.64 \nz\n\" style=\"fill:#1f77b4;fill-opacity:0.75;stroke:#000000;stroke-linejoin:miter;stroke-width:0.111898;\"/>\n   </g>\n   <g id=\"patch_77\">\n    <path clip-path=\"url(#pcbce1fc3a4)\" d=\"M 151.35112 224.64 \nL 152.470104 224.64 \nL 152.470104 224.64 \nL 151.35112 224.64 \nz\n\" style=\"fill:#1f77b4;fill-opacity:0.75;stroke:#000000;stroke-linejoin:miter;stroke-width:0.111898;\"/>\n   </g>\n   <g id=\"patch_78\">\n    <path clip-path=\"url(#pcbce1fc3a4)\" d=\"M 152.470104 224.64 \nL 153.589088 224.64 \nL 153.589088 224.64 \nL 152.470104 224.64 \nz\n\" style=\"fill:#1f77b4;fill-opacity:0.75;stroke:#000000;stroke-linejoin:miter;stroke-width:0.111898;\"/>\n   </g>\n   <g id=\"patch_79\">\n    <path clip-path=\"url(#pcbce1fc3a4)\" d=\"M 153.589088 224.64 \nL 154.708072 224.64 \nL 154.708072 224.64 \nL 153.589088 224.64 \nz\n\" style=\"fill:#1f77b4;fill-opacity:0.75;stroke:#000000;stroke-linejoin:miter;stroke-width:0.111898;\"/>\n   </g>\n   <g id=\"patch_80\">\n    <path clip-path=\"url(#pcbce1fc3a4)\" d=\"M 154.708072 224.64 \nL 155.827055 224.64 \nL 155.827055 224.64 \nL 154.708072 224.64 \nz\n\" style=\"fill:#1f77b4;fill-opacity:0.75;stroke:#000000;stroke-linejoin:miter;stroke-width:0.111898;\"/>\n   </g>\n   <g id=\"patch_81\">\n    <path clip-path=\"url(#pcbce1fc3a4)\" d=\"M 155.827055 224.64 \nL 156.946039 224.64 \nL 156.946039 224.64 \nL 155.827055 224.64 \nz\n\" style=\"fill:#1f77b4;fill-opacity:0.75;stroke:#000000;stroke-linejoin:miter;stroke-width:0.111898;\"/>\n   </g>\n   <g id=\"patch_82\">\n    <path clip-path=\"url(#pcbce1fc3a4)\" d=\"M 156.946039 224.64 \nL 158.065023 224.64 \nL 158.065023 224.64 \nL 156.946039 224.64 \nz\n\" style=\"fill:#1f77b4;fill-opacity:0.75;stroke:#000000;stroke-linejoin:miter;stroke-width:0.111898;\"/>\n   </g>\n   <g id=\"patch_83\">\n    <path clip-path=\"url(#pcbce1fc3a4)\" d=\"M 158.065023 224.64 \nL 159.184007 224.64 \nL 159.184007 224.64 \nL 158.065023 224.64 \nz\n\" style=\"fill:#1f77b4;fill-opacity:0.75;stroke:#000000;stroke-linejoin:miter;stroke-width:0.111898;\"/>\n   </g>\n   <g id=\"patch_84\">\n    <path clip-path=\"url(#pcbce1fc3a4)\" d=\"M 159.184007 224.64 \nL 160.302991 224.64 \nL 160.302991 224.64 \nL 159.184007 224.64 \nz\n\" style=\"fill:#1f77b4;fill-opacity:0.75;stroke:#000000;stroke-linejoin:miter;stroke-width:0.111898;\"/>\n   </g>\n   <g id=\"patch_85\">\n    <path clip-path=\"url(#pcbce1fc3a4)\" d=\"M 160.302991 224.64 \nL 161.421975 224.64 \nL 161.421975 224.4394 \nL 160.302991 224.4394 \nz\n\" style=\"fill:#1f77b4;fill-opacity:0.75;stroke:#000000;stroke-linejoin:miter;stroke-width:0.111898;\"/>\n   </g>\n   <g id=\"patch_86\">\n    <path clip-path=\"url(#pcbce1fc3a4)\" d=\"M 161.421975 224.64 \nL 162.540959 224.64 \nL 162.540959 224.64 \nL 161.421975 224.64 \nz\n\" style=\"fill:#1f77b4;fill-opacity:0.75;stroke:#000000;stroke-linejoin:miter;stroke-width:0.111898;\"/>\n   </g>\n   <g id=\"patch_87\">\n    <path clip-path=\"url(#pcbce1fc3a4)\" d=\"M 162.540959 224.64 \nL 163.659943 224.64 \nL 163.659943 224.64 \nL 162.540959 224.64 \nz\n\" style=\"fill:#1f77b4;fill-opacity:0.75;stroke:#000000;stroke-linejoin:miter;stroke-width:0.111898;\"/>\n   </g>\n   <g id=\"patch_88\">\n    <path clip-path=\"url(#pcbce1fc3a4)\" d=\"M 163.659943 224.64 \nL 164.778927 224.64 \nL 164.778927 224.64 \nL 163.659943 224.64 \nz\n\" style=\"fill:#1f77b4;fill-opacity:0.75;stroke:#000000;stroke-linejoin:miter;stroke-width:0.111898;\"/>\n   </g>\n   <g id=\"patch_89\">\n    <path clip-path=\"url(#pcbce1fc3a4)\" d=\"M 164.778927 224.64 \nL 165.897911 224.64 \nL 165.897911 224.64 \nL 164.778927 224.64 \nz\n\" style=\"fill:#1f77b4;fill-opacity:0.75;stroke:#000000;stroke-linejoin:miter;stroke-width:0.111898;\"/>\n   </g>\n   <g id=\"patch_90\">\n    <path clip-path=\"url(#pcbce1fc3a4)\" d=\"M 165.897911 224.64 \nL 167.016895 224.64 \nL 167.016895 224.64 \nL 165.897911 224.64 \nz\n\" style=\"fill:#1f77b4;fill-opacity:0.75;stroke:#000000;stroke-linejoin:miter;stroke-width:0.111898;\"/>\n   </g>\n   <g id=\"patch_91\">\n    <path clip-path=\"url(#pcbce1fc3a4)\" d=\"M 167.016895 224.64 \nL 168.135879 224.64 \nL 168.135879 224.64 \nL 167.016895 224.64 \nz\n\" style=\"fill:#1f77b4;fill-opacity:0.75;stroke:#000000;stroke-linejoin:miter;stroke-width:0.111898;\"/>\n   </g>\n   <g id=\"patch_92\">\n    <path clip-path=\"url(#pcbce1fc3a4)\" d=\"M 168.135879 224.64 \nL 169.254863 224.64 \nL 169.254863 224.64 \nL 168.135879 224.64 \nz\n\" style=\"fill:#1f77b4;fill-opacity:0.75;stroke:#000000;stroke-linejoin:miter;stroke-width:0.111898;\"/>\n   </g>\n   <g id=\"patch_93\">\n    <path clip-path=\"url(#pcbce1fc3a4)\" d=\"M 169.254863 224.64 \nL 170.373847 224.64 \nL 170.373847 224.372534 \nL 169.254863 224.372534 \nz\n\" style=\"fill:#1f77b4;fill-opacity:0.75;stroke:#000000;stroke-linejoin:miter;stroke-width:0.111898;\"/>\n   </g>\n   <g id=\"patch_94\">\n    <path clip-path=\"url(#pcbce1fc3a4)\" d=\"M 170.373847 224.64 \nL 171.492831 224.64 \nL 171.492831 224.64 \nL 170.373847 224.64 \nz\n\" style=\"fill:#1f77b4;fill-opacity:0.75;stroke:#000000;stroke-linejoin:miter;stroke-width:0.111898;\"/>\n   </g>\n   <g id=\"patch_95\">\n    <path clip-path=\"url(#pcbce1fc3a4)\" d=\"M 171.492831 224.64 \nL 172.611815 224.64 \nL 172.611815 224.64 \nL 171.492831 224.64 \nz\n\" style=\"fill:#1f77b4;fill-opacity:0.75;stroke:#000000;stroke-linejoin:miter;stroke-width:0.111898;\"/>\n   </g>\n   <g id=\"patch_96\">\n    <path clip-path=\"url(#pcbce1fc3a4)\" d=\"M 172.611815 224.64 \nL 173.730799 224.64 \nL 173.730799 224.64 \nL 172.611815 224.64 \nz\n\" style=\"fill:#1f77b4;fill-opacity:0.75;stroke:#000000;stroke-linejoin:miter;stroke-width:0.111898;\"/>\n   </g>\n   <g id=\"patch_97\">\n    <path clip-path=\"url(#pcbce1fc3a4)\" d=\"M 173.730799 224.64 \nL 174.849783 224.64 \nL 174.849783 224.64 \nL 173.730799 224.64 \nz\n\" style=\"fill:#1f77b4;fill-opacity:0.75;stroke:#000000;stroke-linejoin:miter;stroke-width:0.111898;\"/>\n   </g>\n   <g id=\"patch_98\">\n    <path clip-path=\"url(#pcbce1fc3a4)\" d=\"M 174.849783 224.64 \nL 175.968767 224.64 \nL 175.968767 224.64 \nL 174.849783 224.64 \nz\n\" style=\"fill:#1f77b4;fill-opacity:0.75;stroke:#000000;stroke-linejoin:miter;stroke-width:0.111898;\"/>\n   </g>\n   <g id=\"patch_99\">\n    <path clip-path=\"url(#pcbce1fc3a4)\" d=\"M 175.968767 224.64 \nL 177.087751 224.64 \nL 177.087751 224.64 \nL 175.968767 224.64 \nz\n\" style=\"fill:#1f77b4;fill-opacity:0.75;stroke:#000000;stroke-linejoin:miter;stroke-width:0.111898;\"/>\n   </g>\n   <g id=\"patch_100\">\n    <path clip-path=\"url(#pcbce1fc3a4)\" d=\"M 177.087751 224.64 \nL 178.206735 224.64 \nL 178.206735 224.64 \nL 177.087751 224.64 \nz\n\" style=\"fill:#1f77b4;fill-opacity:0.75;stroke:#000000;stroke-linejoin:miter;stroke-width:0.111898;\"/>\n   </g>\n   <g id=\"patch_101\">\n    <path clip-path=\"url(#pcbce1fc3a4)\" d=\"M 178.206735 224.64 \nL 179.325719 224.64 \nL 179.325719 224.64 \nL 178.206735 224.64 \nz\n\" style=\"fill:#1f77b4;fill-opacity:0.75;stroke:#000000;stroke-linejoin:miter;stroke-width:0.111898;\"/>\n   </g>\n   <g id=\"patch_102\">\n    <path clip-path=\"url(#pcbce1fc3a4)\" d=\"M 179.325719 224.64 \nL 180.444703 224.64 \nL 180.444703 224.64 \nL 179.325719 224.64 \nz\n\" style=\"fill:#1f77b4;fill-opacity:0.75;stroke:#000000;stroke-linejoin:miter;stroke-width:0.111898;\"/>\n   </g>\n   <g id=\"patch_103\">\n    <path clip-path=\"url(#pcbce1fc3a4)\" d=\"M 180.444703 224.64 \nL 181.563686 224.64 \nL 181.563686 224.64 \nL 180.444703 224.64 \nz\n\" style=\"fill:#1f77b4;fill-opacity:0.75;stroke:#000000;stroke-linejoin:miter;stroke-width:0.111898;\"/>\n   </g>\n   <g id=\"patch_104\">\n    <path clip-path=\"url(#pcbce1fc3a4)\" d=\"M 181.563686 224.64 \nL 182.68267 224.64 \nL 182.68267 224.64 \nL 181.563686 224.64 \nz\n\" style=\"fill:#1f77b4;fill-opacity:0.75;stroke:#000000;stroke-linejoin:miter;stroke-width:0.111898;\"/>\n   </g>\n   <g id=\"patch_105\">\n    <path clip-path=\"url(#pcbce1fc3a4)\" d=\"M 182.68267 224.64 \nL 183.801654 224.64 \nL 183.801654 224.64 \nL 182.68267 224.64 \nz\n\" style=\"fill:#1f77b4;fill-opacity:0.75;stroke:#000000;stroke-linejoin:miter;stroke-width:0.111898;\"/>\n   </g>\n   <g id=\"patch_106\">\n    <path clip-path=\"url(#pcbce1fc3a4)\" d=\"M 183.801654 224.64 \nL 184.920638 224.64 \nL 184.920638 224.64 \nL 183.801654 224.64 \nz\n\" style=\"fill:#1f77b4;fill-opacity:0.75;stroke:#000000;stroke-linejoin:miter;stroke-width:0.111898;\"/>\n   </g>\n   <g id=\"patch_107\">\n    <path clip-path=\"url(#pcbce1fc3a4)\" d=\"M 184.920638 224.64 \nL 186.039622 224.64 \nL 186.039622 224.64 \nL 184.920638 224.64 \nz\n\" style=\"fill:#1f77b4;fill-opacity:0.75;stroke:#000000;stroke-linejoin:miter;stroke-width:0.111898;\"/>\n   </g>\n   <g id=\"patch_108\">\n    <path clip-path=\"url(#pcbce1fc3a4)\" d=\"M 186.039622 224.64 \nL 187.158606 224.64 \nL 187.158606 224.64 \nL 186.039622 224.64 \nz\n\" style=\"fill:#1f77b4;fill-opacity:0.75;stroke:#000000;stroke-linejoin:miter;stroke-width:0.111898;\"/>\n   </g>\n   <g id=\"patch_109\">\n    <path clip-path=\"url(#pcbce1fc3a4)\" d=\"M 187.158606 224.64 \nL 188.27759 224.64 \nL 188.27759 224.64 \nL 187.158606 224.64 \nz\n\" style=\"fill:#1f77b4;fill-opacity:0.75;stroke:#000000;stroke-linejoin:miter;stroke-width:0.111898;\"/>\n   </g>\n   <g id=\"patch_110\">\n    <path clip-path=\"url(#pcbce1fc3a4)\" d=\"M 188.27759 224.64 \nL 189.396574 224.64 \nL 189.396574 224.506267 \nL 188.27759 224.506267 \nz\n\" style=\"fill:#1f77b4;fill-opacity:0.75;stroke:#000000;stroke-linejoin:miter;stroke-width:0.111898;\"/>\n   </g>\n   <g id=\"patch_111\">\n    <path clip-path=\"url(#pcbce1fc3a4)\" d=\"M 189.396574 224.64 \nL 190.515558 224.64 \nL 190.515558 224.64 \nL 189.396574 224.64 \nz\n\" style=\"fill:#1f77b4;fill-opacity:0.75;stroke:#000000;stroke-linejoin:miter;stroke-width:0.111898;\"/>\n   </g>\n   <g id=\"patch_112\">\n    <path clip-path=\"url(#pcbce1fc3a4)\" d=\"M 190.515558 224.64 \nL 191.634542 224.64 \nL 191.634542 224.64 \nL 190.515558 224.64 \nz\n\" style=\"fill:#1f77b4;fill-opacity:0.75;stroke:#000000;stroke-linejoin:miter;stroke-width:0.111898;\"/>\n   </g>\n   <g id=\"patch_113\">\n    <path clip-path=\"url(#pcbce1fc3a4)\" d=\"M 191.634542 224.64 \nL 192.753526 224.64 \nL 192.753526 224.64 \nL 191.634542 224.64 \nz\n\" style=\"fill:#1f77b4;fill-opacity:0.75;stroke:#000000;stroke-linejoin:miter;stroke-width:0.111898;\"/>\n   </g>\n   <g id=\"patch_114\">\n    <path clip-path=\"url(#pcbce1fc3a4)\" d=\"M 192.753526 224.64 \nL 193.87251 224.64 \nL 193.87251 224.64 \nL 192.753526 224.64 \nz\n\" style=\"fill:#1f77b4;fill-opacity:0.75;stroke:#000000;stroke-linejoin:miter;stroke-width:0.111898;\"/>\n   </g>\n   <g id=\"patch_115\">\n    <path clip-path=\"url(#pcbce1fc3a4)\" d=\"M 193.87251 224.64 \nL 194.991494 224.64 \nL 194.991494 224.64 \nL 193.87251 224.64 \nz\n\" style=\"fill:#1f77b4;fill-opacity:0.75;stroke:#000000;stroke-linejoin:miter;stroke-width:0.111898;\"/>\n   </g>\n   <g id=\"patch_116\">\n    <path clip-path=\"url(#pcbce1fc3a4)\" d=\"M 194.991494 224.64 \nL 196.110478 224.64 \nL 196.110478 224.64 \nL 194.991494 224.64 \nz\n\" style=\"fill:#1f77b4;fill-opacity:0.75;stroke:#000000;stroke-linejoin:miter;stroke-width:0.111898;\"/>\n   </g>\n   <g id=\"patch_117\">\n    <path clip-path=\"url(#pcbce1fc3a4)\" d=\"M 196.110478 224.64 \nL 197.229462 224.64 \nL 197.229462 224.64 \nL 196.110478 224.64 \nz\n\" style=\"fill:#1f77b4;fill-opacity:0.75;stroke:#000000;stroke-linejoin:miter;stroke-width:0.111898;\"/>\n   </g>\n   <g id=\"patch_118\">\n    <path clip-path=\"url(#pcbce1fc3a4)\" d=\"M 197.229462 224.64 \nL 198.348446 224.64 \nL 198.348446 224.573133 \nL 197.229462 224.573133 \nz\n\" style=\"fill:#1f77b4;fill-opacity:0.75;stroke:#000000;stroke-linejoin:miter;stroke-width:0.111898;\"/>\n   </g>\n   <g id=\"patch_119\">\n    <path clip-path=\"url(#pcbce1fc3a4)\" d=\"M 198.348446 224.64 \nL 199.46743 224.64 \nL 199.46743 224.64 \nL 198.348446 224.64 \nz\n\" style=\"fill:#1f77b4;fill-opacity:0.75;stroke:#000000;stroke-linejoin:miter;stroke-width:0.111898;\"/>\n   </g>\n   <g id=\"patch_120\">\n    <path clip-path=\"url(#pcbce1fc3a4)\" d=\"M 199.46743 224.64 \nL 200.586414 224.64 \nL 200.586414 224.64 \nL 199.46743 224.64 \nz\n\" style=\"fill:#1f77b4;fill-opacity:0.75;stroke:#000000;stroke-linejoin:miter;stroke-width:0.111898;\"/>\n   </g>\n   <g id=\"patch_121\">\n    <path clip-path=\"url(#pcbce1fc3a4)\" d=\"M 200.586414 224.64 \nL 201.705398 224.64 \nL 201.705398 224.64 \nL 200.586414 224.64 \nz\n\" style=\"fill:#1f77b4;fill-opacity:0.75;stroke:#000000;stroke-linejoin:miter;stroke-width:0.111898;\"/>\n   </g>\n   <g id=\"patch_122\">\n    <path clip-path=\"url(#pcbce1fc3a4)\" d=\"M 201.705398 224.64 \nL 202.824382 224.64 \nL 202.824382 224.64 \nL 201.705398 224.64 \nz\n\" style=\"fill:#1f77b4;fill-opacity:0.75;stroke:#000000;stroke-linejoin:miter;stroke-width:0.111898;\"/>\n   </g>\n   <g id=\"patch_123\">\n    <path clip-path=\"url(#pcbce1fc3a4)\" d=\"M 202.824382 224.64 \nL 203.943366 224.64 \nL 203.943366 224.64 \nL 202.824382 224.64 \nz\n\" style=\"fill:#1f77b4;fill-opacity:0.75;stroke:#000000;stroke-linejoin:miter;stroke-width:0.111898;\"/>\n   </g>\n   <g id=\"patch_124\">\n    <path clip-path=\"url(#pcbce1fc3a4)\" d=\"M 203.943366 224.64 \nL 205.06235 224.64 \nL 205.06235 224.64 \nL 203.943366 224.64 \nz\n\" style=\"fill:#1f77b4;fill-opacity:0.75;stroke:#000000;stroke-linejoin:miter;stroke-width:0.111898;\"/>\n   </g>\n   <g id=\"patch_125\">\n    <path clip-path=\"url(#pcbce1fc3a4)\" d=\"M 205.06235 224.64 \nL 206.181334 224.64 \nL 206.181334 224.64 \nL 205.06235 224.64 \nz\n\" style=\"fill:#1f77b4;fill-opacity:0.75;stroke:#000000;stroke-linejoin:miter;stroke-width:0.111898;\"/>\n   </g>\n   <g id=\"patch_126\">\n    <path clip-path=\"url(#pcbce1fc3a4)\" d=\"M 206.181334 224.64 \nL 207.300318 224.64 \nL 207.300318 224.573133 \nL 206.181334 224.573133 \nz\n\" style=\"fill:#1f77b4;fill-opacity:0.75;stroke:#000000;stroke-linejoin:miter;stroke-width:0.111898;\"/>\n   </g>\n   <g id=\"patch_127\">\n    <path clip-path=\"url(#pcbce1fc3a4)\" d=\"M 207.300318 224.64 \nL 208.419301 224.64 \nL 208.419301 224.64 \nL 207.300318 224.64 \nz\n\" style=\"fill:#1f77b4;fill-opacity:0.75;stroke:#000000;stroke-linejoin:miter;stroke-width:0.111898;\"/>\n   </g>\n   <g id=\"patch_128\">\n    <path clip-path=\"url(#pcbce1fc3a4)\" d=\"M 208.419301 224.64 \nL 209.538285 224.64 \nL 209.538285 224.64 \nL 208.419301 224.64 \nz\n\" style=\"fill:#1f77b4;fill-opacity:0.75;stroke:#000000;stroke-linejoin:miter;stroke-width:0.111898;\"/>\n   </g>\n   <g id=\"patch_129\">\n    <path clip-path=\"url(#pcbce1fc3a4)\" d=\"M 209.538285 224.64 \nL 210.657269 224.64 \nL 210.657269 224.64 \nL 209.538285 224.64 \nz\n\" style=\"fill:#1f77b4;fill-opacity:0.75;stroke:#000000;stroke-linejoin:miter;stroke-width:0.111898;\"/>\n   </g>\n   <g id=\"patch_130\">\n    <path clip-path=\"url(#pcbce1fc3a4)\" d=\"M 210.657269 224.64 \nL 211.776253 224.64 \nL 211.776253 224.64 \nL 210.657269 224.64 \nz\n\" style=\"fill:#1f77b4;fill-opacity:0.75;stroke:#000000;stroke-linejoin:miter;stroke-width:0.111898;\"/>\n   </g>\n   <g id=\"patch_131\">\n    <path clip-path=\"url(#pcbce1fc3a4)\" d=\"M 211.776253 224.64 \nL 212.895237 224.64 \nL 212.895237 224.64 \nL 211.776253 224.64 \nz\n\" style=\"fill:#1f77b4;fill-opacity:0.75;stroke:#000000;stroke-linejoin:miter;stroke-width:0.111898;\"/>\n   </g>\n   <g id=\"patch_132\">\n    <path clip-path=\"url(#pcbce1fc3a4)\" d=\"M 212.895237 224.64 \nL 214.014221 224.64 \nL 214.014221 224.64 \nL 212.895237 224.64 \nz\n\" style=\"fill:#1f77b4;fill-opacity:0.75;stroke:#000000;stroke-linejoin:miter;stroke-width:0.111898;\"/>\n   </g>\n   <g id=\"patch_133\">\n    <path clip-path=\"url(#pcbce1fc3a4)\" d=\"M 214.014221 224.64 \nL 215.133205 224.64 \nL 215.133205 224.64 \nL 214.014221 224.64 \nz\n\" style=\"fill:#1f77b4;fill-opacity:0.75;stroke:#000000;stroke-linejoin:miter;stroke-width:0.111898;\"/>\n   </g>\n   <g id=\"patch_134\">\n    <path clip-path=\"url(#pcbce1fc3a4)\" d=\"M 215.133205 224.64 \nL 216.252189 224.64 \nL 216.252189 224.573133 \nL 215.133205 224.573133 \nz\n\" style=\"fill:#1f77b4;fill-opacity:0.75;stroke:#000000;stroke-linejoin:miter;stroke-width:0.111898;\"/>\n   </g>\n   <g id=\"patch_135\">\n    <path clip-path=\"url(#pcbce1fc3a4)\" d=\"M 216.252189 224.64 \nL 217.371173 224.64 \nL 217.371173 224.64 \nL 216.252189 224.64 \nz\n\" style=\"fill:#1f77b4;fill-opacity:0.75;stroke:#000000;stroke-linejoin:miter;stroke-width:0.111898;\"/>\n   </g>\n   <g id=\"patch_136\">\n    <path clip-path=\"url(#pcbce1fc3a4)\" d=\"M 217.371173 224.64 \nL 218.490157 224.64 \nL 218.490157 224.64 \nL 217.371173 224.64 \nz\n\" style=\"fill:#1f77b4;fill-opacity:0.75;stroke:#000000;stroke-linejoin:miter;stroke-width:0.111898;\"/>\n   </g>\n   <g id=\"patch_137\">\n    <path clip-path=\"url(#pcbce1fc3a4)\" d=\"M 218.490157 224.64 \nL 219.609141 224.64 \nL 219.609141 224.64 \nL 218.490157 224.64 \nz\n\" style=\"fill:#1f77b4;fill-opacity:0.75;stroke:#000000;stroke-linejoin:miter;stroke-width:0.111898;\"/>\n   </g>\n   <g id=\"patch_138\">\n    <path clip-path=\"url(#pcbce1fc3a4)\" d=\"M 219.609141 224.64 \nL 220.728125 224.64 \nL 220.728125 224.64 \nL 219.609141 224.64 \nz\n\" style=\"fill:#1f77b4;fill-opacity:0.75;stroke:#000000;stroke-linejoin:miter;stroke-width:0.111898;\"/>\n   </g>\n   <g id=\"patch_139\">\n    <path clip-path=\"url(#pcbce1fc3a4)\" d=\"M 220.728125 224.64 \nL 221.847109 224.64 \nL 221.847109 224.64 \nL 220.728125 224.64 \nz\n\" style=\"fill:#1f77b4;fill-opacity:0.75;stroke:#000000;stroke-linejoin:miter;stroke-width:0.111898;\"/>\n   </g>\n   <g id=\"patch_140\">\n    <path clip-path=\"url(#pcbce1fc3a4)\" d=\"M 221.847109 224.64 \nL 222.966093 224.64 \nL 222.966093 224.64 \nL 221.847109 224.64 \nz\n\" style=\"fill:#1f77b4;fill-opacity:0.75;stroke:#000000;stroke-linejoin:miter;stroke-width:0.111898;\"/>\n   </g>\n   <g id=\"patch_141\">\n    <path clip-path=\"url(#pcbce1fc3a4)\" d=\"M 222.966093 224.64 \nL 224.085077 224.64 \nL 224.085077 224.64 \nL 222.966093 224.64 \nz\n\" style=\"fill:#1f77b4;fill-opacity:0.75;stroke:#000000;stroke-linejoin:miter;stroke-width:0.111898;\"/>\n   </g>\n   <g id=\"patch_142\">\n    <path clip-path=\"url(#pcbce1fc3a4)\" d=\"M 224.085077 224.64 \nL 225.204061 224.64 \nL 225.204061 224.64 \nL 224.085077 224.64 \nz\n\" style=\"fill:#1f77b4;fill-opacity:0.75;stroke:#000000;stroke-linejoin:miter;stroke-width:0.111898;\"/>\n   </g>\n   <g id=\"patch_143\">\n    <path clip-path=\"url(#pcbce1fc3a4)\" d=\"M 225.204061 224.64 \nL 226.323045 224.64 \nL 226.323045 224.64 \nL 225.204061 224.64 \nz\n\" style=\"fill:#1f77b4;fill-opacity:0.75;stroke:#000000;stroke-linejoin:miter;stroke-width:0.111898;\"/>\n   </g>\n   <g id=\"patch_144\">\n    <path clip-path=\"url(#pcbce1fc3a4)\" d=\"M 226.323045 224.64 \nL 227.442029 224.64 \nL 227.442029 224.64 \nL 226.323045 224.64 \nz\n\" style=\"fill:#1f77b4;fill-opacity:0.75;stroke:#000000;stroke-linejoin:miter;stroke-width:0.111898;\"/>\n   </g>\n   <g id=\"patch_145\">\n    <path clip-path=\"url(#pcbce1fc3a4)\" d=\"M 227.442029 224.64 \nL 228.561013 224.64 \nL 228.561013 224.64 \nL 227.442029 224.64 \nz\n\" style=\"fill:#1f77b4;fill-opacity:0.75;stroke:#000000;stroke-linejoin:miter;stroke-width:0.111898;\"/>\n   </g>\n   <g id=\"patch_146\">\n    <path clip-path=\"url(#pcbce1fc3a4)\" d=\"M 228.561013 224.64 \nL 229.679997 224.64 \nL 229.679997 224.64 \nL 228.561013 224.64 \nz\n\" style=\"fill:#1f77b4;fill-opacity:0.75;stroke:#000000;stroke-linejoin:miter;stroke-width:0.111898;\"/>\n   </g>\n   <g id=\"patch_147\">\n    <path clip-path=\"url(#pcbce1fc3a4)\" d=\"M 229.679997 224.64 \nL 230.798981 224.64 \nL 230.798981 224.64 \nL 229.679997 224.64 \nz\n\" style=\"fill:#1f77b4;fill-opacity:0.75;stroke:#000000;stroke-linejoin:miter;stroke-width:0.111898;\"/>\n   </g>\n   <g id=\"patch_148\">\n    <path clip-path=\"url(#pcbce1fc3a4)\" d=\"M 230.798981 224.64 \nL 231.917965 224.64 \nL 231.917965 224.64 \nL 230.798981 224.64 \nz\n\" style=\"fill:#1f77b4;fill-opacity:0.75;stroke:#000000;stroke-linejoin:miter;stroke-width:0.111898;\"/>\n   </g>\n   <g id=\"patch_149\">\n    <path clip-path=\"url(#pcbce1fc3a4)\" d=\"M 231.917965 224.64 \nL 233.036949 224.64 \nL 233.036949 224.64 \nL 231.917965 224.64 \nz\n\" style=\"fill:#1f77b4;fill-opacity:0.75;stroke:#000000;stroke-linejoin:miter;stroke-width:0.111898;\"/>\n   </g>\n   <g id=\"patch_150\">\n    <path clip-path=\"url(#pcbce1fc3a4)\" d=\"M 233.036949 224.64 \nL 234.155932 224.64 \nL 234.155932 224.64 \nL 233.036949 224.64 \nz\n\" style=\"fill:#1f77b4;fill-opacity:0.75;stroke:#000000;stroke-linejoin:miter;stroke-width:0.111898;\"/>\n   </g>\n   <g id=\"patch_151\">\n    <path clip-path=\"url(#pcbce1fc3a4)\" d=\"M 234.155932 224.64 \nL 235.274916 224.64 \nL 235.274916 224.64 \nL 234.155932 224.64 \nz\n\" style=\"fill:#1f77b4;fill-opacity:0.75;stroke:#000000;stroke-linejoin:miter;stroke-width:0.111898;\"/>\n   </g>\n   <g id=\"patch_152\">\n    <path clip-path=\"url(#pcbce1fc3a4)\" d=\"M 235.274916 224.64 \nL 236.3939 224.64 \nL 236.3939 224.64 \nL 235.274916 224.64 \nz\n\" style=\"fill:#1f77b4;fill-opacity:0.75;stroke:#000000;stroke-linejoin:miter;stroke-width:0.111898;\"/>\n   </g>\n   <g id=\"patch_153\">\n    <path clip-path=\"url(#pcbce1fc3a4)\" d=\"M 236.3939 224.64 \nL 237.512884 224.64 \nL 237.512884 224.64 \nL 236.3939 224.64 \nz\n\" style=\"fill:#1f77b4;fill-opacity:0.75;stroke:#000000;stroke-linejoin:miter;stroke-width:0.111898;\"/>\n   </g>\n   <g id=\"patch_154\">\n    <path clip-path=\"url(#pcbce1fc3a4)\" d=\"M 237.512884 224.64 \nL 238.631868 224.64 \nL 238.631868 224.64 \nL 237.512884 224.64 \nz\n\" style=\"fill:#1f77b4;fill-opacity:0.75;stroke:#000000;stroke-linejoin:miter;stroke-width:0.111898;\"/>\n   </g>\n   <g id=\"patch_155\">\n    <path clip-path=\"url(#pcbce1fc3a4)\" d=\"M 238.631868 224.64 \nL 239.750852 224.64 \nL 239.750852 224.64 \nL 238.631868 224.64 \nz\n\" style=\"fill:#1f77b4;fill-opacity:0.75;stroke:#000000;stroke-linejoin:miter;stroke-width:0.111898;\"/>\n   </g>\n   <g id=\"patch_156\">\n    <path clip-path=\"url(#pcbce1fc3a4)\" d=\"M 239.750852 224.64 \nL 240.869836 224.64 \nL 240.869836 224.64 \nL 239.750852 224.64 \nz\n\" style=\"fill:#1f77b4;fill-opacity:0.75;stroke:#000000;stroke-linejoin:miter;stroke-width:0.111898;\"/>\n   </g>\n   <g id=\"patch_157\">\n    <path clip-path=\"url(#pcbce1fc3a4)\" d=\"M 240.869836 224.64 \nL 241.98882 224.64 \nL 241.98882 224.64 \nL 240.869836 224.64 \nz\n\" style=\"fill:#1f77b4;fill-opacity:0.75;stroke:#000000;stroke-linejoin:miter;stroke-width:0.111898;\"/>\n   </g>\n   <g id=\"patch_158\">\n    <path clip-path=\"url(#pcbce1fc3a4)\" d=\"M 241.98882 224.64 \nL 243.107804 224.64 \nL 243.107804 224.64 \nL 241.98882 224.64 \nz\n\" style=\"fill:#1f77b4;fill-opacity:0.75;stroke:#000000;stroke-linejoin:miter;stroke-width:0.111898;\"/>\n   </g>\n   <g id=\"patch_159\">\n    <path clip-path=\"url(#pcbce1fc3a4)\" d=\"M 243.107804 224.64 \nL 244.226788 224.64 \nL 244.226788 224.64 \nL 243.107804 224.64 \nz\n\" style=\"fill:#1f77b4;fill-opacity:0.75;stroke:#000000;stroke-linejoin:miter;stroke-width:0.111898;\"/>\n   </g>\n   <g id=\"patch_160\">\n    <path clip-path=\"url(#pcbce1fc3a4)\" d=\"M 244.226788 224.64 \nL 245.345772 224.64 \nL 245.345772 224.64 \nL 244.226788 224.64 \nz\n\" style=\"fill:#1f77b4;fill-opacity:0.75;stroke:#000000;stroke-linejoin:miter;stroke-width:0.111898;\"/>\n   </g>\n   <g id=\"patch_161\">\n    <path clip-path=\"url(#pcbce1fc3a4)\" d=\"M 245.345772 224.64 \nL 246.464756 224.64 \nL 246.464756 224.64 \nL 245.345772 224.64 \nz\n\" style=\"fill:#1f77b4;fill-opacity:0.75;stroke:#000000;stroke-linejoin:miter;stroke-width:0.111898;\"/>\n   </g>\n   <g id=\"patch_162\">\n    <path clip-path=\"url(#pcbce1fc3a4)\" d=\"M 246.464756 224.64 \nL 247.58374 224.64 \nL 247.58374 224.64 \nL 246.464756 224.64 \nz\n\" style=\"fill:#1f77b4;fill-opacity:0.75;stroke:#000000;stroke-linejoin:miter;stroke-width:0.111898;\"/>\n   </g>\n   <g id=\"patch_163\">\n    <path clip-path=\"url(#pcbce1fc3a4)\" d=\"M 247.58374 224.64 \nL 248.702724 224.64 \nL 248.702724 224.64 \nL 247.58374 224.64 \nz\n\" style=\"fill:#1f77b4;fill-opacity:0.75;stroke:#000000;stroke-linejoin:miter;stroke-width:0.111898;\"/>\n   </g>\n   <g id=\"patch_164\">\n    <path clip-path=\"url(#pcbce1fc3a4)\" d=\"M 248.702724 224.64 \nL 249.821708 224.64 \nL 249.821708 224.64 \nL 248.702724 224.64 \nz\n\" style=\"fill:#1f77b4;fill-opacity:0.75;stroke:#000000;stroke-linejoin:miter;stroke-width:0.111898;\"/>\n   </g>\n   <g id=\"patch_165\">\n    <path clip-path=\"url(#pcbce1fc3a4)\" d=\"M 249.821708 224.64 \nL 250.940692 224.64 \nL 250.940692 224.64 \nL 249.821708 224.64 \nz\n\" style=\"fill:#1f77b4;fill-opacity:0.75;stroke:#000000;stroke-linejoin:miter;stroke-width:0.111898;\"/>\n   </g>\n   <g id=\"patch_166\">\n    <path clip-path=\"url(#pcbce1fc3a4)\" d=\"M 250.940692 224.64 \nL 252.059676 224.64 \nL 252.059676 224.64 \nL 250.940692 224.64 \nz\n\" style=\"fill:#1f77b4;fill-opacity:0.75;stroke:#000000;stroke-linejoin:miter;stroke-width:0.111898;\"/>\n   </g>\n   <g id=\"patch_167\">\n    <path clip-path=\"url(#pcbce1fc3a4)\" d=\"M 252.059676 224.64 \nL 253.17866 224.64 \nL 253.17866 224.573133 \nL 252.059676 224.573133 \nz\n\" style=\"fill:#1f77b4;fill-opacity:0.75;stroke:#000000;stroke-linejoin:miter;stroke-width:0.111898;\"/>\n   </g>\n   <g id=\"patch_168\">\n    <path clip-path=\"url(#pcbce1fc3a4)\" d=\"M 253.17866 224.64 \nL 254.297644 224.64 \nL 254.297644 224.64 \nL 253.17866 224.64 \nz\n\" style=\"fill:#1f77b4;fill-opacity:0.75;stroke:#000000;stroke-linejoin:miter;stroke-width:0.111898;\"/>\n   </g>\n   <g id=\"patch_169\">\n    <path clip-path=\"url(#pcbce1fc3a4)\" d=\"M 254.297644 224.64 \nL 255.416628 224.64 \nL 255.416628 224.64 \nL 254.297644 224.64 \nz\n\" style=\"fill:#1f77b4;fill-opacity:0.75;stroke:#000000;stroke-linejoin:miter;stroke-width:0.111898;\"/>\n   </g>\n   <g id=\"patch_170\">\n    <path clip-path=\"url(#pcbce1fc3a4)\" d=\"M 255.416628 224.64 \nL 256.535612 224.64 \nL 256.535612 224.64 \nL 255.416628 224.64 \nz\n\" style=\"fill:#1f77b4;fill-opacity:0.75;stroke:#000000;stroke-linejoin:miter;stroke-width:0.111898;\"/>\n   </g>\n   <g id=\"patch_171\">\n    <path clip-path=\"url(#pcbce1fc3a4)\" d=\"M 256.535612 224.64 \nL 257.654596 224.64 \nL 257.654596 224.64 \nL 256.535612 224.64 \nz\n\" style=\"fill:#1f77b4;fill-opacity:0.75;stroke:#000000;stroke-linejoin:miter;stroke-width:0.111898;\"/>\n   </g>\n   <g id=\"patch_172\">\n    <path clip-path=\"url(#pcbce1fc3a4)\" d=\"M 257.654596 224.64 \nL 258.77358 224.64 \nL 258.77358 224.64 \nL 257.654596 224.64 \nz\n\" style=\"fill:#1f77b4;fill-opacity:0.75;stroke:#000000;stroke-linejoin:miter;stroke-width:0.111898;\"/>\n   </g>\n   <g id=\"patch_173\">\n    <path clip-path=\"url(#pcbce1fc3a4)\" d=\"M 258.77358 224.64 \nL 259.892564 224.64 \nL 259.892564 224.64 \nL 258.77358 224.64 \nz\n\" style=\"fill:#1f77b4;fill-opacity:0.75;stroke:#000000;stroke-linejoin:miter;stroke-width:0.111898;\"/>\n   </g>\n   <g id=\"patch_174\">\n    <path clip-path=\"url(#pcbce1fc3a4)\" d=\"M 259.892564 224.64 \nL 261.011547 224.64 \nL 261.011547 224.64 \nL 259.892564 224.64 \nz\n\" style=\"fill:#1f77b4;fill-opacity:0.75;stroke:#000000;stroke-linejoin:miter;stroke-width:0.111898;\"/>\n   </g>\n   <g id=\"patch_175\">\n    <path clip-path=\"url(#pcbce1fc3a4)\" d=\"M 261.011547 224.64 \nL 262.130531 224.64 \nL 262.130531 224.64 \nL 261.011547 224.64 \nz\n\" style=\"fill:#1f77b4;fill-opacity:0.75;stroke:#000000;stroke-linejoin:miter;stroke-width:0.111898;\"/>\n   </g>\n   <g id=\"patch_176\">\n    <path clip-path=\"url(#pcbce1fc3a4)\" d=\"M 262.130531 224.64 \nL 263.249515 224.64 \nL 263.249515 224.64 \nL 262.130531 224.64 \nz\n\" style=\"fill:#1f77b4;fill-opacity:0.75;stroke:#000000;stroke-linejoin:miter;stroke-width:0.111898;\"/>\n   </g>\n   <g id=\"patch_177\">\n    <path clip-path=\"url(#pcbce1fc3a4)\" d=\"M 263.249515 224.64 \nL 264.368499 224.64 \nL 264.368499 224.64 \nL 263.249515 224.64 \nz\n\" style=\"fill:#1f77b4;fill-opacity:0.75;stroke:#000000;stroke-linejoin:miter;stroke-width:0.111898;\"/>\n   </g>\n   <g id=\"patch_178\">\n    <path clip-path=\"url(#pcbce1fc3a4)\" d=\"M 264.368499 224.64 \nL 265.487483 224.64 \nL 265.487483 224.64 \nL 264.368499 224.64 \nz\n\" style=\"fill:#1f77b4;fill-opacity:0.75;stroke:#000000;stroke-linejoin:miter;stroke-width:0.111898;\"/>\n   </g>\n   <g id=\"patch_179\">\n    <path clip-path=\"url(#pcbce1fc3a4)\" d=\"M 265.487483 224.64 \nL 266.606467 224.64 \nL 266.606467 224.64 \nL 265.487483 224.64 \nz\n\" style=\"fill:#1f77b4;fill-opacity:0.75;stroke:#000000;stroke-linejoin:miter;stroke-width:0.111898;\"/>\n   </g>\n   <g id=\"patch_180\">\n    <path clip-path=\"url(#pcbce1fc3a4)\" d=\"M 266.606467 224.64 \nL 267.725451 224.64 \nL 267.725451 224.64 \nL 266.606467 224.64 \nz\n\" style=\"fill:#1f77b4;fill-opacity:0.75;stroke:#000000;stroke-linejoin:miter;stroke-width:0.111898;\"/>\n   </g>\n   <g id=\"patch_181\">\n    <path clip-path=\"url(#pcbce1fc3a4)\" d=\"M 267.725451 224.64 \nL 268.844435 224.64 \nL 268.844435 224.64 \nL 267.725451 224.64 \nz\n\" style=\"fill:#1f77b4;fill-opacity:0.75;stroke:#000000;stroke-linejoin:miter;stroke-width:0.111898;\"/>\n   </g>\n   <g id=\"patch_182\">\n    <path clip-path=\"url(#pcbce1fc3a4)\" d=\"M 268.844435 224.64 \nL 269.963419 224.64 \nL 269.963419 224.64 \nL 268.844435 224.64 \nz\n\" style=\"fill:#1f77b4;fill-opacity:0.75;stroke:#000000;stroke-linejoin:miter;stroke-width:0.111898;\"/>\n   </g>\n   <g id=\"patch_183\">\n    <path clip-path=\"url(#pcbce1fc3a4)\" d=\"M 269.963419 224.64 \nL 271.082403 224.64 \nL 271.082403 224.64 \nL 269.963419 224.64 \nz\n\" style=\"fill:#1f77b4;fill-opacity:0.75;stroke:#000000;stroke-linejoin:miter;stroke-width:0.111898;\"/>\n   </g>\n   <g id=\"patch_184\">\n    <path clip-path=\"url(#pcbce1fc3a4)\" d=\"M 271.082403 224.64 \nL 272.201387 224.64 \nL 272.201387 224.573133 \nL 271.082403 224.573133 \nz\n\" style=\"fill:#1f77b4;fill-opacity:0.75;stroke:#000000;stroke-linejoin:miter;stroke-width:0.111898;\"/>\n   </g>\n   <g id=\"patch_185\">\n    <path clip-path=\"url(#pcbce1fc3a4)\" d=\"M 272.201387 224.64 \nL 273.320371 224.64 \nL 273.320371 224.64 \nL 272.201387 224.64 \nz\n\" style=\"fill:#1f77b4;fill-opacity:0.75;stroke:#000000;stroke-linejoin:miter;stroke-width:0.111898;\"/>\n   </g>\n   <g id=\"patch_186\">\n    <path clip-path=\"url(#pcbce1fc3a4)\" d=\"M 273.320371 224.64 \nL 274.439355 224.64 \nL 274.439355 224.64 \nL 273.320371 224.64 \nz\n\" style=\"fill:#1f77b4;fill-opacity:0.75;stroke:#000000;stroke-linejoin:miter;stroke-width:0.111898;\"/>\n   </g>\n   <g id=\"patch_187\">\n    <path clip-path=\"url(#pcbce1fc3a4)\" d=\"M 274.439355 224.64 \nL 275.558339 224.64 \nL 275.558339 224.64 \nL 274.439355 224.64 \nz\n\" style=\"fill:#1f77b4;fill-opacity:0.75;stroke:#000000;stroke-linejoin:miter;stroke-width:0.111898;\"/>\n   </g>\n   <g id=\"patch_188\">\n    <path clip-path=\"url(#pcbce1fc3a4)\" d=\"M 275.558339 224.64 \nL 276.677323 224.64 \nL 276.677323 224.64 \nL 275.558339 224.64 \nz\n\" style=\"fill:#1f77b4;fill-opacity:0.75;stroke:#000000;stroke-linejoin:miter;stroke-width:0.111898;\"/>\n   </g>\n   <g id=\"patch_189\">\n    <path clip-path=\"url(#pcbce1fc3a4)\" d=\"M 276.677323 224.64 \nL 277.796307 224.64 \nL 277.796307 224.64 \nL 276.677323 224.64 \nz\n\" style=\"fill:#1f77b4;fill-opacity:0.75;stroke:#000000;stroke-linejoin:miter;stroke-width:0.111898;\"/>\n   </g>\n   <g id=\"patch_190\">\n    <path clip-path=\"url(#pcbce1fc3a4)\" d=\"M 277.796307 224.64 \nL 278.915291 224.64 \nL 278.915291 224.64 \nL 277.796307 224.64 \nz\n\" style=\"fill:#1f77b4;fill-opacity:0.75;stroke:#000000;stroke-linejoin:miter;stroke-width:0.111898;\"/>\n   </g>\n   <g id=\"patch_191\">\n    <path clip-path=\"url(#pcbce1fc3a4)\" d=\"M 278.915291 224.64 \nL 280.034275 224.64 \nL 280.034275 224.64 \nL 278.915291 224.64 \nz\n\" style=\"fill:#1f77b4;fill-opacity:0.75;stroke:#000000;stroke-linejoin:miter;stroke-width:0.111898;\"/>\n   </g>\n   <g id=\"patch_192\">\n    <path clip-path=\"url(#pcbce1fc3a4)\" d=\"M 280.034275 224.64 \nL 281.153259 224.64 \nL 281.153259 224.64 \nL 280.034275 224.64 \nz\n\" style=\"fill:#1f77b4;fill-opacity:0.75;stroke:#000000;stroke-linejoin:miter;stroke-width:0.111898;\"/>\n   </g>\n   <g id=\"patch_193\">\n    <path clip-path=\"url(#pcbce1fc3a4)\" d=\"M 281.153259 224.64 \nL 282.272243 224.64 \nL 282.272243 224.64 \nL 281.153259 224.64 \nz\n\" style=\"fill:#1f77b4;fill-opacity:0.75;stroke:#000000;stroke-linejoin:miter;stroke-width:0.111898;\"/>\n   </g>\n   <g id=\"patch_194\">\n    <path clip-path=\"url(#pcbce1fc3a4)\" d=\"M 282.272243 224.64 \nL 283.391227 224.64 \nL 283.391227 224.64 \nL 282.272243 224.64 \nz\n\" style=\"fill:#1f77b4;fill-opacity:0.75;stroke:#000000;stroke-linejoin:miter;stroke-width:0.111898;\"/>\n   </g>\n   <g id=\"patch_195\">\n    <path clip-path=\"url(#pcbce1fc3a4)\" d=\"M 283.391227 224.64 \nL 284.510211 224.64 \nL 284.510211 224.64 \nL 283.391227 224.64 \nz\n\" style=\"fill:#1f77b4;fill-opacity:0.75;stroke:#000000;stroke-linejoin:miter;stroke-width:0.111898;\"/>\n   </g>\n   <g id=\"patch_196\">\n    <path clip-path=\"url(#pcbce1fc3a4)\" d=\"M 284.510211 224.64 \nL 285.629195 224.64 \nL 285.629195 224.64 \nL 284.510211 224.64 \nz\n\" style=\"fill:#1f77b4;fill-opacity:0.75;stroke:#000000;stroke-linejoin:miter;stroke-width:0.111898;\"/>\n   </g>\n   <g id=\"patch_197\">\n    <path clip-path=\"url(#pcbce1fc3a4)\" d=\"M 285.629195 224.64 \nL 286.748178 224.64 \nL 286.748178 224.64 \nL 285.629195 224.64 \nz\n\" style=\"fill:#1f77b4;fill-opacity:0.75;stroke:#000000;stroke-linejoin:miter;stroke-width:0.111898;\"/>\n   </g>\n   <g id=\"patch_198\">\n    <path clip-path=\"url(#pcbce1fc3a4)\" d=\"M 286.748178 224.64 \nL 287.867162 224.64 \nL 287.867162 224.64 \nL 286.748178 224.64 \nz\n\" style=\"fill:#1f77b4;fill-opacity:0.75;stroke:#000000;stroke-linejoin:miter;stroke-width:0.111898;\"/>\n   </g>\n   <g id=\"patch_199\">\n    <path clip-path=\"url(#pcbce1fc3a4)\" d=\"M 287.867162 224.64 \nL 288.986146 224.64 \nL 288.986146 224.64 \nL 287.867162 224.64 \nz\n\" style=\"fill:#1f77b4;fill-opacity:0.75;stroke:#000000;stroke-linejoin:miter;stroke-width:0.111898;\"/>\n   </g>\n   <g id=\"patch_200\">\n    <path clip-path=\"url(#pcbce1fc3a4)\" d=\"M 288.986146 224.64 \nL 290.10513 224.64 \nL 290.10513 224.64 \nL 288.986146 224.64 \nz\n\" style=\"fill:#1f77b4;fill-opacity:0.75;stroke:#000000;stroke-linejoin:miter;stroke-width:0.111898;\"/>\n   </g>\n   <g id=\"patch_201\">\n    <path clip-path=\"url(#pcbce1fc3a4)\" d=\"M 290.10513 224.64 \nL 291.224114 224.64 \nL 291.224114 224.64 \nL 290.10513 224.64 \nz\n\" style=\"fill:#1f77b4;fill-opacity:0.75;stroke:#000000;stroke-linejoin:miter;stroke-width:0.111898;\"/>\n   </g>\n   <g id=\"patch_202\">\n    <path clip-path=\"url(#pcbce1fc3a4)\" d=\"M 291.224114 224.64 \nL 292.343098 224.64 \nL 292.343098 224.64 \nL 291.224114 224.64 \nz\n\" style=\"fill:#1f77b4;fill-opacity:0.75;stroke:#000000;stroke-linejoin:miter;stroke-width:0.111898;\"/>\n   </g>\n   <g id=\"patch_203\">\n    <path clip-path=\"url(#pcbce1fc3a4)\" d=\"M 292.343098 224.64 \nL 293.462082 224.64 \nL 293.462082 224.64 \nL 292.343098 224.64 \nz\n\" style=\"fill:#1f77b4;fill-opacity:0.75;stroke:#000000;stroke-linejoin:miter;stroke-width:0.111898;\"/>\n   </g>\n   <g id=\"patch_204\">\n    <path clip-path=\"url(#pcbce1fc3a4)\" d=\"M 293.462082 224.64 \nL 294.581066 224.64 \nL 294.581066 224.64 \nL 293.462082 224.64 \nz\n\" style=\"fill:#1f77b4;fill-opacity:0.75;stroke:#000000;stroke-linejoin:miter;stroke-width:0.111898;\"/>\n   </g>\n   <g id=\"patch_205\">\n    <path clip-path=\"url(#pcbce1fc3a4)\" d=\"M 294.581066 224.64 \nL 295.70005 224.64 \nL 295.70005 224.64 \nL 294.581066 224.64 \nz\n\" style=\"fill:#1f77b4;fill-opacity:0.75;stroke:#000000;stroke-linejoin:miter;stroke-width:0.111898;\"/>\n   </g>\n   <g id=\"patch_206\">\n    <path clip-path=\"url(#pcbce1fc3a4)\" d=\"M 295.70005 224.64 \nL 296.819034 224.64 \nL 296.819034 224.64 \nL 295.70005 224.64 \nz\n\" style=\"fill:#1f77b4;fill-opacity:0.75;stroke:#000000;stroke-linejoin:miter;stroke-width:0.111898;\"/>\n   </g>\n   <g id=\"patch_207\">\n    <path clip-path=\"url(#pcbce1fc3a4)\" d=\"M 296.819034 224.64 \nL 297.938018 224.64 \nL 297.938018 224.64 \nL 296.819034 224.64 \nz\n\" style=\"fill:#1f77b4;fill-opacity:0.75;stroke:#000000;stroke-linejoin:miter;stroke-width:0.111898;\"/>\n   </g>\n   <g id=\"patch_208\">\n    <path clip-path=\"url(#pcbce1fc3a4)\" d=\"M 297.938018 224.64 \nL 299.057002 224.64 \nL 299.057002 224.64 \nL 297.938018 224.64 \nz\n\" style=\"fill:#1f77b4;fill-opacity:0.75;stroke:#000000;stroke-linejoin:miter;stroke-width:0.111898;\"/>\n   </g>\n   <g id=\"patch_209\">\n    <path clip-path=\"url(#pcbce1fc3a4)\" d=\"M 299.057002 224.64 \nL 300.175986 224.64 \nL 300.175986 224.64 \nL 299.057002 224.64 \nz\n\" style=\"fill:#1f77b4;fill-opacity:0.75;stroke:#000000;stroke-linejoin:miter;stroke-width:0.111898;\"/>\n   </g>\n   <g id=\"patch_210\">\n    <path clip-path=\"url(#pcbce1fc3a4)\" d=\"M 300.175986 224.64 \nL 301.29497 224.64 \nL 301.29497 224.64 \nL 300.175986 224.64 \nz\n\" style=\"fill:#1f77b4;fill-opacity:0.75;stroke:#000000;stroke-linejoin:miter;stroke-width:0.111898;\"/>\n   </g>\n   <g id=\"patch_211\">\n    <path clip-path=\"url(#pcbce1fc3a4)\" d=\"M 301.29497 224.64 \nL 302.413954 224.64 \nL 302.413954 224.64 \nL 301.29497 224.64 \nz\n\" style=\"fill:#1f77b4;fill-opacity:0.75;stroke:#000000;stroke-linejoin:miter;stroke-width:0.111898;\"/>\n   </g>\n   <g id=\"patch_212\">\n    <path clip-path=\"url(#pcbce1fc3a4)\" d=\"M 302.413954 224.64 \nL 303.532938 224.64 \nL 303.532938 224.64 \nL 302.413954 224.64 \nz\n\" style=\"fill:#1f77b4;fill-opacity:0.75;stroke:#000000;stroke-linejoin:miter;stroke-width:0.111898;\"/>\n   </g>\n   <g id=\"patch_213\">\n    <path clip-path=\"url(#pcbce1fc3a4)\" d=\"M 303.532938 224.64 \nL 304.651922 224.64 \nL 304.651922 224.64 \nL 303.532938 224.64 \nz\n\" style=\"fill:#1f77b4;fill-opacity:0.75;stroke:#000000;stroke-linejoin:miter;stroke-width:0.111898;\"/>\n   </g>\n   <g id=\"patch_214\">\n    <path clip-path=\"url(#pcbce1fc3a4)\" d=\"M 304.651922 224.64 \nL 305.770906 224.64 \nL 305.770906 224.64 \nL 304.651922 224.64 \nz\n\" style=\"fill:#1f77b4;fill-opacity:0.75;stroke:#000000;stroke-linejoin:miter;stroke-width:0.111898;\"/>\n   </g>\n   <g id=\"patch_215\">\n    <path clip-path=\"url(#pcbce1fc3a4)\" d=\"M 305.770906 224.64 \nL 306.88989 224.64 \nL 306.88989 224.64 \nL 305.770906 224.64 \nz\n\" style=\"fill:#1f77b4;fill-opacity:0.75;stroke:#000000;stroke-linejoin:miter;stroke-width:0.111898;\"/>\n   </g>\n   <g id=\"patch_216\">\n    <path clip-path=\"url(#pcbce1fc3a4)\" d=\"M 306.88989 224.64 \nL 308.008874 224.64 \nL 308.008874 224.64 \nL 306.88989 224.64 \nz\n\" style=\"fill:#1f77b4;fill-opacity:0.75;stroke:#000000;stroke-linejoin:miter;stroke-width:0.111898;\"/>\n   </g>\n   <g id=\"patch_217\">\n    <path clip-path=\"url(#pcbce1fc3a4)\" d=\"M 308.008874 224.64 \nL 309.127858 224.64 \nL 309.127858 224.64 \nL 308.008874 224.64 \nz\n\" style=\"fill:#1f77b4;fill-opacity:0.75;stroke:#000000;stroke-linejoin:miter;stroke-width:0.111898;\"/>\n   </g>\n   <g id=\"patch_218\">\n    <path clip-path=\"url(#pcbce1fc3a4)\" d=\"M 309.127858 224.64 \nL 310.246842 224.64 \nL 310.246842 224.64 \nL 309.127858 224.64 \nz\n\" style=\"fill:#1f77b4;fill-opacity:0.75;stroke:#000000;stroke-linejoin:miter;stroke-width:0.111898;\"/>\n   </g>\n   <g id=\"patch_219\">\n    <path clip-path=\"url(#pcbce1fc3a4)\" d=\"M 310.246842 224.64 \nL 311.365826 224.64 \nL 311.365826 224.64 \nL 310.246842 224.64 \nz\n\" style=\"fill:#1f77b4;fill-opacity:0.75;stroke:#000000;stroke-linejoin:miter;stroke-width:0.111898;\"/>\n   </g>\n   <g id=\"patch_220\">\n    <path clip-path=\"url(#pcbce1fc3a4)\" d=\"M 311.365826 224.64 \nL 312.484809 224.64 \nL 312.484809 224.64 \nL 311.365826 224.64 \nz\n\" style=\"fill:#1f77b4;fill-opacity:0.75;stroke:#000000;stroke-linejoin:miter;stroke-width:0.111898;\"/>\n   </g>\n   <g id=\"patch_221\">\n    <path clip-path=\"url(#pcbce1fc3a4)\" d=\"M 312.484809 224.64 \nL 313.603793 224.64 \nL 313.603793 224.64 \nL 312.484809 224.64 \nz\n\" style=\"fill:#1f77b4;fill-opacity:0.75;stroke:#000000;stroke-linejoin:miter;stroke-width:0.111898;\"/>\n   </g>\n   <g id=\"patch_222\">\n    <path clip-path=\"url(#pcbce1fc3a4)\" d=\"M 313.603793 224.64 \nL 314.722777 224.64 \nL 314.722777 224.64 \nL 313.603793 224.64 \nz\n\" style=\"fill:#1f77b4;fill-opacity:0.75;stroke:#000000;stroke-linejoin:miter;stroke-width:0.111898;\"/>\n   </g>\n   <g id=\"patch_223\">\n    <path clip-path=\"url(#pcbce1fc3a4)\" d=\"M 314.722777 224.64 \nL 315.841761 224.64 \nL 315.841761 224.64 \nL 314.722777 224.64 \nz\n\" style=\"fill:#1f77b4;fill-opacity:0.75;stroke:#000000;stroke-linejoin:miter;stroke-width:0.111898;\"/>\n   </g>\n   <g id=\"patch_224\">\n    <path clip-path=\"url(#pcbce1fc3a4)\" d=\"M 315.841761 224.64 \nL 316.960745 224.64 \nL 316.960745 224.64 \nL 315.841761 224.64 \nz\n\" style=\"fill:#1f77b4;fill-opacity:0.75;stroke:#000000;stroke-linejoin:miter;stroke-width:0.111898;\"/>\n   </g>\n   <g id=\"patch_225\">\n    <path clip-path=\"url(#pcbce1fc3a4)\" d=\"M 316.960745 224.64 \nL 318.079729 224.64 \nL 318.079729 224.64 \nL 316.960745 224.64 \nz\n\" style=\"fill:#1f77b4;fill-opacity:0.75;stroke:#000000;stroke-linejoin:miter;stroke-width:0.111898;\"/>\n   </g>\n   <g id=\"patch_226\">\n    <path clip-path=\"url(#pcbce1fc3a4)\" d=\"M 318.079729 224.64 \nL 319.198713 224.64 \nL 319.198713 224.64 \nL 318.079729 224.64 \nz\n\" style=\"fill:#1f77b4;fill-opacity:0.75;stroke:#000000;stroke-linejoin:miter;stroke-width:0.111898;\"/>\n   </g>\n   <g id=\"patch_227\">\n    <path clip-path=\"url(#pcbce1fc3a4)\" d=\"M 319.198713 224.64 \nL 320.317697 224.64 \nL 320.317697 224.64 \nL 319.198713 224.64 \nz\n\" style=\"fill:#1f77b4;fill-opacity:0.75;stroke:#000000;stroke-linejoin:miter;stroke-width:0.111898;\"/>\n   </g>\n   <g id=\"patch_228\">\n    <path clip-path=\"url(#pcbce1fc3a4)\" d=\"M 320.317697 224.64 \nL 321.436681 224.64 \nL 321.436681 224.64 \nL 320.317697 224.64 \nz\n\" style=\"fill:#1f77b4;fill-opacity:0.75;stroke:#000000;stroke-linejoin:miter;stroke-width:0.111898;\"/>\n   </g>\n   <g id=\"patch_229\">\n    <path clip-path=\"url(#pcbce1fc3a4)\" d=\"M 321.436681 224.64 \nL 322.555665 224.64 \nL 322.555665 224.64 \nL 321.436681 224.64 \nz\n\" style=\"fill:#1f77b4;fill-opacity:0.75;stroke:#000000;stroke-linejoin:miter;stroke-width:0.111898;\"/>\n   </g>\n   <g id=\"patch_230\">\n    <path clip-path=\"url(#pcbce1fc3a4)\" d=\"M 322.555665 224.64 \nL 323.674649 224.64 \nL 323.674649 224.64 \nL 322.555665 224.64 \nz\n\" style=\"fill:#1f77b4;fill-opacity:0.75;stroke:#000000;stroke-linejoin:miter;stroke-width:0.111898;\"/>\n   </g>\n   <g id=\"patch_231\">\n    <path clip-path=\"url(#pcbce1fc3a4)\" d=\"M 323.674649 224.64 \nL 324.793633 224.64 \nL 324.793633 224.64 \nL 323.674649 224.64 \nz\n\" style=\"fill:#1f77b4;fill-opacity:0.75;stroke:#000000;stroke-linejoin:miter;stroke-width:0.111898;\"/>\n   </g>\n   <g id=\"patch_232\">\n    <path clip-path=\"url(#pcbce1fc3a4)\" d=\"M 324.793633 224.64 \nL 325.912617 224.64 \nL 325.912617 224.64 \nL 324.793633 224.64 \nz\n\" style=\"fill:#1f77b4;fill-opacity:0.75;stroke:#000000;stroke-linejoin:miter;stroke-width:0.111898;\"/>\n   </g>\n   <g id=\"patch_233\">\n    <path clip-path=\"url(#pcbce1fc3a4)\" d=\"M 325.912617 224.64 \nL 327.031601 224.64 \nL 327.031601 224.64 \nL 325.912617 224.64 \nz\n\" style=\"fill:#1f77b4;fill-opacity:0.75;stroke:#000000;stroke-linejoin:miter;stroke-width:0.111898;\"/>\n   </g>\n   <g id=\"patch_234\">\n    <path clip-path=\"url(#pcbce1fc3a4)\" d=\"M 327.031601 224.64 \nL 328.150585 224.64 \nL 328.150585 224.64 \nL 327.031601 224.64 \nz\n\" style=\"fill:#1f77b4;fill-opacity:0.75;stroke:#000000;stroke-linejoin:miter;stroke-width:0.111898;\"/>\n   </g>\n   <g id=\"patch_235\">\n    <path clip-path=\"url(#pcbce1fc3a4)\" d=\"M 328.150585 224.64 \nL 329.269569 224.64 \nL 329.269569 224.64 \nL 328.150585 224.64 \nz\n\" style=\"fill:#1f77b4;fill-opacity:0.75;stroke:#000000;stroke-linejoin:miter;stroke-width:0.111898;\"/>\n   </g>\n   <g id=\"patch_236\">\n    <path clip-path=\"url(#pcbce1fc3a4)\" d=\"M 329.269569 224.64 \nL 330.388553 224.64 \nL 330.388553 224.64 \nL 329.269569 224.64 \nz\n\" style=\"fill:#1f77b4;fill-opacity:0.75;stroke:#000000;stroke-linejoin:miter;stroke-width:0.111898;\"/>\n   </g>\n   <g id=\"patch_237\">\n    <path clip-path=\"url(#pcbce1fc3a4)\" d=\"M 330.388553 224.64 \nL 331.507537 224.64 \nL 331.507537 224.64 \nL 330.388553 224.64 \nz\n\" style=\"fill:#1f77b4;fill-opacity:0.75;stroke:#000000;stroke-linejoin:miter;stroke-width:0.111898;\"/>\n   </g>\n   <g id=\"patch_238\">\n    <path clip-path=\"url(#pcbce1fc3a4)\" d=\"M 331.507537 224.64 \nL 332.626521 224.64 \nL 332.626521 224.64 \nL 331.507537 224.64 \nz\n\" style=\"fill:#1f77b4;fill-opacity:0.75;stroke:#000000;stroke-linejoin:miter;stroke-width:0.111898;\"/>\n   </g>\n   <g id=\"patch_239\">\n    <path clip-path=\"url(#pcbce1fc3a4)\" d=\"M 332.626521 224.64 \nL 333.745505 224.64 \nL 333.745505 224.64 \nL 332.626521 224.64 \nz\n\" style=\"fill:#1f77b4;fill-opacity:0.75;stroke:#000000;stroke-linejoin:miter;stroke-width:0.111898;\"/>\n   </g>\n   <g id=\"patch_240\">\n    <path clip-path=\"url(#pcbce1fc3a4)\" d=\"M 333.745505 224.64 \nL 334.864489 224.64 \nL 334.864489 224.64 \nL 333.745505 224.64 \nz\n\" style=\"fill:#1f77b4;fill-opacity:0.75;stroke:#000000;stroke-linejoin:miter;stroke-width:0.111898;\"/>\n   </g>\n   <g id=\"patch_241\">\n    <path clip-path=\"url(#pcbce1fc3a4)\" d=\"M 334.864489 224.64 \nL 335.983473 224.64 \nL 335.983473 224.64 \nL 334.864489 224.64 \nz\n\" style=\"fill:#1f77b4;fill-opacity:0.75;stroke:#000000;stroke-linejoin:miter;stroke-width:0.111898;\"/>\n   </g>\n   <g id=\"patch_242\">\n    <path clip-path=\"url(#pcbce1fc3a4)\" d=\"M 335.983473 224.64 \nL 337.102457 224.64 \nL 337.102457 224.64 \nL 335.983473 224.64 \nz\n\" style=\"fill:#1f77b4;fill-opacity:0.75;stroke:#000000;stroke-linejoin:miter;stroke-width:0.111898;\"/>\n   </g>\n   <g id=\"patch_243\">\n    <path clip-path=\"url(#pcbce1fc3a4)\" d=\"M 337.102457 224.64 \nL 338.221441 224.64 \nL 338.221441 224.64 \nL 337.102457 224.64 \nz\n\" style=\"fill:#1f77b4;fill-opacity:0.75;stroke:#000000;stroke-linejoin:miter;stroke-width:0.111898;\"/>\n   </g>\n   <g id=\"patch_244\">\n    <path clip-path=\"url(#pcbce1fc3a4)\" d=\"M 338.221441 224.64 \nL 339.340424 224.64 \nL 339.340424 224.64 \nL 338.221441 224.64 \nz\n\" style=\"fill:#1f77b4;fill-opacity:0.75;stroke:#000000;stroke-linejoin:miter;stroke-width:0.111898;\"/>\n   </g>\n   <g id=\"patch_245\">\n    <path clip-path=\"url(#pcbce1fc3a4)\" d=\"M 339.340424 224.64 \nL 340.459408 224.64 \nL 340.459408 224.64 \nL 339.340424 224.64 \nz\n\" style=\"fill:#1f77b4;fill-opacity:0.75;stroke:#000000;stroke-linejoin:miter;stroke-width:0.111898;\"/>\n   </g>\n   <g id=\"patch_246\">\n    <path clip-path=\"url(#pcbce1fc3a4)\" d=\"M 340.459408 224.64 \nL 341.578392 224.64 \nL 341.578392 224.64 \nL 340.459408 224.64 \nz\n\" style=\"fill:#1f77b4;fill-opacity:0.75;stroke:#000000;stroke-linejoin:miter;stroke-width:0.111898;\"/>\n   </g>\n   <g id=\"patch_247\">\n    <path clip-path=\"url(#pcbce1fc3a4)\" d=\"M 341.578392 224.64 \nL 342.697376 224.64 \nL 342.697376 224.64 \nL 341.578392 224.64 \nz\n\" style=\"fill:#1f77b4;fill-opacity:0.75;stroke:#000000;stroke-linejoin:miter;stroke-width:0.111898;\"/>\n   </g>\n   <g id=\"patch_248\">\n    <path clip-path=\"url(#pcbce1fc3a4)\" d=\"M 342.697376 224.64 \nL 343.81636 224.64 \nL 343.81636 224.64 \nL 342.697376 224.64 \nz\n\" style=\"fill:#1f77b4;fill-opacity:0.75;stroke:#000000;stroke-linejoin:miter;stroke-width:0.111898;\"/>\n   </g>\n   <g id=\"patch_249\">\n    <path clip-path=\"url(#pcbce1fc3a4)\" d=\"M 343.81636 224.64 \nL 344.935344 224.64 \nL 344.935344 224.64 \nL 343.81636 224.64 \nz\n\" style=\"fill:#1f77b4;fill-opacity:0.75;stroke:#000000;stroke-linejoin:miter;stroke-width:0.111898;\"/>\n   </g>\n   <g id=\"patch_250\">\n    <path clip-path=\"url(#pcbce1fc3a4)\" d=\"M 344.935344 224.64 \nL 346.054328 224.64 \nL 346.054328 224.64 \nL 344.935344 224.64 \nz\n\" style=\"fill:#1f77b4;fill-opacity:0.75;stroke:#000000;stroke-linejoin:miter;stroke-width:0.111898;\"/>\n   </g>\n   <g id=\"patch_251\">\n    <path clip-path=\"url(#pcbce1fc3a4)\" d=\"M 346.054328 224.64 \nL 347.173312 224.64 \nL 347.173312 224.64 \nL 346.054328 224.64 \nz\n\" style=\"fill:#1f77b4;fill-opacity:0.75;stroke:#000000;stroke-linejoin:miter;stroke-width:0.111898;\"/>\n   </g>\n   <g id=\"patch_252\">\n    <path clip-path=\"url(#pcbce1fc3a4)\" d=\"M 347.173312 224.64 \nL 348.292296 224.64 \nL 348.292296 224.64 \nL 347.173312 224.64 \nz\n\" style=\"fill:#1f77b4;fill-opacity:0.75;stroke:#000000;stroke-linejoin:miter;stroke-width:0.111898;\"/>\n   </g>\n   <g id=\"patch_253\">\n    <path clip-path=\"url(#pcbce1fc3a4)\" d=\"M 348.292296 224.64 \nL 349.41128 224.64 \nL 349.41128 224.64 \nL 348.292296 224.64 \nz\n\" style=\"fill:#1f77b4;fill-opacity:0.75;stroke:#000000;stroke-linejoin:miter;stroke-width:0.111898;\"/>\n   </g>\n   <g id=\"patch_254\">\n    <path clip-path=\"url(#pcbce1fc3a4)\" d=\"M 349.41128 224.64 \nL 350.530264 224.64 \nL 350.530264 224.64 \nL 349.41128 224.64 \nz\n\" style=\"fill:#1f77b4;fill-opacity:0.75;stroke:#000000;stroke-linejoin:miter;stroke-width:0.111898;\"/>\n   </g>\n   <g id=\"patch_255\">\n    <path clip-path=\"url(#pcbce1fc3a4)\" d=\"M 350.530264 224.64 \nL 351.649248 224.64 \nL 351.649248 224.64 \nL 350.530264 224.64 \nz\n\" style=\"fill:#1f77b4;fill-opacity:0.75;stroke:#000000;stroke-linejoin:miter;stroke-width:0.111898;\"/>\n   </g>\n   <g id=\"patch_256\">\n    <path clip-path=\"url(#pcbce1fc3a4)\" d=\"M 351.649248 224.64 \nL 352.768232 224.64 \nL 352.768232 224.64 \nL 351.649248 224.64 \nz\n\" style=\"fill:#1f77b4;fill-opacity:0.75;stroke:#000000;stroke-linejoin:miter;stroke-width:0.111898;\"/>\n   </g>\n   <g id=\"patch_257\">\n    <path clip-path=\"url(#pcbce1fc3a4)\" d=\"M 352.768232 224.64 \nL 353.887216 224.64 \nL 353.887216 224.64 \nL 352.768232 224.64 \nz\n\" style=\"fill:#1f77b4;fill-opacity:0.75;stroke:#000000;stroke-linejoin:miter;stroke-width:0.111898;\"/>\n   </g>\n   <g id=\"patch_258\">\n    <path clip-path=\"url(#pcbce1fc3a4)\" d=\"M 353.887216 224.64 \nL 355.0062 224.64 \nL 355.0062 224.64 \nL 353.887216 224.64 \nz\n\" style=\"fill:#1f77b4;fill-opacity:0.75;stroke:#000000;stroke-linejoin:miter;stroke-width:0.111898;\"/>\n   </g>\n   <g id=\"patch_259\">\n    <path clip-path=\"url(#pcbce1fc3a4)\" d=\"M 355.0062 224.64 \nL 356.125184 224.64 \nL 356.125184 224.64 \nL 355.0062 224.64 \nz\n\" style=\"fill:#1f77b4;fill-opacity:0.75;stroke:#000000;stroke-linejoin:miter;stroke-width:0.111898;\"/>\n   </g>\n   <g id=\"patch_260\">\n    <path clip-path=\"url(#pcbce1fc3a4)\" d=\"M 356.125184 224.64 \nL 357.244168 224.64 \nL 357.244168 224.64 \nL 356.125184 224.64 \nz\n\" style=\"fill:#1f77b4;fill-opacity:0.75;stroke:#000000;stroke-linejoin:miter;stroke-width:0.111898;\"/>\n   </g>\n   <g id=\"patch_261\">\n    <path clip-path=\"url(#pcbce1fc3a4)\" d=\"M 357.244168 224.64 \nL 358.363152 224.64 \nL 358.363152 224.64 \nL 357.244168 224.64 \nz\n\" style=\"fill:#1f77b4;fill-opacity:0.75;stroke:#000000;stroke-linejoin:miter;stroke-width:0.111898;\"/>\n   </g>\n   <g id=\"patch_262\">\n    <path clip-path=\"url(#pcbce1fc3a4)\" d=\"M 358.363152 224.64 \nL 359.482136 224.64 \nL 359.482136 224.64 \nL 358.363152 224.64 \nz\n\" style=\"fill:#1f77b4;fill-opacity:0.75;stroke:#000000;stroke-linejoin:miter;stroke-width:0.111898;\"/>\n   </g>\n   <g id=\"patch_263\">\n    <path clip-path=\"url(#pcbce1fc3a4)\" d=\"M 359.482136 224.64 \nL 360.60112 224.64 \nL 360.60112 224.64 \nL 359.482136 224.64 \nz\n\" style=\"fill:#1f77b4;fill-opacity:0.75;stroke:#000000;stroke-linejoin:miter;stroke-width:0.111898;\"/>\n   </g>\n   <g id=\"patch_264\">\n    <path clip-path=\"url(#pcbce1fc3a4)\" d=\"M 360.60112 224.64 \nL 361.720104 224.64 \nL 361.720104 224.64 \nL 360.60112 224.64 \nz\n\" style=\"fill:#1f77b4;fill-opacity:0.75;stroke:#000000;stroke-linejoin:miter;stroke-width:0.111898;\"/>\n   </g>\n   <g id=\"patch_265\">\n    <path clip-path=\"url(#pcbce1fc3a4)\" d=\"M 361.720104 224.64 \nL 362.839088 224.64 \nL 362.839088 224.64 \nL 361.720104 224.64 \nz\n\" style=\"fill:#1f77b4;fill-opacity:0.75;stroke:#000000;stroke-linejoin:miter;stroke-width:0.111898;\"/>\n   </g>\n   <g id=\"patch_266\">\n    <path clip-path=\"url(#pcbce1fc3a4)\" d=\"M 362.839088 224.64 \nL 363.958072 224.64 \nL 363.958072 224.64 \nL 362.839088 224.64 \nz\n\" style=\"fill:#1f77b4;fill-opacity:0.75;stroke:#000000;stroke-linejoin:miter;stroke-width:0.111898;\"/>\n   </g>\n   <g id=\"patch_267\">\n    <path clip-path=\"url(#pcbce1fc3a4)\" d=\"M 363.958072 224.64 \nL 365.077055 224.64 \nL 365.077055 224.64 \nL 363.958072 224.64 \nz\n\" style=\"fill:#1f77b4;fill-opacity:0.75;stroke:#000000;stroke-linejoin:miter;stroke-width:0.111898;\"/>\n   </g>\n   <g id=\"patch_268\">\n    <path clip-path=\"url(#pcbce1fc3a4)\" d=\"M 365.077055 224.64 \nL 366.196039 224.64 \nL 366.196039 224.64 \nL 365.077055 224.64 \nz\n\" style=\"fill:#1f77b4;fill-opacity:0.75;stroke:#000000;stroke-linejoin:miter;stroke-width:0.111898;\"/>\n   </g>\n   <g id=\"patch_269\">\n    <path clip-path=\"url(#pcbce1fc3a4)\" d=\"M 366.196039 224.64 \nL 367.315023 224.64 \nL 367.315023 224.64 \nL 366.196039 224.64 \nz\n\" style=\"fill:#1f77b4;fill-opacity:0.75;stroke:#000000;stroke-linejoin:miter;stroke-width:0.111898;\"/>\n   </g>\n   <g id=\"patch_270\">\n    <path clip-path=\"url(#pcbce1fc3a4)\" d=\"M 367.315023 224.64 \nL 368.434007 224.64 \nL 368.434007 224.64 \nL 367.315023 224.64 \nz\n\" style=\"fill:#1f77b4;fill-opacity:0.75;stroke:#000000;stroke-linejoin:miter;stroke-width:0.111898;\"/>\n   </g>\n   <g id=\"patch_271\">\n    <path clip-path=\"url(#pcbce1fc3a4)\" d=\"M 368.434007 224.64 \nL 369.552991 224.64 \nL 369.552991 224.64 \nL 368.434007 224.64 \nz\n\" style=\"fill:#1f77b4;fill-opacity:0.75;stroke:#000000;stroke-linejoin:miter;stroke-width:0.111898;\"/>\n   </g>\n   <g id=\"patch_272\">\n    <path clip-path=\"url(#pcbce1fc3a4)\" d=\"M 369.552991 224.64 \nL 370.671975 224.64 \nL 370.671975 224.64 \nL 369.552991 224.64 \nz\n\" style=\"fill:#1f77b4;fill-opacity:0.75;stroke:#000000;stroke-linejoin:miter;stroke-width:0.111898;\"/>\n   </g>\n   <g id=\"patch_273\">\n    <path clip-path=\"url(#pcbce1fc3a4)\" d=\"M 370.671975 224.64 \nL 371.790959 224.64 \nL 371.790959 224.64 \nL 370.671975 224.64 \nz\n\" style=\"fill:#1f77b4;fill-opacity:0.75;stroke:#000000;stroke-linejoin:miter;stroke-width:0.111898;\"/>\n   </g>\n   <g id=\"patch_274\">\n    <path clip-path=\"url(#pcbce1fc3a4)\" d=\"M 371.790959 224.64 \nL 372.909943 224.64 \nL 372.909943 224.573133 \nL 371.790959 224.573133 \nz\n\" style=\"fill:#1f77b4;fill-opacity:0.75;stroke:#000000;stroke-linejoin:miter;stroke-width:0.111898;\"/>\n   </g>\n   <g id=\"matplotlib.axis_1\">\n    <g id=\"xtick_1\">\n     <g id=\"line2d_1\">\n      <defs>\n       <path d=\"M 0 0 \nL 0 3.5 \n\" id=\"m1ccc88b10d\" style=\"stroke:#000000;stroke-width:0.8;\"/>\n      </defs>\n      <g>\n       <use style=\"stroke:#000000;stroke-width:0.8;\" x=\"96.215728\" xlink:href=\"#m1ccc88b10d\" y=\"224.64\"/>\n      </g>\n     </g>\n     <g id=\"text_1\">\n      <!-- 5 -->\n      <g transform=\"translate(93.034478 239.238437)scale(0.1 -0.1)\">\n       <defs>\n        <path d=\"M 10.796875 72.90625 \nL 49.515625 72.90625 \nL 49.515625 64.59375 \nL 19.828125 64.59375 \nL 19.828125 46.734375 \nQ 21.96875 47.46875 24.109375 47.828125 \nQ 26.265625 48.1875 28.421875 48.1875 \nQ 40.625 48.1875 47.75 41.5 \nQ 54.890625 34.8125 54.890625 23.390625 \nQ 54.890625 11.625 47.5625 5.09375 \nQ 40.234375 -1.421875 26.90625 -1.421875 \nQ 22.3125 -1.421875 17.546875 -0.640625 \nQ 12.796875 0.140625 7.71875 1.703125 \nL 7.71875 11.625 \nQ 12.109375 9.234375 16.796875 8.0625 \nQ 21.484375 6.890625 26.703125 6.890625 \nQ 35.15625 6.890625 40.078125 11.328125 \nQ 45.015625 15.765625 45.015625 23.390625 \nQ 45.015625 31 40.078125 35.4375 \nQ 35.15625 39.890625 26.703125 39.890625 \nQ 22.75 39.890625 18.8125 39.015625 \nQ 14.890625 38.140625 10.796875 36.28125 \nz\n\" id=\"DejaVuSans-53\"/>\n       </defs>\n       <use xlink:href=\"#DejaVuSans-53\"/>\n      </g>\n     </g>\n    </g>\n    <g id=\"xtick_2\">\n     <g id=\"line2d_2\">\n      <g>\n       <use style=\"stroke:#000000;stroke-width:0.8;\" x=\"142.331431\" xlink:href=\"#m1ccc88b10d\" y=\"224.64\"/>\n      </g>\n     </g>\n     <g id=\"text_2\">\n      <!-- 10 -->\n      <g transform=\"translate(135.968931 239.238437)scale(0.1 -0.1)\">\n       <defs>\n        <path d=\"M 12.40625 8.296875 \nL 28.515625 8.296875 \nL 28.515625 63.921875 \nL 10.984375 60.40625 \nL 10.984375 69.390625 \nL 28.421875 72.90625 \nL 38.28125 72.90625 \nL 38.28125 8.296875 \nL 54.390625 8.296875 \nL 54.390625 0 \nL 12.40625 0 \nz\n\" id=\"DejaVuSans-49\"/>\n        <path d=\"M 31.78125 66.40625 \nQ 24.171875 66.40625 20.328125 58.90625 \nQ 16.5 51.421875 16.5 36.375 \nQ 16.5 21.390625 20.328125 13.890625 \nQ 24.171875 6.390625 31.78125 6.390625 \nQ 39.453125 6.390625 43.28125 13.890625 \nQ 47.125 21.390625 47.125 36.375 \nQ 47.125 51.421875 43.28125 58.90625 \nQ 39.453125 66.40625 31.78125 66.40625 \nz\nM 31.78125 74.21875 \nQ 44.046875 74.21875 50.515625 64.515625 \nQ 56.984375 54.828125 56.984375 36.375 \nQ 56.984375 17.96875 50.515625 8.265625 \nQ 44.046875 -1.421875 31.78125 -1.421875 \nQ 19.53125 -1.421875 13.0625 8.265625 \nQ 6.59375 17.96875 6.59375 36.375 \nQ 6.59375 54.828125 13.0625 64.515625 \nQ 19.53125 74.21875 31.78125 74.21875 \nz\n\" id=\"DejaVuSans-48\"/>\n       </defs>\n       <use xlink:href=\"#DejaVuSans-49\"/>\n       <use x=\"63.623047\" xlink:href=\"#DejaVuSans-48\"/>\n      </g>\n     </g>\n    </g>\n    <g id=\"xtick_3\">\n     <g id=\"line2d_3\">\n      <g>\n       <use style=\"stroke:#000000;stroke-width:0.8;\" x=\"188.447133\" xlink:href=\"#m1ccc88b10d\" y=\"224.64\"/>\n      </g>\n     </g>\n     <g id=\"text_3\">\n      <!-- 15 -->\n      <g transform=\"translate(182.084633 239.238437)scale(0.1 -0.1)\">\n       <use xlink:href=\"#DejaVuSans-49\"/>\n       <use x=\"63.623047\" xlink:href=\"#DejaVuSans-53\"/>\n      </g>\n     </g>\n    </g>\n    <g id=\"xtick_4\">\n     <g id=\"line2d_4\">\n      <g>\n       <use style=\"stroke:#000000;stroke-width:0.8;\" x=\"234.562836\" xlink:href=\"#m1ccc88b10d\" y=\"224.64\"/>\n      </g>\n     </g>\n     <g id=\"text_4\">\n      <!-- 20 -->\n      <g transform=\"translate(228.200336 239.238437)scale(0.1 -0.1)\">\n       <defs>\n        <path d=\"M 19.1875 8.296875 \nL 53.609375 8.296875 \nL 53.609375 0 \nL 7.328125 0 \nL 7.328125 8.296875 \nQ 12.9375 14.109375 22.625 23.890625 \nQ 32.328125 33.6875 34.8125 36.53125 \nQ 39.546875 41.84375 41.421875 45.53125 \nQ 43.3125 49.21875 43.3125 52.78125 \nQ 43.3125 58.59375 39.234375 62.25 \nQ 35.15625 65.921875 28.609375 65.921875 \nQ 23.96875 65.921875 18.8125 64.3125 \nQ 13.671875 62.703125 7.8125 59.421875 \nL 7.8125 69.390625 \nQ 13.765625 71.78125 18.9375 73 \nQ 24.125 74.21875 28.421875 74.21875 \nQ 39.75 74.21875 46.484375 68.546875 \nQ 53.21875 62.890625 53.21875 53.421875 \nQ 53.21875 48.921875 51.53125 44.890625 \nQ 49.859375 40.875 45.40625 35.40625 \nQ 44.1875 33.984375 37.640625 27.21875 \nQ 31.109375 20.453125 19.1875 8.296875 \nz\n\" id=\"DejaVuSans-50\"/>\n       </defs>\n       <use xlink:href=\"#DejaVuSans-50\"/>\n       <use x=\"63.623047\" xlink:href=\"#DejaVuSans-48\"/>\n      </g>\n     </g>\n    </g>\n    <g id=\"xtick_5\">\n     <g id=\"line2d_5\">\n      <g>\n       <use style=\"stroke:#000000;stroke-width:0.8;\" x=\"280.678538\" xlink:href=\"#m1ccc88b10d\" y=\"224.64\"/>\n      </g>\n     </g>\n     <g id=\"text_5\">\n      <!-- 25 -->\n      <g transform=\"translate(274.316038 239.238437)scale(0.1 -0.1)\">\n       <use xlink:href=\"#DejaVuSans-50\"/>\n       <use x=\"63.623047\" xlink:href=\"#DejaVuSans-53\"/>\n      </g>\n     </g>\n    </g>\n    <g id=\"xtick_6\">\n     <g id=\"line2d_6\">\n      <g>\n       <use style=\"stroke:#000000;stroke-width:0.8;\" x=\"326.794241\" xlink:href=\"#m1ccc88b10d\" y=\"224.64\"/>\n      </g>\n     </g>\n     <g id=\"text_6\">\n      <!-- 30 -->\n      <g transform=\"translate(320.431741 239.238437)scale(0.1 -0.1)\">\n       <defs>\n        <path d=\"M 40.578125 39.3125 \nQ 47.65625 37.796875 51.625 33 \nQ 55.609375 28.21875 55.609375 21.1875 \nQ 55.609375 10.40625 48.1875 4.484375 \nQ 40.765625 -1.421875 27.09375 -1.421875 \nQ 22.515625 -1.421875 17.65625 -0.515625 \nQ 12.796875 0.390625 7.625 2.203125 \nL 7.625 11.71875 \nQ 11.71875 9.328125 16.59375 8.109375 \nQ 21.484375 6.890625 26.8125 6.890625 \nQ 36.078125 6.890625 40.9375 10.546875 \nQ 45.796875 14.203125 45.796875 21.1875 \nQ 45.796875 27.640625 41.28125 31.265625 \nQ 36.765625 34.90625 28.71875 34.90625 \nL 20.21875 34.90625 \nL 20.21875 43.015625 \nL 29.109375 43.015625 \nQ 36.375 43.015625 40.234375 45.921875 \nQ 44.09375 48.828125 44.09375 54.296875 \nQ 44.09375 59.90625 40.109375 62.90625 \nQ 36.140625 65.921875 28.71875 65.921875 \nQ 24.65625 65.921875 20.015625 65.03125 \nQ 15.375 64.15625 9.8125 62.3125 \nL 9.8125 71.09375 \nQ 15.4375 72.65625 20.34375 73.4375 \nQ 25.25 74.21875 29.59375 74.21875 \nQ 40.828125 74.21875 47.359375 69.109375 \nQ 53.90625 64.015625 53.90625 55.328125 \nQ 53.90625 49.265625 50.4375 45.09375 \nQ 46.96875 40.921875 40.578125 39.3125 \nz\n\" id=\"DejaVuSans-51\"/>\n       </defs>\n       <use xlink:href=\"#DejaVuSans-51\"/>\n       <use x=\"63.623047\" xlink:href=\"#DejaVuSans-48\"/>\n      </g>\n     </g>\n    </g>\n    <g id=\"xtick_7\">\n     <g id=\"line2d_7\">\n      <g>\n       <use style=\"stroke:#000000;stroke-width:0.8;\" x=\"372.909943\" xlink:href=\"#m1ccc88b10d\" y=\"224.64\"/>\n      </g>\n     </g>\n     <g id=\"text_7\">\n      <!-- 35 -->\n      <g transform=\"translate(366.547443 239.238437)scale(0.1 -0.1)\">\n       <use xlink:href=\"#DejaVuSans-51\"/>\n       <use x=\"63.623047\" xlink:href=\"#DejaVuSans-53\"/>\n      </g>\n     </g>\n    </g>\n    <g id=\"text_8\">\n     <!-- Number of Visits -->\n     <g transform=\"translate(179.389062 252.916562)scale(0.1 -0.1)\">\n      <defs>\n       <path d=\"M 9.8125 72.90625 \nL 23.09375 72.90625 \nL 55.421875 11.921875 \nL 55.421875 72.90625 \nL 64.984375 72.90625 \nL 64.984375 0 \nL 51.703125 0 \nL 19.390625 60.984375 \nL 19.390625 0 \nL 9.8125 0 \nz\n\" id=\"DejaVuSans-78\"/>\n       <path d=\"M 8.5 21.578125 \nL 8.5 54.6875 \nL 17.484375 54.6875 \nL 17.484375 21.921875 \nQ 17.484375 14.15625 20.5 10.265625 \nQ 23.53125 6.390625 29.59375 6.390625 \nQ 36.859375 6.390625 41.078125 11.03125 \nQ 45.3125 15.671875 45.3125 23.6875 \nL 45.3125 54.6875 \nL 54.296875 54.6875 \nL 54.296875 0 \nL 45.3125 0 \nL 45.3125 8.40625 \nQ 42.046875 3.421875 37.71875 1 \nQ 33.40625 -1.421875 27.6875 -1.421875 \nQ 18.265625 -1.421875 13.375 4.4375 \nQ 8.5 10.296875 8.5 21.578125 \nz\nM 31.109375 56 \nz\n\" id=\"DejaVuSans-117\"/>\n       <path d=\"M 52 44.1875 \nQ 55.375 50.25 60.0625 53.125 \nQ 64.75 56 71.09375 56 \nQ 79.640625 56 84.28125 50.015625 \nQ 88.921875 44.046875 88.921875 33.015625 \nL 88.921875 0 \nL 79.890625 0 \nL 79.890625 32.71875 \nQ 79.890625 40.578125 77.09375 44.375 \nQ 74.3125 48.1875 68.609375 48.1875 \nQ 61.625 48.1875 57.5625 43.546875 \nQ 53.515625 38.921875 53.515625 30.90625 \nL 53.515625 0 \nL 44.484375 0 \nL 44.484375 32.71875 \nQ 44.484375 40.625 41.703125 44.40625 \nQ 38.921875 48.1875 33.109375 48.1875 \nQ 26.21875 48.1875 22.15625 43.53125 \nQ 18.109375 38.875 18.109375 30.90625 \nL 18.109375 0 \nL 9.078125 0 \nL 9.078125 54.6875 \nL 18.109375 54.6875 \nL 18.109375 46.1875 \nQ 21.1875 51.21875 25.484375 53.609375 \nQ 29.78125 56 35.6875 56 \nQ 41.65625 56 45.828125 52.96875 \nQ 50 49.953125 52 44.1875 \nz\n\" id=\"DejaVuSans-109\"/>\n       <path d=\"M 48.6875 27.296875 \nQ 48.6875 37.203125 44.609375 42.84375 \nQ 40.53125 48.484375 33.40625 48.484375 \nQ 26.265625 48.484375 22.1875 42.84375 \nQ 18.109375 37.203125 18.109375 27.296875 \nQ 18.109375 17.390625 22.1875 11.75 \nQ 26.265625 6.109375 33.40625 6.109375 \nQ 40.53125 6.109375 44.609375 11.75 \nQ 48.6875 17.390625 48.6875 27.296875 \nz\nM 18.109375 46.390625 \nQ 20.953125 51.265625 25.265625 53.625 \nQ 29.59375 56 35.59375 56 \nQ 45.5625 56 51.78125 48.09375 \nQ 58.015625 40.1875 58.015625 27.296875 \nQ 58.015625 14.40625 51.78125 6.484375 \nQ 45.5625 -1.421875 35.59375 -1.421875 \nQ 29.59375 -1.421875 25.265625 0.953125 \nQ 20.953125 3.328125 18.109375 8.203125 \nL 18.109375 0 \nL 9.078125 0 \nL 9.078125 75.984375 \nL 18.109375 75.984375 \nz\n\" id=\"DejaVuSans-98\"/>\n       <path d=\"M 56.203125 29.59375 \nL 56.203125 25.203125 \nL 14.890625 25.203125 \nQ 15.484375 15.921875 20.484375 11.0625 \nQ 25.484375 6.203125 34.421875 6.203125 \nQ 39.59375 6.203125 44.453125 7.46875 \nQ 49.3125 8.734375 54.109375 11.28125 \nL 54.109375 2.78125 \nQ 49.265625 0.734375 44.1875 -0.34375 \nQ 39.109375 -1.421875 33.890625 -1.421875 \nQ 20.796875 -1.421875 13.15625 6.1875 \nQ 5.515625 13.8125 5.515625 26.8125 \nQ 5.515625 40.234375 12.765625 48.109375 \nQ 20.015625 56 32.328125 56 \nQ 43.359375 56 49.78125 48.890625 \nQ 56.203125 41.796875 56.203125 29.59375 \nz\nM 47.21875 32.234375 \nQ 47.125 39.59375 43.09375 43.984375 \nQ 39.0625 48.390625 32.421875 48.390625 \nQ 24.90625 48.390625 20.390625 44.140625 \nQ 15.875 39.890625 15.1875 32.171875 \nz\n\" id=\"DejaVuSans-101\"/>\n       <path d=\"M 41.109375 46.296875 \nQ 39.59375 47.171875 37.8125 47.578125 \nQ 36.03125 48 33.890625 48 \nQ 26.265625 48 22.1875 43.046875 \nQ 18.109375 38.09375 18.109375 28.8125 \nL 18.109375 0 \nL 9.078125 0 \nL 9.078125 54.6875 \nL 18.109375 54.6875 \nL 18.109375 46.1875 \nQ 20.953125 51.171875 25.484375 53.578125 \nQ 30.03125 56 36.53125 56 \nQ 37.453125 56 38.578125 55.875 \nQ 39.703125 55.765625 41.0625 55.515625 \nz\n\" id=\"DejaVuSans-114\"/>\n       <path id=\"DejaVuSans-32\"/>\n       <path d=\"M 30.609375 48.390625 \nQ 23.390625 48.390625 19.1875 42.75 \nQ 14.984375 37.109375 14.984375 27.296875 \nQ 14.984375 17.484375 19.15625 11.84375 \nQ 23.34375 6.203125 30.609375 6.203125 \nQ 37.796875 6.203125 41.984375 11.859375 \nQ 46.1875 17.53125 46.1875 27.296875 \nQ 46.1875 37.015625 41.984375 42.703125 \nQ 37.796875 48.390625 30.609375 48.390625 \nz\nM 30.609375 56 \nQ 42.328125 56 49.015625 48.375 \nQ 55.71875 40.765625 55.71875 27.296875 \nQ 55.71875 13.875 49.015625 6.21875 \nQ 42.328125 -1.421875 30.609375 -1.421875 \nQ 18.84375 -1.421875 12.171875 6.21875 \nQ 5.515625 13.875 5.515625 27.296875 \nQ 5.515625 40.765625 12.171875 48.375 \nQ 18.84375 56 30.609375 56 \nz\n\" id=\"DejaVuSans-111\"/>\n       <path d=\"M 37.109375 75.984375 \nL 37.109375 68.5 \nL 28.515625 68.5 \nQ 23.6875 68.5 21.796875 66.546875 \nQ 19.921875 64.59375 19.921875 59.515625 \nL 19.921875 54.6875 \nL 34.71875 54.6875 \nL 34.71875 47.703125 \nL 19.921875 47.703125 \nL 19.921875 0 \nL 10.890625 0 \nL 10.890625 47.703125 \nL 2.296875 47.703125 \nL 2.296875 54.6875 \nL 10.890625 54.6875 \nL 10.890625 58.5 \nQ 10.890625 67.625 15.140625 71.796875 \nQ 19.390625 75.984375 28.609375 75.984375 \nz\n\" id=\"DejaVuSans-102\"/>\n       <path d=\"M 28.609375 0 \nL 0.78125 72.90625 \nL 11.078125 72.90625 \nL 34.1875 11.53125 \nL 57.328125 72.90625 \nL 67.578125 72.90625 \nL 39.796875 0 \nz\n\" id=\"DejaVuSans-86\"/>\n       <path d=\"M 9.421875 54.6875 \nL 18.40625 54.6875 \nL 18.40625 0 \nL 9.421875 0 \nz\nM 9.421875 75.984375 \nL 18.40625 75.984375 \nL 18.40625 64.59375 \nL 9.421875 64.59375 \nz\n\" id=\"DejaVuSans-105\"/>\n       <path d=\"M 44.28125 53.078125 \nL 44.28125 44.578125 \nQ 40.484375 46.53125 36.375 47.5 \nQ 32.28125 48.484375 27.875 48.484375 \nQ 21.1875 48.484375 17.84375 46.4375 \nQ 14.5 44.390625 14.5 40.28125 \nQ 14.5 37.15625 16.890625 35.375 \nQ 19.28125 33.59375 26.515625 31.984375 \nL 29.59375 31.296875 \nQ 39.15625 29.25 43.1875 25.515625 \nQ 47.21875 21.78125 47.21875 15.09375 \nQ 47.21875 7.46875 41.1875 3.015625 \nQ 35.15625 -1.421875 24.609375 -1.421875 \nQ 20.21875 -1.421875 15.453125 -0.5625 \nQ 10.6875 0.296875 5.421875 2 \nL 5.421875 11.28125 \nQ 10.40625 8.6875 15.234375 7.390625 \nQ 20.0625 6.109375 24.8125 6.109375 \nQ 31.15625 6.109375 34.5625 8.28125 \nQ 37.984375 10.453125 37.984375 14.40625 \nQ 37.984375 18.0625 35.515625 20.015625 \nQ 33.0625 21.96875 24.703125 23.78125 \nL 21.578125 24.515625 \nQ 13.234375 26.265625 9.515625 29.90625 \nQ 5.8125 33.546875 5.8125 39.890625 \nQ 5.8125 47.609375 11.28125 51.796875 \nQ 16.75 56 26.8125 56 \nQ 31.78125 56 36.171875 55.265625 \nQ 40.578125 54.546875 44.28125 53.078125 \nz\n\" id=\"DejaVuSans-115\"/>\n       <path d=\"M 18.3125 70.21875 \nL 18.3125 54.6875 \nL 36.8125 54.6875 \nL 36.8125 47.703125 \nL 18.3125 47.703125 \nL 18.3125 18.015625 \nQ 18.3125 11.328125 20.140625 9.421875 \nQ 21.96875 7.515625 27.59375 7.515625 \nL 36.8125 7.515625 \nL 36.8125 0 \nL 27.59375 0 \nQ 17.1875 0 13.234375 3.875 \nQ 9.28125 7.765625 9.28125 18.015625 \nL 9.28125 47.703125 \nL 2.6875 47.703125 \nL 2.6875 54.6875 \nL 9.28125 54.6875 \nL 9.28125 70.21875 \nz\n\" id=\"DejaVuSans-116\"/>\n      </defs>\n      <use xlink:href=\"#DejaVuSans-78\"/>\n      <use x=\"74.804688\" xlink:href=\"#DejaVuSans-117\"/>\n      <use x=\"138.183594\" xlink:href=\"#DejaVuSans-109\"/>\n      <use x=\"235.595703\" xlink:href=\"#DejaVuSans-98\"/>\n      <use x=\"299.072266\" xlink:href=\"#DejaVuSans-101\"/>\n      <use x=\"360.595703\" xlink:href=\"#DejaVuSans-114\"/>\n      <use x=\"401.708984\" xlink:href=\"#DejaVuSans-32\"/>\n      <use x=\"433.496094\" xlink:href=\"#DejaVuSans-111\"/>\n      <use x=\"494.677734\" xlink:href=\"#DejaVuSans-102\"/>\n      <use x=\"529.882812\" xlink:href=\"#DejaVuSans-32\"/>\n      <use x=\"561.669922\" xlink:href=\"#DejaVuSans-86\"/>\n      <use x=\"627.828125\" xlink:href=\"#DejaVuSans-105\"/>\n      <use x=\"655.611328\" xlink:href=\"#DejaVuSans-115\"/>\n      <use x=\"707.710938\" xlink:href=\"#DejaVuSans-105\"/>\n      <use x=\"735.494141\" xlink:href=\"#DejaVuSans-116\"/>\n      <use x=\"774.703125\" xlink:href=\"#DejaVuSans-115\"/>\n     </g>\n    </g>\n   </g>\n   <g id=\"matplotlib.axis_2\">\n    <g id=\"ytick_1\">\n     <g id=\"line2d_8\">\n      <defs>\n       <path d=\"M 0 0 \nL -3.5 0 \n\" id=\"mcff023b8de\" style=\"stroke:#000000;stroke-width:0.8;\"/>\n      </defs>\n      <g>\n       <use style=\"stroke:#000000;stroke-width:0.8;\" x=\"53.328125\" xlink:href=\"#mcff023b8de\" y=\"224.64\"/>\n      </g>\n     </g>\n     <g id=\"text_9\">\n      <!-- 0 -->\n      <g transform=\"translate(39.965625 228.439219)scale(0.1 -0.1)\">\n       <use xlink:href=\"#DejaVuSans-48\"/>\n      </g>\n     </g>\n    </g>\n    <g id=\"ytick_2\">\n     <g id=\"line2d_9\">\n      <g>\n       <use style=\"stroke:#000000;stroke-width:0.8;\" x=\"53.328125\" xlink:href=\"#mcff023b8de\" y=\"191.206724\"/>\n      </g>\n     </g>\n     <g id=\"text_10\">\n      <!-- 500 -->\n      <g transform=\"translate(27.240625 195.005942)scale(0.1 -0.1)\">\n       <use xlink:href=\"#DejaVuSans-53\"/>\n       <use x=\"63.623047\" xlink:href=\"#DejaVuSans-48\"/>\n       <use x=\"127.246094\" xlink:href=\"#DejaVuSans-48\"/>\n      </g>\n     </g>\n    </g>\n    <g id=\"ytick_3\">\n     <g id=\"line2d_10\">\n      <g>\n       <use style=\"stroke:#000000;stroke-width:0.8;\" x=\"53.328125\" xlink:href=\"#mcff023b8de\" y=\"157.773447\"/>\n      </g>\n     </g>\n     <g id=\"text_11\">\n      <!-- 1000 -->\n      <g transform=\"translate(20.878125 161.572666)scale(0.1 -0.1)\">\n       <use xlink:href=\"#DejaVuSans-49\"/>\n       <use x=\"63.623047\" xlink:href=\"#DejaVuSans-48\"/>\n       <use x=\"127.246094\" xlink:href=\"#DejaVuSans-48\"/>\n       <use x=\"190.869141\" xlink:href=\"#DejaVuSans-48\"/>\n      </g>\n     </g>\n    </g>\n    <g id=\"ytick_4\">\n     <g id=\"line2d_11\">\n      <g>\n       <use style=\"stroke:#000000;stroke-width:0.8;\" x=\"53.328125\" xlink:href=\"#mcff023b8de\" y=\"124.340171\"/>\n      </g>\n     </g>\n     <g id=\"text_12\">\n      <!-- 1500 -->\n      <g transform=\"translate(20.878125 128.139389)scale(0.1 -0.1)\">\n       <use xlink:href=\"#DejaVuSans-49\"/>\n       <use x=\"63.623047\" xlink:href=\"#DejaVuSans-53\"/>\n       <use x=\"127.246094\" xlink:href=\"#DejaVuSans-48\"/>\n       <use x=\"190.869141\" xlink:href=\"#DejaVuSans-48\"/>\n      </g>\n     </g>\n    </g>\n    <g id=\"ytick_5\">\n     <g id=\"line2d_12\">\n      <g>\n       <use style=\"stroke:#000000;stroke-width:0.8;\" x=\"53.328125\" xlink:href=\"#mcff023b8de\" y=\"90.906894\"/>\n      </g>\n     </g>\n     <g id=\"text_13\">\n      <!-- 2000 -->\n      <g transform=\"translate(20.878125 94.706113)scale(0.1 -0.1)\">\n       <use xlink:href=\"#DejaVuSans-50\"/>\n       <use x=\"63.623047\" xlink:href=\"#DejaVuSans-48\"/>\n       <use x=\"127.246094\" xlink:href=\"#DejaVuSans-48\"/>\n       <use x=\"190.869141\" xlink:href=\"#DejaVuSans-48\"/>\n      </g>\n     </g>\n    </g>\n    <g id=\"ytick_6\">\n     <g id=\"line2d_13\">\n      <g>\n       <use style=\"stroke:#000000;stroke-width:0.8;\" x=\"53.328125\" xlink:href=\"#mcff023b8de\" y=\"57.473618\"/>\n      </g>\n     </g>\n     <g id=\"text_14\">\n      <!-- 2500 -->\n      <g transform=\"translate(20.878125 61.272837)scale(0.1 -0.1)\">\n       <use xlink:href=\"#DejaVuSans-50\"/>\n       <use x=\"63.623047\" xlink:href=\"#DejaVuSans-53\"/>\n       <use x=\"127.246094\" xlink:href=\"#DejaVuSans-48\"/>\n       <use x=\"190.869141\" xlink:href=\"#DejaVuSans-48\"/>\n      </g>\n     </g>\n    </g>\n    <g id=\"ytick_7\">\n     <g id=\"line2d_14\">\n      <g>\n       <use style=\"stroke:#000000;stroke-width:0.8;\" x=\"53.328125\" xlink:href=\"#mcff023b8de\" y=\"24.040341\"/>\n      </g>\n     </g>\n     <g id=\"text_15\">\n      <!-- 3000 -->\n      <g transform=\"translate(20.878125 27.83956)scale(0.1 -0.1)\">\n       <use xlink:href=\"#DejaVuSans-51\"/>\n       <use x=\"63.623047\" xlink:href=\"#DejaVuSans-48\"/>\n       <use x=\"127.246094\" xlink:href=\"#DejaVuSans-48\"/>\n       <use x=\"190.869141\" xlink:href=\"#DejaVuSans-48\"/>\n      </g>\n     </g>\n    </g>\n    <g id=\"text_16\">\n     <!-- Count -->\n     <g transform=\"translate(14.798438 130.768437)rotate(-90)scale(0.1 -0.1)\">\n      <defs>\n       <path d=\"M 64.40625 67.28125 \nL 64.40625 56.890625 \nQ 59.421875 61.53125 53.78125 63.8125 \nQ 48.140625 66.109375 41.796875 66.109375 \nQ 29.296875 66.109375 22.65625 58.46875 \nQ 16.015625 50.828125 16.015625 36.375 \nQ 16.015625 21.96875 22.65625 14.328125 \nQ 29.296875 6.6875 41.796875 6.6875 \nQ 48.140625 6.6875 53.78125 8.984375 \nQ 59.421875 11.28125 64.40625 15.921875 \nL 64.40625 5.609375 \nQ 59.234375 2.09375 53.4375 0.328125 \nQ 47.65625 -1.421875 41.21875 -1.421875 \nQ 24.65625 -1.421875 15.125 8.703125 \nQ 5.609375 18.84375 5.609375 36.375 \nQ 5.609375 53.953125 15.125 64.078125 \nQ 24.65625 74.21875 41.21875 74.21875 \nQ 47.75 74.21875 53.53125 72.484375 \nQ 59.328125 70.75 64.40625 67.28125 \nz\n\" id=\"DejaVuSans-67\"/>\n       <path d=\"M 54.890625 33.015625 \nL 54.890625 0 \nL 45.90625 0 \nL 45.90625 32.71875 \nQ 45.90625 40.484375 42.875 44.328125 \nQ 39.84375 48.1875 33.796875 48.1875 \nQ 26.515625 48.1875 22.3125 43.546875 \nQ 18.109375 38.921875 18.109375 30.90625 \nL 18.109375 0 \nL 9.078125 0 \nL 9.078125 54.6875 \nL 18.109375 54.6875 \nL 18.109375 46.1875 \nQ 21.34375 51.125 25.703125 53.5625 \nQ 30.078125 56 35.796875 56 \nQ 45.21875 56 50.046875 50.171875 \nQ 54.890625 44.34375 54.890625 33.015625 \nz\n\" id=\"DejaVuSans-110\"/>\n      </defs>\n      <use xlink:href=\"#DejaVuSans-67\"/>\n      <use x=\"69.824219\" xlink:href=\"#DejaVuSans-111\"/>\n      <use x=\"131.005859\" xlink:href=\"#DejaVuSans-117\"/>\n      <use x=\"194.384766\" xlink:href=\"#DejaVuSans-110\"/>\n      <use x=\"257.763672\" xlink:href=\"#DejaVuSans-116\"/>\n     </g>\n    </g>\n   </g>\n   <g id=\"patch_275\">\n    <path d=\"M 53.328125 224.64 \nL 53.328125 7.2 \n\" style=\"fill:none;stroke:#000000;stroke-linecap:square;stroke-linejoin:miter;stroke-width:0.8;\"/>\n   </g>\n   <g id=\"patch_276\">\n    <path d=\"M 388.128125 224.64 \nL 388.128125 7.2 \n\" style=\"fill:none;stroke:#000000;stroke-linecap:square;stroke-linejoin:miter;stroke-width:0.8;\"/>\n   </g>\n   <g id=\"patch_277\">\n    <path d=\"M 53.328125 224.64 \nL 388.128125 224.64 \n\" style=\"fill:none;stroke:#000000;stroke-linecap:square;stroke-linejoin:miter;stroke-width:0.8;\"/>\n   </g>\n   <g id=\"patch_278\">\n    <path d=\"M 53.328125 7.2 \nL 388.128125 7.2 \n\" style=\"fill:none;stroke:#000000;stroke-linecap:square;stroke-linejoin:miter;stroke-width:0.8;\"/>\n   </g>\n  </g>\n </g>\n <defs>\n  <clipPath id=\"pcbce1fc3a4\">\n   <rect height=\"217.44\" width=\"334.8\" x=\"53.328125\" y=\"7.2\"/>\n  </clipPath>\n </defs>\n</svg>\n",
      "image/png": "[encoded data removed]"
     },
     "metadata": {
      "needs_background": "light"
     }
    }
   ],
   "source": [
    "sns.histplot(sessions[sessions['visit_id_count']>1]['visit_id_count'])\n",
    "plt.xlabel('Number of Visits')\n",
    "plt.show()"
   ]
  },
  {
   "cell_type": "code",
   "execution_count": null,
   "metadata": {},
   "outputs": [],
   "source": []
  }
 ]
}