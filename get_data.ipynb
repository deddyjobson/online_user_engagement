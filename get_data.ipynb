{
 "metadata": {
  "language_info": {
   "codemirror_mode": {
    "name": "ipython",
    "version": 3
   },
   "file_extension": ".py",
   "mimetype": "text/x-python",
   "name": "python",
   "nbconvert_exporter": "python",
   "pygments_lexer": "ipython3",
   "version": "3.6.7-final"
  },
  "orig_nbformat": 2,
  "kernelspec": {
   "name": "python36764bitvenvvirtualenv502c06d1f3ea48019a24bffed590f02e",
   "display_name": "Python 3.6.7 64-bit ('venv': virtualenv)",
   "language": "python"
  }
 },
 "nbformat": 4,
 "nbformat_minor": 2,
 "cells": [
  {
   "cell_type": "code",
   "execution_count": 1,
   "metadata": {},
   "outputs": [],
   "source": [
    "import glob\n",
    "import matplotlib.pyplot as plt \n",
    "import pandas as pd \n",
    "import pyarrow.feather as feather\n",
    "import seaborn as sns\n",
    "from zipfile import ZipFile \n",
    "\n",
    "%matplotlib inline"
   ]
  },
  {
   "cell_type": "code",
   "execution_count": 2,
   "metadata": {},
   "outputs": [],
   "source": [
    "CSV_PATH = \"data/2019-Oct.csv\"\n",
    "FEATHER_PATH = \"data/2019-Oct.feather\""
   ]
  },
  {
   "cell_type": "code",
   "execution_count": 3,
   "metadata": {},
   "outputs": [
    {
     "output_type": "stream",
     "name": "stdout",
     "text": [
      "File already downloaded.\n"
     ]
    }
   ],
   "source": [
    "if CSV_PATH not in glob.glob(\"data/*\"):\n",
    "    with ZipFile(\"data/archive.zip\", 'r') as zip: \n",
    "        # printing all the contents of the zip file \n",
    "        zip.printdir() \n",
    "\n",
    "        # extracting all the files \n",
    "        print('Extracting target file now...') \n",
    "        zip.extract(\"2019-Oct.csv\",\"data\") \n",
    "        print('Done!') \n",
    "else:\n",
    "    print(\"File already downloaded.\")"
   ]
  },
  {
   "cell_type": "code",
   "execution_count": 4,
   "metadata": {},
   "outputs": [
    {
     "output_type": "stream",
     "name": "stdout",
     "text": [
      "File already converted.\n"
     ]
    }
   ],
   "source": [
    "if FEATHER_PATH not in glob.glob(\"data/*\"):\n",
    "     temp_data = pd.read_csv(CSV_PATH)\n",
    "     with open(FEATHER_PATH, 'wb') as f:\n",
    "        feather.write_feather(temp_data, f)\n",
    "     del temp_data\n",
    "else:\n",
    "    print(\"File already converted.\")"
   ]
  },
  {
   "cell_type": "code",
   "execution_count": 5,
   "metadata": {},
   "outputs": [
    {
     "output_type": "stream",
     "name": "stdout",
     "text": [
      "CPU times: user 12 s, sys: 3.81 s, total: 15.8 s\nWall time: 23.3 s\n"
     ]
    }
   ],
   "source": [
    "%%time\n",
    "raw_data = feather.read_feather(FEATHER_PATH)"
   ]
  },
  {
   "cell_type": "code",
   "execution_count": 6,
   "metadata": {},
   "outputs": [
    {
     "output_type": "execute_result",
     "data": {
      "text/plain": [
       "(42448764, 9)"
      ]
     },
     "metadata": {},
     "execution_count": 6
    }
   ],
   "source": [
    "raw_data.shape"
   ]
  },
  {
   "cell_type": "code",
   "execution_count": 7,
   "metadata": {},
   "outputs": [
    {
     "output_type": "execute_result",
     "data": {
      "text/plain": [
       "                event_time event_type  product_id          category_id  \\\n",
       "0  2019-10-01 00:00:00 UTC       view    44600062  2103807459595387724   \n",
       "1  2019-10-01 00:00:00 UTC       view     3900821  2053013552326770905   \n",
       "2  2019-10-01 00:00:01 UTC       view    17200506  2053013559792632471   \n",
       "3  2019-10-01 00:00:01 UTC       view     1307067  2053013558920217191   \n",
       "4  2019-10-01 00:00:04 UTC       view     1004237  2053013555631882655   \n",
       "\n",
       "                         category_code     brand    price    user_id  \\\n",
       "0                                 None  shiseido    35.79  541312140   \n",
       "1  appliances.environment.water_heater      aqua    33.20  554748717   \n",
       "2           furniture.living_room.sofa      None   543.10  519107250   \n",
       "3                   computers.notebook    lenovo   251.74  550050854   \n",
       "4               electronics.smartphone     apple  1081.98  535871217   \n",
       "\n",
       "                           user_session  \n",
       "0  72d76fde-8bb3-4e00-8c23-a032dfed738c  \n",
       "1  9333dfbd-b87a-4708-9857-6336556b0fcc  \n",
       "2  566511c2-e2e3-422b-b695-cf8e6e792ca8  \n",
       "3  7c90fc70-0e80-4590-96f3-13c02c18c713  \n",
       "4  c6bd7419-2748-4c56-95b4-8cec9ff8b80d  "
      ],
      "text/html": "<div>\n<style scoped>\n    .dataframe tbody tr th:only-of-type {\n        vertical-align: middle;\n    }\n\n    .dataframe tbody tr th {\n        vertical-align: top;\n    }\n\n    .dataframe thead th {\n        text-align: right;\n    }\n</style>\n<table border=\"1\" class=\"dataframe\">\n  <thead>\n    <tr style=\"text-align: right;\">\n      <th></th>\n      <th>event_time</th>\n      <th>event_type</th>\n      <th>product_id</th>\n      <th>category_id</th>\n      <th>category_code</th>\n      <th>brand</th>\n      <th>price</th>\n      <th>user_id</th>\n      <th>user_session</th>\n    </tr>\n  </thead>\n  <tbody>\n    <tr>\n      <th>0</th>\n      <td>2019-10-01 00:00:00 UTC</td>\n      <td>view</td>\n      <td>44600062</td>\n      <td>2103807459595387724</td>\n      <td>None</td>\n      <td>shiseido</td>\n      <td>35.79</td>\n      <td>541312140</td>\n      <td>72d76fde-8bb3-4e00-8c23-a032dfed738c</td>\n    </tr>\n    <tr>\n      <th>1</th>\n      <td>2019-10-01 00:00:00 UTC</td>\n      <td>view</td>\n      <td>3900821</td>\n      <td>2053013552326770905</td>\n      <td>appliances.environment.water_heater</td>\n      <td>aqua</td>\n      <td>33.20</td>\n      <td>554748717</td>\n      <td>9333dfbd-b87a-4708-9857-6336556b0fcc</td>\n    </tr>\n    <tr>\n      <th>2</th>\n      <td>2019-10-01 00:00:01 UTC</td>\n      <td>view</td>\n      <td>17200506</td>\n      <td>2053013559792632471</td>\n      <td>furniture.living_room.sofa</td>\n      <td>None</td>\n      <td>543.10</td>\n      <td>519107250</td>\n      <td>566511c2-e2e3-422b-b695-cf8e6e792ca8</td>\n    </tr>\n    <tr>\n      <th>3</th>\n      <td>2019-10-01 00:00:01 UTC</td>\n      <td>view</td>\n      <td>1307067</td>\n      <td>2053013558920217191</td>\n      <td>computers.notebook</td>\n      <td>lenovo</td>\n      <td>251.74</td>\n      <td>550050854</td>\n      <td>7c90fc70-0e80-4590-96f3-13c02c18c713</td>\n    </tr>\n    <tr>\n      <th>4</th>\n      <td>2019-10-01 00:00:04 UTC</td>\n      <td>view</td>\n      <td>1004237</td>\n      <td>2053013555631882655</td>\n      <td>electronics.smartphone</td>\n      <td>apple</td>\n      <td>1081.98</td>\n      <td>535871217</td>\n      <td>c6bd7419-2748-4c56-95b4-8cec9ff8b80d</td>\n    </tr>\n  </tbody>\n</table>\n</div>"
     },
     "metadata": {},
     "execution_count": 7
    }
   ],
   "source": [
    "raw_data.head()"
   ]
  },
  {
   "source": [
    "### Types of events"
   ],
   "cell_type": "markdown",
   "metadata": {}
  },
  {
   "cell_type": "code",
   "execution_count": 8,
   "metadata": {},
   "outputs": [
    {
     "output_type": "execute_result",
     "data": {
      "text/plain": [
       "array(['view', 'purchase', 'cart'], dtype=object)"
      ]
     },
     "metadata": {},
     "execution_count": 8
    }
   ],
   "source": [
    "raw_data['event_type'].unique()"
   ]
  },
  {
   "cell_type": "code",
   "execution_count": 9,
   "metadata": {},
   "outputs": [
    {
     "output_type": "execute_result",
     "data": {
      "text/plain": [
       "547107643"
      ]
     },
     "metadata": {},
     "execution_count": 9
    }
   ],
   "source": [
    "sample_user_id = raw_data[raw_data['event_type']=='purchase'].iloc[1000]['user_id']\n",
    "sample_user_id"
   ]
  },
  {
   "cell_type": "code",
   "execution_count": 10,
   "metadata": {},
   "outputs": [
    {
     "output_type": "execute_result",
     "data": {
      "text/plain": [
       "                       event_time event_type  product_id          category_id  \\\n",
       "62114     2019-10-01 03:47:10 UTC       view    36200039  2071489994601529806   \n",
       "63801     2019-10-01 03:49:11 UTC   purchase    36200039  2071489994601529806   \n",
       "12979539  2019-10-11 04:18:20 UTC       view     1004858  2053013555631882655   \n",
       "12983352  2019-10-11 04:21:57 UTC   purchase     1004858  2053013555631882655   \n",
       "13810289  2019-10-11 14:32:12 UTC       view     3700926  2053013565983425517   \n",
       "13812803  2019-10-11 14:33:42 UTC   purchase     3700926  2053013565983425517   \n",
       "13813571  2019-10-11 14:34:09 UTC       view     3700926  2053013565983425517   \n",
       "13814048  2019-10-11 14:34:26 UTC       view     3700926  2053013565983425517   \n",
       "13814170  2019-10-11 14:34:31 UTC       cart     3700926  2053013565983425517   \n",
       "13815160  2019-10-11 14:35:05 UTC   purchase     3700926  2053013565983425517   \n",
       "\n",
       "                          category_code    brand   price    user_id  \\\n",
       "62114                              None     None    5.02  547107643   \n",
       "63801                              None     None    5.02  547107643   \n",
       "12979539         electronics.smartphone  samsung  131.64  547107643   \n",
       "12983352         electronics.smartphone  samsung  131.64  547107643   \n",
       "13810289  appliances.environment.vacuum  samsung   64.02  547107643   \n",
       "13812803  appliances.environment.vacuum  samsung   64.02  547107643   \n",
       "13813571  appliances.environment.vacuum  samsung   64.02  547107643   \n",
       "13814048  appliances.environment.vacuum  samsung   64.02  547107643   \n",
       "13814170  appliances.environment.vacuum  samsung   64.02  547107643   \n",
       "13815160  appliances.environment.vacuum  samsung   64.02  547107643   \n",
       "\n",
       "                                  user_session  \n",
       "62114     b63b37e9-cc00-4641-971d-e20ce8a544b7  \n",
       "63801     b63b37e9-cc00-4641-971d-e20ce8a544b7  \n",
       "12979539  e154fb82-dc7d-47f4-bf9b-94ca8b779f9f  \n",
       "12983352  e154fb82-dc7d-47f4-bf9b-94ca8b779f9f  \n",
       "13810289  99d9a1dd-858a-46b1-9f58-9097cbec2127  \n",
       "13812803  99d9a1dd-858a-46b1-9f58-9097cbec2127  \n",
       "13813571  99d9a1dd-858a-46b1-9f58-9097cbec2127  \n",
       "13814048  99d9a1dd-858a-46b1-9f58-9097cbec2127  \n",
       "13814170  99d9a1dd-858a-46b1-9f58-9097cbec2127  \n",
       "13815160  99d9a1dd-858a-46b1-9f58-9097cbec2127  "
      ],
      "text/html": "<div>\n<style scoped>\n    .dataframe tbody tr th:only-of-type {\n        vertical-align: middle;\n    }\n\n    .dataframe tbody tr th {\n        vertical-align: top;\n    }\n\n    .dataframe thead th {\n        text-align: right;\n    }\n</style>\n<table border=\"1\" class=\"dataframe\">\n  <thead>\n    <tr style=\"text-align: right;\">\n      <th></th>\n      <th>event_time</th>\n      <th>event_type</th>\n      <th>product_id</th>\n      <th>category_id</th>\n      <th>category_code</th>\n      <th>brand</th>\n      <th>price</th>\n      <th>user_id</th>\n      <th>user_session</th>\n    </tr>\n  </thead>\n  <tbody>\n    <tr>\n      <th>62114</th>\n      <td>2019-10-01 03:47:10 UTC</td>\n      <td>view</td>\n      <td>36200039</td>\n      <td>2071489994601529806</td>\n      <td>None</td>\n      <td>None</td>\n      <td>5.02</td>\n      <td>547107643</td>\n      <td>b63b37e9-cc00-4641-971d-e20ce8a544b7</td>\n    </tr>\n    <tr>\n      <th>63801</th>\n      <td>2019-10-01 03:49:11 UTC</td>\n      <td>purchase</td>\n      <td>36200039</td>\n      <td>2071489994601529806</td>\n      <td>None</td>\n      <td>None</td>\n      <td>5.02</td>\n      <td>547107643</td>\n      <td>b63b37e9-cc00-4641-971d-e20ce8a544b7</td>\n    </tr>\n    <tr>\n      <th>12979539</th>\n      <td>2019-10-11 04:18:20 UTC</td>\n      <td>view</td>\n      <td>1004858</td>\n      <td>2053013555631882655</td>\n      <td>electronics.smartphone</td>\n      <td>samsung</td>\n      <td>131.64</td>\n      <td>547107643</td>\n      <td>e154fb82-dc7d-47f4-bf9b-94ca8b779f9f</td>\n    </tr>\n    <tr>\n      <th>12983352</th>\n      <td>2019-10-11 04:21:57 UTC</td>\n      <td>purchase</td>\n      <td>1004858</td>\n      <td>2053013555631882655</td>\n      <td>electronics.smartphone</td>\n      <td>samsung</td>\n      <td>131.64</td>\n      <td>547107643</td>\n      <td>e154fb82-dc7d-47f4-bf9b-94ca8b779f9f</td>\n    </tr>\n    <tr>\n      <th>13810289</th>\n      <td>2019-10-11 14:32:12 UTC</td>\n      <td>view</td>\n      <td>3700926</td>\n      <td>2053013565983425517</td>\n      <td>appliances.environment.vacuum</td>\n      <td>samsung</td>\n      <td>64.02</td>\n      <td>547107643</td>\n      <td>99d9a1dd-858a-46b1-9f58-9097cbec2127</td>\n    </tr>\n    <tr>\n      <th>13812803</th>\n      <td>2019-10-11 14:33:42 UTC</td>\n      <td>purchase</td>\n      <td>3700926</td>\n      <td>2053013565983425517</td>\n      <td>appliances.environment.vacuum</td>\n      <td>samsung</td>\n      <td>64.02</td>\n      <td>547107643</td>\n      <td>99d9a1dd-858a-46b1-9f58-9097cbec2127</td>\n    </tr>\n    <tr>\n      <th>13813571</th>\n      <td>2019-10-11 14:34:09 UTC</td>\n      <td>view</td>\n      <td>3700926</td>\n      <td>2053013565983425517</td>\n      <td>appliances.environment.vacuum</td>\n      <td>samsung</td>\n      <td>64.02</td>\n      <td>547107643</td>\n      <td>99d9a1dd-858a-46b1-9f58-9097cbec2127</td>\n    </tr>\n    <tr>\n      <th>13814048</th>\n      <td>2019-10-11 14:34:26 UTC</td>\n      <td>view</td>\n      <td>3700926</td>\n      <td>2053013565983425517</td>\n      <td>appliances.environment.vacuum</td>\n      <td>samsung</td>\n      <td>64.02</td>\n      <td>547107643</td>\n      <td>99d9a1dd-858a-46b1-9f58-9097cbec2127</td>\n    </tr>\n    <tr>\n      <th>13814170</th>\n      <td>2019-10-11 14:34:31 UTC</td>\n      <td>cart</td>\n      <td>3700926</td>\n      <td>2053013565983425517</td>\n      <td>appliances.environment.vacuum</td>\n      <td>samsung</td>\n      <td>64.02</td>\n      <td>547107643</td>\n      <td>99d9a1dd-858a-46b1-9f58-9097cbec2127</td>\n    </tr>\n    <tr>\n      <th>13815160</th>\n      <td>2019-10-11 14:35:05 UTC</td>\n      <td>purchase</td>\n      <td>3700926</td>\n      <td>2053013565983425517</td>\n      <td>appliances.environment.vacuum</td>\n      <td>samsung</td>\n      <td>64.02</td>\n      <td>547107643</td>\n      <td>99d9a1dd-858a-46b1-9f58-9097cbec2127</td>\n    </tr>\n  </tbody>\n</table>\n</div>"
     },
     "metadata": {},
     "execution_count": 10
    }
   ],
   "source": [
    "raw_data[raw_data['user_id']==sample_user_id].head(10)"
   ]
  }
 ]
}